{
 "cells": [
  {
   "cell_type": "code",
   "execution_count": 10,
   "metadata": {
    "pycharm": {
     "is_executing": false
    }
   },
   "outputs": [
    {
     "name": "stdout",
     "text": [
      "The autoreload extension is already loaded. To reload it, use:\n  %reload_ext autoreload\n"
     ],
     "output_type": "stream"
    }
   ],
   "source": [
    "%load_ext autoreload\n",
    "%autoreload 2\n",
    "from IPython.display import display\n",
    "from pkdb_analysis import PKFilter, PKFilterFactory, PKData, PKDB\n",
    "import pandas as pd"
   ]
  },
  {
   "cell_type": "markdown",
   "metadata": {},
   "source": [
    "# Curation and checking of studies\n",
    "Helpers for simple checking of curated results."
   ]
  },
  {
   "cell_type": "code",
   "execution_count": 11,
   "metadata": {
    "pycharm": {
     "is_executing": false
    }
   },
   "outputs": [
    {
     "name": "stderr",
     "text": [
      "WARNING *** Querying data ***\n",
      "WARNING http://0.0.0.0:8000/api/v1/interventions/?format=json&page_size=2000&normed=true&study_name=Test1\n",
      "WARNING http://0.0.0.0:8000/api/v1/interventions/?format=json&page_size=2000&normed=true&study_name=Test1&page=1\n",
      "WARNING http://0.0.0.0:8000/api/v1/characteristica_individuals/?format=json&page_size=2000&study_name=Test1\n",
      "WARNING http://0.0.0.0:8000/api/v1/characteristica_individuals/?format=json&page_size=2000&study_name=Test1&page=1\n",
      "WARNING http://0.0.0.0:8000/api/v1/characteristica_groups/?format=json&page_size=2000&study_name=Test1\n",
      "WARNING http://0.0.0.0:8000/api/v1/characteristica_groups/?format=json&page_size=2000&study_name=Test1&page=1\n",
      "WARNING http://0.0.0.0:8000/api/v1/output_intervention/?format=json&page_size=2000&normed=true&study_name=Test1\n",
      "WARNING http://0.0.0.0:8000/api/v1/output_intervention/?format=json&page_size=2000&normed=true&study_name=Test1&page=1\n",
      "WARNING http://0.0.0.0:8000/api/v1/timecourse_intervention/?format=json&page_size=2000&normed=true&study_name=Test1\n",
      "WARNING http://0.0.0.0:8000/api/v1/timecourse_intervention/?format=json&page_size=2000&normed=true&study_name=Test1&page=1\n"
     ],
     "output_type": "stream"
    },
    {
     "name": "stdout",
     "text": [
      "------------------------------\nPKData (140024242313104)\n------------------------------\nstudies             0 \ngroups              0  (    0)\nindividuals         0  (    0)\ninterventions       0  (    0)\noutputs             0  (    0)\ntimecourses         0  (    0)\n------------------------------\n"
     ],
     "output_type": "stream"
    }
   ],
   "source": [
    "# get data for study\n",
    "study_name = \"Test1\"\n",
    "pkfilter = PKFilterFactory.by_study_name(study_name)\n",
    "data = PKDB.query(pkfilter=pkfilter)\n",
    "print(data)"
   ]
  },
  {
   "cell_type": "markdown",
   "metadata": {},
   "source": [
    "## Explore data content"
   ]
  },
  {
   "cell_type": "code",
   "execution_count": 12,
   "metadata": {
    "pycharm": {
     "is_executing": false
    }
   },
   "outputs": [
    {
     "name": "stdout",
     "text": [
      "set()\nset()\n"
     ],
     "output_type": "stream"
    }
   ],
   "source": [
    "print(data.groups.pks)\n",
    "print(data.individuals.pks)"
   ]
  },
  {
   "cell_type": "code",
   "execution_count": 13,
   "metadata": {
    "pycharm": {
     "is_executing": false
    }
   },
   "outputs": [
    {
     "data": {
      "text/plain": "Empty DataFrame\nColumns: []\nIndex: []",
      "text/html": "<div>\n<style scoped>\n    .dataframe tbody tr th:only-of-type {\n        vertical-align: middle;\n    }\n\n    .dataframe tbody tr th {\n        vertical-align: top;\n    }\n\n    .dataframe thead th {\n        text-align: right;\n    }\n</style>\n<table border=\"1\" class=\"dataframe\">\n  <thead>\n    <tr style=\"text-align: right;\">\n      <th></th>\n    </tr>\n  </thead>\n  <tbody>\n  </tbody>\n</table>\n</div>"
     },
     "metadata": {},
     "output_type": "display_data"
    },
    {
     "data": {
      "text/plain": "Empty DataFrame\nColumns: []\nIndex: []",
      "text/html": "<div>\n<style scoped>\n    .dataframe tbody tr th:only-of-type {\n        vertical-align: middle;\n    }\n\n    .dataframe tbody tr th {\n        vertical-align: top;\n    }\n\n    .dataframe thead th {\n        text-align: right;\n    }\n</style>\n<table border=\"1\" class=\"dataframe\">\n  <thead>\n    <tr style=\"text-align: right;\">\n      <th></th>\n    </tr>\n  </thead>\n  <tbody>\n  </tbody>\n</table>\n</div>"
     },
     "metadata": {},
     "output_type": "display_data"
    },
    {
     "data": {
      "text/plain": "Empty DataFrame\nColumns: []\nIndex: []",
      "text/html": "<div>\n<style scoped>\n    .dataframe tbody tr th:only-of-type {\n        vertical-align: middle;\n    }\n\n    .dataframe tbody tr th {\n        vertical-align: top;\n    }\n\n    .dataframe thead th {\n        text-align: right;\n    }\n</style>\n<table border=\"1\" class=\"dataframe\">\n  <thead>\n    <tr style=\"text-align: right;\">\n      <th></th>\n    </tr>\n  </thead>\n  <tbody>\n  </tbody>\n</table>\n</div>"
     },
     "metadata": {},
     "output_type": "display_data"
    },
    {
     "data": {
      "text/plain": "Empty DataFrame\nColumns: []\nIndex: []",
      "text/html": "<div>\n<style scoped>\n    .dataframe tbody tr th:only-of-type {\n        vertical-align: middle;\n    }\n\n    .dataframe tbody tr th {\n        vertical-align: top;\n    }\n\n    .dataframe thead th {\n        text-align: right;\n    }\n</style>\n<table border=\"1\" class=\"dataframe\">\n  <thead>\n    <tr style=\"text-align: right;\">\n      <th></th>\n    </tr>\n  </thead>\n  <tbody>\n  </tbody>\n</table>\n</div>"
     },
     "metadata": {},
     "output_type": "display_data"
    },
    {
     "data": {
      "text/plain": "Empty DataFrame\nColumns: []\nIndex: []",
      "text/html": "<div>\n<style scoped>\n    .dataframe tbody tr th:only-of-type {\n        vertical-align: middle;\n    }\n\n    .dataframe tbody tr th {\n        vertical-align: top;\n    }\n\n    .dataframe thead th {\n        text-align: right;\n    }\n</style>\n<table border=\"1\" class=\"dataframe\">\n  <thead>\n    <tr style=\"text-align: right;\">\n      <th></th>\n    </tr>\n  </thead>\n  <tbody>\n  </tbody>\n</table>\n</div>"
     },
     "metadata": {},
     "output_type": "display_data"
    }
   ],
   "source": [
    "with pd.option_context('display.max_rows', None, 'display.max_columns', None):\n",
    "    display(data.groups_mi)\n",
    "    \n",
    "display(data.individuals_mi)\n",
    "display(data.interventions_mi)\n",
    "display(data.outputs_mi)\n",
    "display(data.timecourses_mi)"
   ]
  },
  {
   "cell_type": "code",
   "execution_count": 5,
   "metadata": {
    "pycharm": {
     "is_executing": false
    }
   },
   "outputs": [],
   "source": []
  }
 ],
 "metadata": {
  "kernelspec": {
   "display_name": "pkdb_analysis",
   "language": "python",
   "name": "pkdb_analysis"
  },
  "language_info": {
   "codemirror_mode": {
    "name": "ipython",
    "version": 3
   },
   "file_extension": ".py",
   "mimetype": "text/x-python",
   "name": "python",
   "nbconvert_exporter": "python",
   "pygments_lexer": "ipython3",
   "version": "3.7.6"
  },
  "pycharm": {
   "stem_cell": {
    "cell_type": "raw",
    "source": [],
    "metadata": {
     "collapsed": false
    }
   }
  }
 },
 "nbformat": 4,
 "nbformat_minor": 4
}