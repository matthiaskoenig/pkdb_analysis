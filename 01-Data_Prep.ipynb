{
 "cells": [
  {
   "cell_type": "markdown",
   "metadata": {},
   "source": [
    "## Analysis_Caffeine\n",
    "This project demonstrated the usage of pkdb for the test substance caffeine.\n",
    "### Data Sources\n",
    "- pkdb rest api : \"http://0.0.0.0:8000/api/v1/\"\n",
    "\n",
    "### Outputs:\n",
    "- data/processed/outputs.tsv\n",
    "- data/processed/timecourses.tsv\n",
    "- data/processed/interventions.tsv\n",
    "- data/processed/individuals.tsv\n",
    "- data/processed/groups.tsv\n",
    "\n",
    "#### Groups and Individuals \n",
    "- data/processed/all_subjects.tsv\n",
    "\n",
    "### Merged Dataframes\n",
    "- data/processed/all_subjects.tsv\n",
    "\n",
    "### Normalized Dataframes\n",
    "- data/processed/all_subjects.tsv\n",
    "\n",
    "### Changes\n",
    "- 11-29-2018 : Started project"
   ]
  },
  {
   "cell_type": "code",
   "execution_count": null,
   "metadata": {},
   "outputs": [],
   "source": []
  },
  {
   "cell_type": "code",
   "execution_count": 41,
   "metadata": {},
   "outputs": [
    {
     "name": "stdout",
     "output_type": "stream",
     "text": [
      "The autoreload extension is already loaded. To reload it, use:\n",
      "  %reload_ext autoreload\n"
     ]
    }
   ],
   "source": [
    "%load_ext autoreload\n",
    "%autoreload 2"
   ]
  },
  {
   "cell_type": "code",
   "execution_count": 42,
   "metadata": {},
   "outputs": [],
   "source": [
    "from utils import PkdbModel , Preprocessed\n",
    "import pandas as pd\n"
   ]
  },
  {
   "cell_type": "code",
   "execution_count": 43,
   "metadata": {},
   "outputs": [],
   "source": [
    "queries = ['outputs','timecourses','interventions','individuals','groups',\"studies\",\"substances\"]\n",
    "#queries = [\"studies\",\"substances\"]"
   ]
  },
  {
   "cell_type": "markdown",
   "metadata": {},
   "source": [
    "### Query, Process and Save\n",
    "Json data is loaded, transformed to dataframes, preprocessed and saved as tab seperated files."
   ]
  },
  {
   "cell_type": "code",
   "execution_count": 44,
   "metadata": {},
   "outputs": [
    {
     "name": "stdout",
     "output_type": "stream",
     "text": [
      "____________________________________________________________\n",
      "Name: outputs\n",
      "Loaded: True\n",
      "Preprocessed: True\n",
      "saved: True\n",
      "outputs were succsesfully saved to </home/janekg89/Develop/Pycharm_Projects/pkdb_analysis/data/1-preprocessed/outputs.tsv>\n",
      "____________________________________________________________\n",
      "Name: timecourses\n",
      "Loaded: True\n",
      "Preprocessed: True\n",
      "saved: True\n",
      "timecourses were succsesfully saved to </home/janekg89/Develop/Pycharm_Projects/pkdb_analysis/data/1-preprocessed/timecourses.tsv>\n",
      "____________________________________________________________\n",
      "Name: interventions\n",
      "Loaded: True\n",
      "Preprocessed: True\n",
      "saved: True\n",
      "interventions were succsesfully saved to </home/janekg89/Develop/Pycharm_Projects/pkdb_analysis/data/1-preprocessed/interventions.tsv>\n",
      "____________________________________________________________\n",
      "Name: individuals\n",
      "Loaded: True\n",
      "Preprocessed: True\n",
      "saved: True\n",
      "individuals were succsesfully saved to </home/janekg89/Develop/Pycharm_Projects/pkdb_analysis/data/1-preprocessed/individuals.tsv>\n",
      "____________________________________________________________\n",
      "Name: groups\n",
      "Loaded: True\n",
      "Preprocessed: True\n",
      "saved: True\n",
      "groups were succsesfully saved to </home/janekg89/Develop/Pycharm_Projects/pkdb_analysis/data/1-preprocessed/groups.tsv>\n",
      "____________________________________________________________\n",
      "Name: studies\n",
      "Loaded: True\n",
      "Preprocessed: True\n",
      "saved: True\n",
      "studies were succsesfully saved to </home/janekg89/Develop/Pycharm_Projects/pkdb_analysis/data/1-preprocessed/studies.tsv>\n",
      "____________________________________________________________\n",
      "Name: substances\n",
      "Loaded: True\n",
      "Preprocessed: True\n",
      "saved: True\n",
      "substances were succsesfully saved to </home/janekg89/Develop/Pycharm_Projects/pkdb_analysis/data/1-preprocessed/substances.tsv>\n"
     ]
    }
   ],
   "source": [
    "for pk_instance in queries:\n",
    "    pk_instance = PkdbModel(pk_instance)  \n",
    "    pk_instance.load()\n",
    "    pk_instance.preprocess()\n",
    "    pk_instance.save()\n",
    "    pk_instance.report()"
   ]
  },
  {
   "cell_type": "markdown",
   "metadata": {},
   "source": [
    "### Convert Units\n"
   ]
  },
  {
   "cell_type": "code",
   "execution_count": null,
   "metadata": {},
   "outputs": [],
   "source": [
    "this_data = PkdbModel('timecourses',destination='1-preprocessed')\n",
    "this_data.read()\n",
    "this_data.data.groupby([\"pktype\",\"unit\"]).count()"
   ]
  },
  {
   "cell_type": "markdown",
   "metadata": {},
   "source": [
    "### Merge\n",
    " - merge individuals and groups  --> all_subjects,\n",
    " - merge outputs and timecourses --> all_results, \n",
    " - merge all_results with interventions and individuals  --> individuals_complete, \n",
    " - merge all_results with interventions and groups  --> groups_complete, \n",
    " - merge all_results with interventions and all_subjects -->  all_complete"
   ]
  },
  {
   "cell_type": "code",
   "execution_count": 6,
   "metadata": {},
   "outputs": [],
   "source": [
    "prepocessed = Preprocessed()"
   ]
  },
  {
   "cell_type": "code",
   "execution_count": 7,
   "metadata": {},
   "outputs": [
    {
     "name": "stderr",
     "output_type": "stream",
     "text": [
      "/home/janekg89/Develop/Pycharm_Projects/pkdb_analysis/utils.py:381: FutureWarning: Sorting because non-concatenation axis is not aligned. A future version\n",
      "of pandas will change to not sort by default.\n",
      "\n",
      "To accept the future behavior, pass 'sort=False'.\n",
      "\n",
      "To retain the current behavior and silence the warning, pass 'sort=True'.\n",
      "\n",
      "  df = pd.concat([self.individuals.data,self.groups.data], keys=[\"individual\",\"group\"])\n",
      "/home/janekg89/Develop/Pycharm_Projects/pkdb_analysis/utils.py:392: FutureWarning: Sorting because non-concatenation axis is not aligned. A future version\n",
      "of pandas will change to not sort by default.\n",
      "\n",
      "To accept the future behavior, pass 'sort=False'.\n",
      "\n",
      "To retain the current behavior and silence the warning, pass 'sort=True'.\n",
      "\n",
      "  df = pd.concat([self.outputs.data,self.timecourses.data], keys=[\"outputs\",\"timecourses\"])\n",
      "/home/janekg89/Envs/pkdb_analysis/lib/python3.6/site-packages/pandas/core/reshape/merge.py:544: UserWarning: merging between different levels can give an unintended result (1 levels on the left, 2 on the right)\n",
      "  warnings.warn(msg, UserWarning)\n",
      "/home/janekg89/Envs/pkdb_analysis/lib/python3.6/site-packages/pandas/core/generic.py:3111: PerformanceWarning: dropping on a non-lexsorted multi-index without a level parameter may impact performance.\n",
      "  obj = obj._drop_axis(labels, axis, level=level, errors=errors)\n"
     ]
    }
   ],
   "source": [
    "prepocessed.read()\n",
    "prepocessed.merge()\n",
    "prepocessed.save()"
   ]
  }
 ],
 "metadata": {
  "kernelspec": {
   "display_name": "pkdb_analysis",
   "language": "python",
   "name": "pkdb_analysis"
  },
  "language_info": {
   "codemirror_mode": {
    "name": "ipython",
    "version": 3
   },
   "file_extension": ".py",
   "mimetype": "text/x-python",
   "name": "python",
   "nbconvert_exporter": "python",
   "pygments_lexer": "ipython3",
   "version": "3.6.7"
  }
 },
 "nbformat": 4,
 "nbformat_minor": 2
}
