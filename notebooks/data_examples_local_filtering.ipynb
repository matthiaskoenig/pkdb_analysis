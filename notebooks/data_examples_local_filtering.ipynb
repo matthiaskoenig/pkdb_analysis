{
 "cells": [
  {
   "cell_type": "code",
   "execution_count": 34,
   "metadata": {},
   "outputs": [
    {
     "name": "stdout",
     "output_type": "stream",
     "text": [
      "The autoreload extension is already loaded. To reload it, use:\n",
      "  %reload_ext autoreload\n"
     ]
    }
   ],
   "source": [
    "%load_ext autoreload\n",
    "%autoreload 2\n",
    "from IPython.display import display\n",
    "from pkdb_analysis import PKFilter, PKData\n",
    "import copy\n",
    "import pandas as pd\n",
    "from numba import njit\n"
   ]
  },
  {
   "cell_type": "code",
   "execution_count": 35,
   "metadata": {},
   "outputs": [
    {
     "name": "stderr",
     "output_type": "stream",
     "text": [
      "WARNING:root:*** Querying data ***\n",
      "WARNING:root:http://0.0.0.0:8000/api/v1/interventions_elastic/?format=json&page_size=2000&normed=true\n",
      "WARNING:root:http://0.0.0.0:8000/api/v1/interventions_elastic/?format=json&page_size=2000&normed=true&page=1\n",
      "WARNING:root:http://0.0.0.0:8000/api/v1/characteristica_individuals/?format=json&page_size=2000\n",
      "WARNING:root:http://0.0.0.0:8000/api/v1/characteristica_individuals/?format=json&page_size=2000&page=1\n",
      "WARNING:root:http://0.0.0.0:8000/api/v1/characteristica_individuals/?format=json&page_size=2000&page=2\n",
      "WARNING:root:http://0.0.0.0:8000/api/v1/characteristica_individuals/?format=json&page_size=2000&page=3\n",
      "WARNING:root:http://0.0.0.0:8000/api/v1/characteristica_individuals/?format=json&page_size=2000&page=4\n",
      "WARNING:root:http://0.0.0.0:8000/api/v1/characteristica_individuals/?format=json&page_size=2000&page=5\n",
      "WARNING:root:http://0.0.0.0:8000/api/v1/characteristica_individuals/?format=json&page_size=2000&page=6\n",
      "WARNING:root:http://0.0.0.0:8000/api/v1/characteristica_individuals/?format=json&page_size=2000&page=7\n",
      "WARNING:root:http://0.0.0.0:8000/api/v1/characteristica_individuals/?format=json&page_size=2000&page=8\n",
      "WARNING:root:http://0.0.0.0:8000/api/v1/characteristica_individuals/?format=json&page_size=2000&page=9\n",
      "WARNING:root:http://0.0.0.0:8000/api/v1/characteristica_individuals/?format=json&page_size=2000&page=10\n",
      "WARNING:root:http://0.0.0.0:8000/api/v1/characteristica_individuals/?format=json&page_size=2000&page=11\n",
      "WARNING:root:http://0.0.0.0:8000/api/v1/characteristica_individuals/?format=json&page_size=2000&page=12\n",
      "WARNING:root:http://0.0.0.0:8000/api/v1/characteristica_individuals/?format=json&page_size=2000&page=13\n",
      "WARNING:root:http://0.0.0.0:8000/api/v1/characteristica_individuals/?format=json&page_size=2000&page=14\n",
      "WARNING:root:http://0.0.0.0:8000/api/v1/characteristica_groups/?format=json&page_size=2000\n",
      "WARNING:root:http://0.0.0.0:8000/api/v1/characteristica_groups/?format=json&page_size=2000&page=1\n",
      "WARNING:root:http://0.0.0.0:8000/api/v1/characteristica_groups/?format=json&page_size=2000&page=2\n",
      "WARNING:root:http://0.0.0.0:8000/api/v1/characteristica_groups/?format=json&page_size=2000&page=3\n",
      "WARNING:root:http://0.0.0.0:8000/api/v1/output_intervention/?format=json&page_size=2000&normed=true\n",
      "WARNING:root:http://0.0.0.0:8000/api/v1/output_intervention/?format=json&page_size=2000&normed=true&page=1\n",
      "WARNING:root:http://0.0.0.0:8000/api/v1/output_intervention/?format=json&page_size=2000&normed=true&page=2\n",
      "WARNING:root:http://0.0.0.0:8000/api/v1/output_intervention/?format=json&page_size=2000&normed=true&page=3\n",
      "WARNING:root:http://0.0.0.0:8000/api/v1/output_intervention/?format=json&page_size=2000&normed=true&page=4\n",
      "WARNING:root:http://0.0.0.0:8000/api/v1/output_intervention/?format=json&page_size=2000&normed=true&page=5\n",
      "WARNING:root:http://0.0.0.0:8000/api/v1/output_intervention/?format=json&page_size=2000&normed=true&page=6\n",
      "WARNING:root:http://0.0.0.0:8000/api/v1/output_intervention/?format=json&page_size=2000&normed=true&page=7\n",
      "WARNING:root:http://0.0.0.0:8000/api/v1/output_intervention/?format=json&page_size=2000&normed=true&page=8\n",
      "WARNING:root:http://0.0.0.0:8000/api/v1/output_intervention/?format=json&page_size=2000&normed=true&page=9\n",
      "WARNING:root:http://0.0.0.0:8000/api/v1/output_intervention/?format=json&page_size=2000&normed=true&page=10\n",
      "WARNING:root:http://0.0.0.0:8000/api/v1/output_intervention/?format=json&page_size=2000&normed=true&page=11\n",
      "WARNING:root:http://0.0.0.0:8000/api/v1/output_intervention/?format=json&page_size=2000&normed=true&page=12\n",
      "WARNING:root:http://0.0.0.0:8000/api/v1/output_intervention/?format=json&page_size=2000&normed=true&page=13\n",
      "WARNING:root:http://0.0.0.0:8000/api/v1/output_intervention/?format=json&page_size=2000&normed=true&page=14\n",
      "WARNING:root:http://0.0.0.0:8000/api/v1/output_intervention/?format=json&page_size=2000&normed=true&page=15\n",
      "WARNING:root:http://0.0.0.0:8000/api/v1/output_intervention/?format=json&page_size=2000&normed=true&page=16\n",
      "WARNING:root:http://0.0.0.0:8000/api/v1/output_intervention/?format=json&page_size=2000&normed=true&page=17\n",
      "WARNING:root:http://0.0.0.0:8000/api/v1/output_intervention/?format=json&page_size=2000&normed=true&page=18\n",
      "WARNING:root:http://0.0.0.0:8000/api/v1/timecourse_intervention/?format=json&page_size=2000&normed=true\n",
      "WARNING:root:http://0.0.0.0:8000/api/v1/timecourse_intervention/?format=json&page_size=2000&normed=true&page=1\n",
      "WARNING:root:http://0.0.0.0:8000/api/v1/timecourse_intervention/?format=json&page_size=2000&normed=true&page=2\n",
      "WARNING:root:Calculating choices\n"
     ]
    }
   ],
   "source": [
    "data = PKData._from_db()"
   ]
  },
  {
   "cell_type": "code",
   "execution_count": 41,
   "metadata": {},
   "outputs": [
    {
     "data": {
      "text/html": [
       "<div>\n",
       "<style scoped>\n",
       "    .dataframe tbody tr th:only-of-type {\n",
       "        vertical-align: middle;\n",
       "    }\n",
       "\n",
       "    .dataframe tbody tr th {\n",
       "        vertical-align: top;\n",
       "    }\n",
       "\n",
       "    .dataframe thead th {\n",
       "        text-align: right;\n",
       "    }\n",
       "</style>\n",
       "<table border=\"1\" class=\"dataframe\">\n",
       "  <thead>\n",
       "    <tr style=\"text-align: right;\">\n",
       "      <th></th>\n",
       "      <th>study_sid</th>\n",
       "      <th>study_name</th>\n",
       "      <th>output_pk</th>\n",
       "      <th>intervention_pk</th>\n",
       "      <th>group_pk</th>\n",
       "      <th>individual_pk</th>\n",
       "      <th>normed</th>\n",
       "      <th>calculated</th>\n",
       "      <th>tissue</th>\n",
       "      <th>time</th>\n",
       "      <th>...</th>\n",
       "      <th>substance</th>\n",
       "      <th>value</th>\n",
       "      <th>mean</th>\n",
       "      <th>median</th>\n",
       "      <th>min</th>\n",
       "      <th>max</th>\n",
       "      <th>sd</th>\n",
       "      <th>se</th>\n",
       "      <th>cv</th>\n",
       "      <th>unit</th>\n",
       "    </tr>\n",
       "  </thead>\n",
       "  <tbody>\n",
       "    <tr>\n",
       "      <td>0</td>\n",
       "      <td>8549036</td>\n",
       "      <td>Backman1996</td>\n",
       "      <td>15267</td>\n",
       "      <td>770</td>\n",
       "      <td>-1</td>\n",
       "      <td>871</td>\n",
       "      <td>True</td>\n",
       "      <td>False</td>\n",
       "      <td>plasma</td>\n",
       "      <td>NaN</td>\n",
       "      <td>...</td>\n",
       "      <td>midazolam</td>\n",
       "      <td>0.000064</td>\n",
       "      <td>NaN</td>\n",
       "      <td>NaN</td>\n",
       "      <td>NaN</td>\n",
       "      <td>NaN</td>\n",
       "      <td>NaN</td>\n",
       "      <td>NaN</td>\n",
       "      <td>NaN</td>\n",
       "      <td>gram / liter</td>\n",
       "    </tr>\n",
       "  </tbody>\n",
       "</table>\n",
       "<p>1 rows × 23 columns</p>\n",
       "</div>"
      ],
      "text/plain": [
       "  study_sid   study_name  output_pk  intervention_pk  group_pk  individual_pk  \\\n",
       "0   8549036  Backman1996      15267              770        -1            871   \n",
       "\n",
       "   normed  calculated  tissue  time  ...  substance     value mean median  \\\n",
       "0    True       False  plasma   NaN  ...  midazolam  0.000064  NaN    NaN   \n",
       "\n",
       "   min  max  sd  se  cv          unit  \n",
       "0  NaN  NaN NaN NaN NaN  gram / liter  \n",
       "\n",
       "[1 rows x 23 columns]"
      ]
     },
     "execution_count": 41,
     "metadata": {},
     "output_type": "execute_result"
    }
   ],
   "source": [
    "data.outputs.groupby(\"output_pk\").get_group(15267)"
   ]
  },
  {
   "cell_type": "code",
   "execution_count": 42,
   "metadata": {},
   "outputs": [
    {
     "ename": "AttributeError",
     "evalue": "'PKData' object has no attribute 'outputs_mi'",
     "output_type": "error",
     "traceback": [
      "\u001b[0;31m---------------------------------------------------------------------------\u001b[0m",
      "\u001b[0;31mAttributeError\u001b[0m                            Traceback (most recent call last)",
      "\u001b[0;32m<ipython-input-42-346a8a5ccc6f>\u001b[0m in \u001b[0;36m<module>\u001b[0;34m\u001b[0m\n\u001b[0;32m----> 1\u001b[0;31m \u001b[0mdata\u001b[0m\u001b[0;34m.\u001b[0m\u001b[0moutputs_mi\u001b[0m\u001b[0;34m\u001b[0m\u001b[0;34m\u001b[0m\u001b[0m\n\u001b[0m",
      "\u001b[0;31mAttributeError\u001b[0m: 'PKData' object has no attribute 'outputs_mi'"
     ]
    }
   ],
   "source": []
  },
  {
   "cell_type": "code",
   "execution_count": 27,
   "metadata": {},
   "outputs": [],
   "source": [
    "# helper functions\n",
    "def _is(d: pd.DataFrame, key: str, value: str) -> bool:\n",
    "    \"\"\" check if for column 'key' in DataFrame 'd' any value equals 'value'.  \n",
    "    \"\"\"\n",
    "    \n",
    "    return  not d[(d[key]==value)].empty\n",
    "\n",
    "def _is_not(d: pd.DataFrame, key: str, value: str) -> bool:\n",
    "    \"\"\" check if for column 'key' in DataFrame 'd' no value equals 'value'.   \n",
    "    \"\"\"\n",
    "    return  d[(d[key]==value)].empty\n",
    "\n",
    "def _any(d: pd.DataFrame, *args:bool) -> pd.DataFrame: \n",
    "    \"\"\" return Dataframe 'd' if any of arguments 'args' are True.\n",
    "    \"\"\"\n",
    "    if any(args):\n",
    "            return d \n",
    "    else:\n",
    "        empty_df = pd.DataFrame(columns = d.columns)\n",
    "        return empty_df \n",
    "def _all(d: pd.DataFrame, *args:bool) -> pd.DataFrame:\n",
    "    \"\"\" return Dataframe 'd' if all of arguments 'args' are True.\n",
    "    \"\"\"\n",
    "    if all(args):\n",
    "            return d \n",
    "    else:\n",
    "        empty_df = pd.DataFrame(columns = d.columns)\n",
    "        return empty_df   \n"
   ]
  },
  {
   "cell_type": "code",
   "execution_count": null,
   "metadata": {},
   "outputs": [],
   "source": []
  },
  {
   "cell_type": "markdown",
   "metadata": {},
   "source": [
    "# Example queries\n",
    "\n",
    "## 1. Query study"
   ]
  },
  {
   "cell_type": "code",
   "execution_count": 28,
   "metadata": {},
   "outputs": [],
   "source": [
    "def is_Thummel1996(d):\n",
    "    Thummel1996 = _is(d,\"study_name\",\"Thummel1996\")\n",
    "    return _all(d, *[Thummel1996])\n",
    "\n",
    "\n",
    "def is_Thummel1996_2(d):\n",
    "    d\n",
    "    \n",
    "    \n"
   ]
  },
  {
   "cell_type": "code",
   "execution_count": 29,
   "metadata": {},
   "outputs": [],
   "source": [
    "test_data = copy.deepcopy(data)"
   ]
  },
  {
   "cell_type": "code",
   "execution_count": 33,
   "metadata": {},
   "outputs": [
    {
     "name": "stdout",
     "output_type": "stream",
     "text": [
      "14.1 ms ± 222 µs per loop (mean ± std. dev. of 7 runs, 100 loops each)\n"
     ]
    }
   ],
   "source": [
    "%%timeit \n",
    "test_data = copy.deepcopy(data)"
   ]
  },
  {
   "cell_type": "code",
   "execution_count": 31,
   "metadata": {},
   "outputs": [
    {
     "name": "stdout",
     "output_type": "stream",
     "text": [
      "2.45 s ± 39.3 ms per loop (mean ± std. dev. of 7 runs, 1 loop each)\n"
     ]
    }
   ],
   "source": [
    "%%timeit \n",
    "test_data = copy.deepcopy(data)\n",
    "test_data.groups = test_data.groups.groupby(\"group_pk\").apply(is_Thummel1996)"
   ]
  },
  {
   "cell_type": "code",
   "execution_count": 32,
   "metadata": {},
   "outputs": [
    {
     "name": "stdout",
     "output_type": "stream",
     "text": [
      "2.47 s ± 70.9 ms per loop (mean ± std. dev. of 7 runs, 1 loop each)\n"
     ]
    }
   ],
   "source": [
    "%%timeit \n",
    "test_data = copy.deepcopy(data)\n",
    "test_data.groups = test_data.groups.groupby(\"group_pk\", as_index=False).apply(is_Thummel1996)"
   ]
  },
  {
   "cell_type": "code",
   "execution_count": null,
   "metadata": {},
   "outputs": [],
   "source": [
    "%timeit test_data.groups = test_data.groups.groupby(\"group_pk\").apply(is_Thummel1996)"
   ]
  },
  {
   "cell_type": "code",
   "execution_count": null,
   "metadata": {},
   "outputs": [],
   "source": []
  },
  {
   "cell_type": "code",
   "execution_count": 18,
   "metadata": {},
   "outputs": [
    {
     "data": {
      "text/plain": [
       "70536"
      ]
     },
     "execution_count": 18,
     "metadata": {},
     "output_type": "execute_result"
    }
   ],
   "source": [
    "test_data = copy.deepcopy(data)\n",
    "test_data._len"
   ]
  },
  {
   "cell_type": "code",
   "execution_count": 19,
   "metadata": {},
   "outputs": [
    {
     "ename": "TypingError",
     "evalue": "Failed in nopython mode pipeline (step: nopython frontend)\nnon-precise type pyobject\n[1] During: typing of argument at <ipython-input-17-eb3f7e9fd92b> (3)\n\nFile \"<ipython-input-17-eb3f7e9fd92b>\", line 3:\ndef is_Thummel1996(d):\n    Thummel1996 = _is(d,\"study_name\",\"Thummel1996\")\n    ^\n\nThis error may have been caused by the following argument(s):\n- argument 0: cannot determine Numba type of <class 'pandas.core.frame.DataFrame'>\n\nThis is not usually a problem with Numba itself but instead often caused by\nthe use of unsupported features or an issue in resolving types.\n\nTo see Python/NumPy features supported by the latest release of Numba visit:\nhttp://numba.pydata.org/numba-doc/latest/reference/pysupported.html\nand\nhttp://numba.pydata.org/numba-doc/latest/reference/numpysupported.html\n\nFor more information about typing errors and how to debug them visit:\nhttp://numba.pydata.org/numba-doc/latest/user/troubleshoot.html#my-code-doesn-t-compile\n\nIf you think your code should work with Numba, please report the error message\nand traceback, along with a minimal reproducer at:\nhttps://github.com/numba/numba/issues/new\n\nThis error may have been caused by the following argument(s):\n- argument 0: cannot determine Numba type of <class 'pandas.core.frame.DataFrame'>\n\nThis is not usually a problem with Numba itself but instead often caused by\nthe use of unsupported features or an issue in resolving types.\n\nTo see Python/NumPy features supported by the latest release of Numba visit:\nhttp://numba.pydata.org/numba-doc/latest/reference/pysupported.html\nand\nhttp://numba.pydata.org/numba-doc/latest/reference/numpysupported.html\n\nFor more information about typing errors and how to debug them visit:\nhttp://numba.pydata.org/numba-doc/latest/user/troubleshoot.html#my-code-doesn-t-compile\n\nIf you think your code should work with Numba, please report the error message\nand traceback, along with a minimal reproducer at:\nhttps://github.com/numba/numba/issues/new\n\nThis error may have been caused by the following argument(s):\n- argument 0: cannot determine Numba type of <class 'pandas.core.frame.DataFrame'>\n\nThis is not usually a problem with Numba itself but instead often caused by\nthe use of unsupported features or an issue in resolving types.\n\nTo see Python/NumPy features supported by the latest release of Numba visit:\nhttp://numba.pydata.org/numba-doc/latest/reference/pysupported.html\nand\nhttp://numba.pydata.org/numba-doc/latest/reference/numpysupported.html\n\nFor more information about typing errors and how to debug them visit:\nhttp://numba.pydata.org/numba-doc/latest/user/troubleshoot.html#my-code-doesn-t-compile\n\nIf you think your code should work with Numba, please report the error message\nand traceback, along with a minimal reproducer at:\nhttps://github.com/numba/numba/issues/new\n\nThis error may have been caused by the following argument(s):\n- argument 0: cannot determine Numba type of <class 'pandas.core.frame.DataFrame'>\n\nThis is not usually a problem with Numba itself but instead often caused by\nthe use of unsupported features or an issue in resolving types.\n\nTo see Python/NumPy features supported by the latest release of Numba visit:\nhttp://numba.pydata.org/numba-doc/latest/reference/pysupported.html\nand\nhttp://numba.pydata.org/numba-doc/latest/reference/numpysupported.html\n\nFor more information about typing errors and how to debug them visit:\nhttp://numba.pydata.org/numba-doc/latest/user/troubleshoot.html#my-code-doesn-t-compile\n\nIf you think your code should work with Numba, please report the error message\nand traceback, along with a minimal reproducer at:\nhttps://github.com/numba/numba/issues/new\n",
     "output_type": "error",
     "traceback": [
      "\u001b[0;31m---------------------------------------------------------------------------\u001b[0m",
      "\u001b[0;31mTypingError\u001b[0m                               Traceback (most recent call last)",
      "\u001b[0;32m<ipython-input-19-883a4dd44448>\u001b[0m in \u001b[0;36m<module>\u001b[0;34m\u001b[0m\n\u001b[1;32m      1\u001b[0m \u001b[0;31m# faster would be to take only filter only on e.g. internventions and then concise PKData instance.\u001b[0m\u001b[0;34m\u001b[0m\u001b[0;34m\u001b[0m\u001b[0;34m\u001b[0m\u001b[0m\n\u001b[0;32m----> 2\u001b[0;31m \u001b[0mtest_data\u001b[0m\u001b[0;34m.\u001b[0m\u001b[0mgroups\u001b[0m \u001b[0;34m=\u001b[0m \u001b[0mtest_data\u001b[0m\u001b[0;34m.\u001b[0m\u001b[0mgroups\u001b[0m\u001b[0;34m.\u001b[0m\u001b[0mgroupby\u001b[0m\u001b[0;34m(\u001b[0m\u001b[0;34m\"group_pk\"\u001b[0m\u001b[0;34m)\u001b[0m\u001b[0;34m.\u001b[0m\u001b[0mapply\u001b[0m\u001b[0;34m(\u001b[0m\u001b[0mis_Thummel1996\u001b[0m\u001b[0;34m)\u001b[0m\u001b[0;34m\u001b[0m\u001b[0;34m\u001b[0m\u001b[0m\n\u001b[0m\u001b[1;32m      3\u001b[0m \u001b[0mtest_data\u001b[0m\u001b[0;34m.\u001b[0m\u001b[0mindividuals\u001b[0m \u001b[0;34m=\u001b[0m \u001b[0mtest_data\u001b[0m\u001b[0;34m.\u001b[0m\u001b[0mindividuals\u001b[0m\u001b[0;34m.\u001b[0m\u001b[0mgroupby\u001b[0m\u001b[0;34m(\u001b[0m\u001b[0;34m\"individual_pk\"\u001b[0m\u001b[0;34m)\u001b[0m\u001b[0;34m.\u001b[0m\u001b[0mapply\u001b[0m\u001b[0;34m(\u001b[0m\u001b[0mis_Thummel1996\u001b[0m\u001b[0;34m)\u001b[0m\u001b[0;34m\u001b[0m\u001b[0;34m\u001b[0m\u001b[0m\n\u001b[1;32m      4\u001b[0m \u001b[0mtest_data\u001b[0m\u001b[0;34m.\u001b[0m\u001b[0minterventions\u001b[0m \u001b[0;34m=\u001b[0m \u001b[0mtest_data\u001b[0m\u001b[0;34m.\u001b[0m\u001b[0minterventions\u001b[0m\u001b[0;34m.\u001b[0m\u001b[0mgroupby\u001b[0m\u001b[0;34m(\u001b[0m\u001b[0;34m\"intervention_pk\"\u001b[0m\u001b[0;34m)\u001b[0m\u001b[0;34m.\u001b[0m\u001b[0mapply\u001b[0m\u001b[0;34m(\u001b[0m\u001b[0mis_Thummel1996\u001b[0m\u001b[0;34m)\u001b[0m\u001b[0;34m\u001b[0m\u001b[0;34m\u001b[0m\u001b[0m\n\u001b[1;32m      5\u001b[0m \u001b[0mtest_data\u001b[0m\u001b[0;34m.\u001b[0m\u001b[0moutputs\u001b[0m \u001b[0;34m=\u001b[0m \u001b[0mtest_data\u001b[0m\u001b[0;34m.\u001b[0m\u001b[0moutputs\u001b[0m\u001b[0;34m.\u001b[0m\u001b[0mgroupby\u001b[0m\u001b[0;34m(\u001b[0m\u001b[0;34m\"output_pk\"\u001b[0m\u001b[0;34m)\u001b[0m\u001b[0;34m.\u001b[0m\u001b[0mapply\u001b[0m\u001b[0;34m(\u001b[0m\u001b[0mis_Thummel1996\u001b[0m\u001b[0;34m)\u001b[0m\u001b[0;34m\u001b[0m\u001b[0;34m\u001b[0m\u001b[0m\n",
      "\u001b[0;32m~/Env/pkdb_analysis/lib/python3.6/site-packages/pandas/core/groupby/groupby.py\u001b[0m in \u001b[0;36mapply\u001b[0;34m(self, func, *args, **kwargs)\u001b[0m\n\u001b[1;32m    735\u001b[0m \u001b[0;34m\u001b[0m\u001b[0m\n\u001b[1;32m    736\u001b[0m                 \u001b[0;32mwith\u001b[0m \u001b[0m_group_selection_context\u001b[0m\u001b[0;34m(\u001b[0m\u001b[0mself\u001b[0m\u001b[0;34m)\u001b[0m\u001b[0;34m:\u001b[0m\u001b[0;34m\u001b[0m\u001b[0;34m\u001b[0m\u001b[0m\n\u001b[0;32m--> 737\u001b[0;31m                     \u001b[0;32mreturn\u001b[0m \u001b[0mself\u001b[0m\u001b[0;34m.\u001b[0m\u001b[0m_python_apply_general\u001b[0m\u001b[0;34m(\u001b[0m\u001b[0mf\u001b[0m\u001b[0;34m)\u001b[0m\u001b[0;34m\u001b[0m\u001b[0;34m\u001b[0m\u001b[0m\n\u001b[0m\u001b[1;32m    738\u001b[0m \u001b[0;34m\u001b[0m\u001b[0m\n\u001b[1;32m    739\u001b[0m         \u001b[0;32mreturn\u001b[0m \u001b[0mresult\u001b[0m\u001b[0;34m\u001b[0m\u001b[0;34m\u001b[0m\u001b[0m\n",
      "\u001b[0;32m~/Env/pkdb_analysis/lib/python3.6/site-packages/pandas/core/groupby/groupby.py\u001b[0m in \u001b[0;36m_python_apply_general\u001b[0;34m(self, f)\u001b[0m\n\u001b[1;32m    740\u001b[0m \u001b[0;34m\u001b[0m\u001b[0m\n\u001b[1;32m    741\u001b[0m     \u001b[0;32mdef\u001b[0m \u001b[0m_python_apply_general\u001b[0m\u001b[0;34m(\u001b[0m\u001b[0mself\u001b[0m\u001b[0;34m,\u001b[0m \u001b[0mf\u001b[0m\u001b[0;34m)\u001b[0m\u001b[0;34m:\u001b[0m\u001b[0;34m\u001b[0m\u001b[0;34m\u001b[0m\u001b[0m\n\u001b[0;32m--> 742\u001b[0;31m         \u001b[0mkeys\u001b[0m\u001b[0;34m,\u001b[0m \u001b[0mvalues\u001b[0m\u001b[0;34m,\u001b[0m \u001b[0mmutated\u001b[0m \u001b[0;34m=\u001b[0m \u001b[0mself\u001b[0m\u001b[0;34m.\u001b[0m\u001b[0mgrouper\u001b[0m\u001b[0;34m.\u001b[0m\u001b[0mapply\u001b[0m\u001b[0;34m(\u001b[0m\u001b[0mf\u001b[0m\u001b[0;34m,\u001b[0m \u001b[0mself\u001b[0m\u001b[0;34m.\u001b[0m\u001b[0m_selected_obj\u001b[0m\u001b[0;34m,\u001b[0m \u001b[0mself\u001b[0m\u001b[0;34m.\u001b[0m\u001b[0maxis\u001b[0m\u001b[0;34m)\u001b[0m\u001b[0;34m\u001b[0m\u001b[0;34m\u001b[0m\u001b[0m\n\u001b[0m\u001b[1;32m    743\u001b[0m \u001b[0;34m\u001b[0m\u001b[0m\n\u001b[1;32m    744\u001b[0m         return self._wrap_applied_output(\n",
      "\u001b[0;32m~/Env/pkdb_analysis/lib/python3.6/site-packages/pandas/core/groupby/ops.py\u001b[0m in \u001b[0;36mapply\u001b[0;34m(self, f, data, axis)\u001b[0m\n\u001b[1;32m    235\u001b[0m             \u001b[0;31m# group might be modified\u001b[0m\u001b[0;34m\u001b[0m\u001b[0;34m\u001b[0m\u001b[0;34m\u001b[0m\u001b[0m\n\u001b[1;32m    236\u001b[0m             \u001b[0mgroup_axes\u001b[0m \u001b[0;34m=\u001b[0m \u001b[0m_get_axes\u001b[0m\u001b[0;34m(\u001b[0m\u001b[0mgroup\u001b[0m\u001b[0;34m)\u001b[0m\u001b[0;34m\u001b[0m\u001b[0;34m\u001b[0m\u001b[0m\n\u001b[0;32m--> 237\u001b[0;31m             \u001b[0mres\u001b[0m \u001b[0;34m=\u001b[0m \u001b[0mf\u001b[0m\u001b[0;34m(\u001b[0m\u001b[0mgroup\u001b[0m\u001b[0;34m)\u001b[0m\u001b[0;34m\u001b[0m\u001b[0;34m\u001b[0m\u001b[0m\n\u001b[0m\u001b[1;32m    238\u001b[0m             \u001b[0;32mif\u001b[0m \u001b[0;32mnot\u001b[0m \u001b[0m_is_indexed_like\u001b[0m\u001b[0;34m(\u001b[0m\u001b[0mres\u001b[0m\u001b[0;34m,\u001b[0m \u001b[0mgroup_axes\u001b[0m\u001b[0;34m)\u001b[0m\u001b[0;34m:\u001b[0m\u001b[0;34m\u001b[0m\u001b[0;34m\u001b[0m\u001b[0m\n\u001b[1;32m    239\u001b[0m                 \u001b[0mmutated\u001b[0m \u001b[0;34m=\u001b[0m \u001b[0;32mTrue\u001b[0m\u001b[0;34m\u001b[0m\u001b[0;34m\u001b[0m\u001b[0m\n",
      "\u001b[0;32m~/Env/pkdb_analysis/lib/python3.6/site-packages/numba/dispatcher.py\u001b[0m in \u001b[0;36m_compile_for_args\u001b[0;34m(self, *args, **kws)\u001b[0m\n\u001b[1;32m    399\u001b[0m                 \u001b[0me\u001b[0m\u001b[0;34m.\u001b[0m\u001b[0mpatch_message\u001b[0m\u001b[0;34m(\u001b[0m\u001b[0mmsg\u001b[0m\u001b[0;34m)\u001b[0m\u001b[0;34m\u001b[0m\u001b[0;34m\u001b[0m\u001b[0m\n\u001b[1;32m    400\u001b[0m \u001b[0;34m\u001b[0m\u001b[0m\n\u001b[0;32m--> 401\u001b[0;31m             \u001b[0merror_rewrite\u001b[0m\u001b[0;34m(\u001b[0m\u001b[0me\u001b[0m\u001b[0;34m,\u001b[0m \u001b[0;34m'typing'\u001b[0m\u001b[0;34m)\u001b[0m\u001b[0;34m\u001b[0m\u001b[0;34m\u001b[0m\u001b[0m\n\u001b[0m\u001b[1;32m    402\u001b[0m         \u001b[0;32mexcept\u001b[0m \u001b[0merrors\u001b[0m\u001b[0;34m.\u001b[0m\u001b[0mUnsupportedError\u001b[0m \u001b[0;32mas\u001b[0m \u001b[0me\u001b[0m\u001b[0;34m:\u001b[0m\u001b[0;34m\u001b[0m\u001b[0;34m\u001b[0m\u001b[0m\n\u001b[1;32m    403\u001b[0m             \u001b[0;31m# Something unsupported is present in the user code, add help info\u001b[0m\u001b[0;34m\u001b[0m\u001b[0;34m\u001b[0m\u001b[0;34m\u001b[0m\u001b[0m\n",
      "\u001b[0;32m~/Env/pkdb_analysis/lib/python3.6/site-packages/numba/dispatcher.py\u001b[0m in \u001b[0;36merror_rewrite\u001b[0;34m(e, issue_type)\u001b[0m\n\u001b[1;32m    342\u001b[0m                 \u001b[0;32mraise\u001b[0m \u001b[0me\u001b[0m\u001b[0;34m\u001b[0m\u001b[0;34m\u001b[0m\u001b[0m\n\u001b[1;32m    343\u001b[0m             \u001b[0;32melse\u001b[0m\u001b[0;34m:\u001b[0m\u001b[0;34m\u001b[0m\u001b[0;34m\u001b[0m\u001b[0m\n\u001b[0;32m--> 344\u001b[0;31m                 \u001b[0mreraise\u001b[0m\u001b[0;34m(\u001b[0m\u001b[0mtype\u001b[0m\u001b[0;34m(\u001b[0m\u001b[0me\u001b[0m\u001b[0;34m)\u001b[0m\u001b[0;34m,\u001b[0m \u001b[0me\u001b[0m\u001b[0;34m,\u001b[0m \u001b[0;32mNone\u001b[0m\u001b[0;34m)\u001b[0m\u001b[0;34m\u001b[0m\u001b[0;34m\u001b[0m\u001b[0m\n\u001b[0m\u001b[1;32m    345\u001b[0m \u001b[0;34m\u001b[0m\u001b[0m\n\u001b[1;32m    346\u001b[0m         \u001b[0margtypes\u001b[0m \u001b[0;34m=\u001b[0m \u001b[0;34m[\u001b[0m\u001b[0;34m]\u001b[0m\u001b[0;34m\u001b[0m\u001b[0;34m\u001b[0m\u001b[0m\n",
      "\u001b[0;32m~/Env/pkdb_analysis/lib/python3.6/site-packages/numba/six.py\u001b[0m in \u001b[0;36mreraise\u001b[0;34m(tp, value, tb)\u001b[0m\n\u001b[1;32m    666\u001b[0m             \u001b[0mvalue\u001b[0m \u001b[0;34m=\u001b[0m \u001b[0mtp\u001b[0m\u001b[0;34m(\u001b[0m\u001b[0;34m)\u001b[0m\u001b[0;34m\u001b[0m\u001b[0;34m\u001b[0m\u001b[0m\n\u001b[1;32m    667\u001b[0m         \u001b[0;32mif\u001b[0m \u001b[0mvalue\u001b[0m\u001b[0;34m.\u001b[0m\u001b[0m__traceback__\u001b[0m \u001b[0;32mis\u001b[0m \u001b[0;32mnot\u001b[0m \u001b[0mtb\u001b[0m\u001b[0;34m:\u001b[0m\u001b[0;34m\u001b[0m\u001b[0;34m\u001b[0m\u001b[0m\n\u001b[0;32m--> 668\u001b[0;31m             \u001b[0;32mraise\u001b[0m \u001b[0mvalue\u001b[0m\u001b[0;34m.\u001b[0m\u001b[0mwith_traceback\u001b[0m\u001b[0;34m(\u001b[0m\u001b[0mtb\u001b[0m\u001b[0;34m)\u001b[0m\u001b[0;34m\u001b[0m\u001b[0;34m\u001b[0m\u001b[0m\n\u001b[0m\u001b[1;32m    669\u001b[0m         \u001b[0;32mraise\u001b[0m \u001b[0mvalue\u001b[0m\u001b[0;34m\u001b[0m\u001b[0;34m\u001b[0m\u001b[0m\n\u001b[1;32m    670\u001b[0m \u001b[0;34m\u001b[0m\u001b[0m\n",
      "\u001b[0;31mTypingError\u001b[0m: Failed in nopython mode pipeline (step: nopython frontend)\nnon-precise type pyobject\n[1] During: typing of argument at <ipython-input-17-eb3f7e9fd92b> (3)\n\nFile \"<ipython-input-17-eb3f7e9fd92b>\", line 3:\ndef is_Thummel1996(d):\n    Thummel1996 = _is(d,\"study_name\",\"Thummel1996\")\n    ^\n\nThis error may have been caused by the following argument(s):\n- argument 0: cannot determine Numba type of <class 'pandas.core.frame.DataFrame'>\n\nThis is not usually a problem with Numba itself but instead often caused by\nthe use of unsupported features or an issue in resolving types.\n\nTo see Python/NumPy features supported by the latest release of Numba visit:\nhttp://numba.pydata.org/numba-doc/latest/reference/pysupported.html\nand\nhttp://numba.pydata.org/numba-doc/latest/reference/numpysupported.html\n\nFor more information about typing errors and how to debug them visit:\nhttp://numba.pydata.org/numba-doc/latest/user/troubleshoot.html#my-code-doesn-t-compile\n\nIf you think your code should work with Numba, please report the error message\nand traceback, along with a minimal reproducer at:\nhttps://github.com/numba/numba/issues/new\n\nThis error may have been caused by the following argument(s):\n- argument 0: cannot determine Numba type of <class 'pandas.core.frame.DataFrame'>\n\nThis is not usually a problem with Numba itself but instead often caused by\nthe use of unsupported features or an issue in resolving types.\n\nTo see Python/NumPy features supported by the latest release of Numba visit:\nhttp://numba.pydata.org/numba-doc/latest/reference/pysupported.html\nand\nhttp://numba.pydata.org/numba-doc/latest/reference/numpysupported.html\n\nFor more information about typing errors and how to debug them visit:\nhttp://numba.pydata.org/numba-doc/latest/user/troubleshoot.html#my-code-doesn-t-compile\n\nIf you think your code should work with Numba, please report the error message\nand traceback, along with a minimal reproducer at:\nhttps://github.com/numba/numba/issues/new\n\nThis error may have been caused by the following argument(s):\n- argument 0: cannot determine Numba type of <class 'pandas.core.frame.DataFrame'>\n\nThis is not usually a problem with Numba itself but instead often caused by\nthe use of unsupported features or an issue in resolving types.\n\nTo see Python/NumPy features supported by the latest release of Numba visit:\nhttp://numba.pydata.org/numba-doc/latest/reference/pysupported.html\nand\nhttp://numba.pydata.org/numba-doc/latest/reference/numpysupported.html\n\nFor more information about typing errors and how to debug them visit:\nhttp://numba.pydata.org/numba-doc/latest/user/troubleshoot.html#my-code-doesn-t-compile\n\nIf you think your code should work with Numba, please report the error message\nand traceback, along with a minimal reproducer at:\nhttps://github.com/numba/numba/issues/new\n\nThis error may have been caused by the following argument(s):\n- argument 0: cannot determine Numba type of <class 'pandas.core.frame.DataFrame'>\n\nThis is not usually a problem with Numba itself but instead often caused by\nthe use of unsupported features or an issue in resolving types.\n\nTo see Python/NumPy features supported by the latest release of Numba visit:\nhttp://numba.pydata.org/numba-doc/latest/reference/pysupported.html\nand\nhttp://numba.pydata.org/numba-doc/latest/reference/numpysupported.html\n\nFor more information about typing errors and how to debug them visit:\nhttp://numba.pydata.org/numba-doc/latest/user/troubleshoot.html#my-code-doesn-t-compile\n\nIf you think your code should work with Numba, please report the error message\nand traceback, along with a minimal reproducer at:\nhttps://github.com/numba/numba/issues/new\n"
     ]
    }
   ],
   "source": [
    "# faster would be to take only filter only on e.g. internventions and then concise PKData instance.\n",
    "test_data.groups = test_data.groups.groupby(\"group_pk\").apply(is_Thummel1996)\n",
    "test_data.individuals = test_data.individuals.groupby(\"individual_pk\").apply(is_Thummel1996)\n",
    "test_data.interventions = test_data.interventions.groupby(\"intervention_pk\").apply(is_Thummel1996)\n",
    "test_data.outputs = test_data.outputs.groupby(\"output_pk\").apply(is_Thummel1996)\n",
    "test_data.timecourses = test_data.timecourses.groupby(\"timecourse_pk\").apply(is_Thummel1996)"
   ]
  },
  {
   "cell_type": "code",
   "execution_count": 13,
   "metadata": {},
   "outputs": [
    {
     "data": {
      "text/html": [
       "<div>\n",
       "<style scoped>\n",
       "    .dataframe tbody tr th:only-of-type {\n",
       "        vertical-align: middle;\n",
       "    }\n",
       "\n",
       "    .dataframe tbody tr th {\n",
       "        vertical-align: top;\n",
       "    }\n",
       "\n",
       "    .dataframe thead th {\n",
       "        text-align: right;\n",
       "    }\n",
       "</style>\n",
       "<table border=\"1\" class=\"dataframe\">\n",
       "  <thead>\n",
       "    <tr style=\"text-align: right;\">\n",
       "      <th></th>\n",
       "      <th></th>\n",
       "      <th>study_sid</th>\n",
       "      <th>study_name</th>\n",
       "      <th>individual_pk</th>\n",
       "      <th>individual_name</th>\n",
       "      <th>individual_group_pk</th>\n",
       "      <th>characteristica_pk</th>\n",
       "      <th>count</th>\n",
       "      <th>measurement_type</th>\n",
       "      <th>choice</th>\n",
       "      <th>substance</th>\n",
       "      <th>value</th>\n",
       "      <th>mean</th>\n",
       "      <th>median</th>\n",
       "      <th>min</th>\n",
       "      <th>max</th>\n",
       "      <th>sd</th>\n",
       "      <th>se</th>\n",
       "      <th>cv</th>\n",
       "      <th>unit</th>\n",
       "    </tr>\n",
       "    <tr>\n",
       "      <th>individual_pk</th>\n",
       "      <th></th>\n",
       "      <th></th>\n",
       "      <th></th>\n",
       "      <th></th>\n",
       "      <th></th>\n",
       "      <th></th>\n",
       "      <th></th>\n",
       "      <th></th>\n",
       "      <th></th>\n",
       "      <th></th>\n",
       "      <th></th>\n",
       "      <th></th>\n",
       "      <th></th>\n",
       "      <th></th>\n",
       "      <th></th>\n",
       "      <th></th>\n",
       "      <th></th>\n",
       "      <th></th>\n",
       "      <th></th>\n",
       "      <th></th>\n",
       "    </tr>\n",
       "  </thead>\n",
       "  <tbody>\n",
       "    <tr>\n",
       "      <td rowspan=\"5\" valign=\"top\">1115</td>\n",
       "      <td>1210</td>\n",
       "      <td>PKDB00202</td>\n",
       "      <td>Thummel1996</td>\n",
       "      <td>1115</td>\n",
       "      <td>p01</td>\n",
       "      <td>312</td>\n",
       "      <td>4606</td>\n",
       "      <td>20</td>\n",
       "      <td>abstinence alcohol</td>\n",
       "      <td>None</td>\n",
       "      <td>None</td>\n",
       "      <td>NaN</td>\n",
       "      <td>NaN</td>\n",
       "      <td>NaN</td>\n",
       "      <td>2.0</td>\n",
       "      <td>NaN</td>\n",
       "      <td>NaN</td>\n",
       "      <td>NaN</td>\n",
       "      <td>NaN</td>\n",
       "      <td>day</td>\n",
       "    </tr>\n",
       "    <tr>\n",
       "      <td>1211</td>\n",
       "      <td>PKDB00202</td>\n",
       "      <td>Thummel1996</td>\n",
       "      <td>1115</td>\n",
       "      <td>p01</td>\n",
       "      <td>312</td>\n",
       "      <td>4605</td>\n",
       "      <td>20</td>\n",
       "      <td>medication</td>\n",
       "      <td>N</td>\n",
       "      <td>None</td>\n",
       "      <td>NaN</td>\n",
       "      <td>NaN</td>\n",
       "      <td>NaN</td>\n",
       "      <td>NaN</td>\n",
       "      <td>NaN</td>\n",
       "      <td>NaN</td>\n",
       "      <td>NaN</td>\n",
       "      <td>NaN</td>\n",
       "      <td>None</td>\n",
       "    </tr>\n",
       "    <tr>\n",
       "      <td>1212</td>\n",
       "      <td>PKDB00202</td>\n",
       "      <td>Thummel1996</td>\n",
       "      <td>1115</td>\n",
       "      <td>p01</td>\n",
       "      <td>312</td>\n",
       "      <td>4604</td>\n",
       "      <td>20</td>\n",
       "      <td>overnight fast</td>\n",
       "      <td>Y</td>\n",
       "      <td>None</td>\n",
       "      <td>NaN</td>\n",
       "      <td>NaN</td>\n",
       "      <td>NaN</td>\n",
       "      <td>NaN</td>\n",
       "      <td>NaN</td>\n",
       "      <td>NaN</td>\n",
       "      <td>NaN</td>\n",
       "      <td>NaN</td>\n",
       "      <td>None</td>\n",
       "    </tr>\n",
       "    <tr>\n",
       "      <td>1213</td>\n",
       "      <td>PKDB00202</td>\n",
       "      <td>Thummel1996</td>\n",
       "      <td>1115</td>\n",
       "      <td>p01</td>\n",
       "      <td>312</td>\n",
       "      <td>4603</td>\n",
       "      <td>20</td>\n",
       "      <td>abstinence</td>\n",
       "      <td>None</td>\n",
       "      <td>caffeine</td>\n",
       "      <td>NaN</td>\n",
       "      <td>NaN</td>\n",
       "      <td>NaN</td>\n",
       "      <td>2.0</td>\n",
       "      <td>NaN</td>\n",
       "      <td>NaN</td>\n",
       "      <td>NaN</td>\n",
       "      <td>NaN</td>\n",
       "      <td>day</td>\n",
       "    </tr>\n",
       "    <tr>\n",
       "      <td>1214</td>\n",
       "      <td>PKDB00202</td>\n",
       "      <td>Thummel1996</td>\n",
       "      <td>1115</td>\n",
       "      <td>p01</td>\n",
       "      <td>312</td>\n",
       "      <td>4602</td>\n",
       "      <td>1</td>\n",
       "      <td>smoking</td>\n",
       "      <td>Y</td>\n",
       "      <td>None</td>\n",
       "      <td>NaN</td>\n",
       "      <td>NaN</td>\n",
       "      <td>NaN</td>\n",
       "      <td>NaN</td>\n",
       "      <td>NaN</td>\n",
       "      <td>NaN</td>\n",
       "      <td>NaN</td>\n",
       "      <td>NaN</td>\n",
       "      <td>None</td>\n",
       "    </tr>\n",
       "    <tr>\n",
       "      <td>...</td>\n",
       "      <td>...</td>\n",
       "      <td>...</td>\n",
       "      <td>...</td>\n",
       "      <td>...</td>\n",
       "      <td>...</td>\n",
       "      <td>...</td>\n",
       "      <td>...</td>\n",
       "      <td>...</td>\n",
       "      <td>...</td>\n",
       "      <td>...</td>\n",
       "      <td>...</td>\n",
       "      <td>...</td>\n",
       "      <td>...</td>\n",
       "      <td>...</td>\n",
       "      <td>...</td>\n",
       "      <td>...</td>\n",
       "      <td>...</td>\n",
       "      <td>...</td>\n",
       "      <td>...</td>\n",
       "      <td>...</td>\n",
       "    </tr>\n",
       "    <tr>\n",
       "      <td rowspan=\"5\" valign=\"top\">1134</td>\n",
       "      <td>1348</td>\n",
       "      <td>PKDB00202</td>\n",
       "      <td>Thummel1996</td>\n",
       "      <td>1134</td>\n",
       "      <td>p20</td>\n",
       "      <td>311</td>\n",
       "      <td>4600</td>\n",
       "      <td>20</td>\n",
       "      <td>healthy</td>\n",
       "      <td>Y</td>\n",
       "      <td>None</td>\n",
       "      <td>NaN</td>\n",
       "      <td>NaN</td>\n",
       "      <td>NaN</td>\n",
       "      <td>NaN</td>\n",
       "      <td>NaN</td>\n",
       "      <td>NaN</td>\n",
       "      <td>NaN</td>\n",
       "      <td>NaN</td>\n",
       "      <td>None</td>\n",
       "    </tr>\n",
       "    <tr>\n",
       "      <td>1349</td>\n",
       "      <td>PKDB00202</td>\n",
       "      <td>Thummel1996</td>\n",
       "      <td>1134</td>\n",
       "      <td>p20</td>\n",
       "      <td>311</td>\n",
       "      <td>4599</td>\n",
       "      <td>20</td>\n",
       "      <td>species</td>\n",
       "      <td>homo sapiens</td>\n",
       "      <td>None</td>\n",
       "      <td>NaN</td>\n",
       "      <td>NaN</td>\n",
       "      <td>NaN</td>\n",
       "      <td>NaN</td>\n",
       "      <td>NaN</td>\n",
       "      <td>NaN</td>\n",
       "      <td>NaN</td>\n",
       "      <td>NaN</td>\n",
       "      <td>None</td>\n",
       "    </tr>\n",
       "    <tr>\n",
       "      <td>1350</td>\n",
       "      <td>PKDB00202</td>\n",
       "      <td>Thummel1996</td>\n",
       "      <td>1134</td>\n",
       "      <td>p20</td>\n",
       "      <td>311</td>\n",
       "      <td>4658</td>\n",
       "      <td>1</td>\n",
       "      <td>weight</td>\n",
       "      <td>None</td>\n",
       "      <td>None</td>\n",
       "      <td>80.0</td>\n",
       "      <td>NaN</td>\n",
       "      <td>NaN</td>\n",
       "      <td>NaN</td>\n",
       "      <td>NaN</td>\n",
       "      <td>NaN</td>\n",
       "      <td>NaN</td>\n",
       "      <td>NaN</td>\n",
       "      <td>kilogram</td>\n",
       "    </tr>\n",
       "    <tr>\n",
       "      <td>1351</td>\n",
       "      <td>PKDB00202</td>\n",
       "      <td>Thummel1996</td>\n",
       "      <td>1134</td>\n",
       "      <td>p20</td>\n",
       "      <td>311</td>\n",
       "      <td>4611</td>\n",
       "      <td>10</td>\n",
       "      <td>age</td>\n",
       "      <td>None</td>\n",
       "      <td>None</td>\n",
       "      <td>NaN</td>\n",
       "      <td>32.0</td>\n",
       "      <td>NaN</td>\n",
       "      <td>26.0</td>\n",
       "      <td>42.0</td>\n",
       "      <td>5.0</td>\n",
       "      <td>NaN</td>\n",
       "      <td>NaN</td>\n",
       "      <td>yr</td>\n",
       "    </tr>\n",
       "    <tr>\n",
       "      <td>1352</td>\n",
       "      <td>PKDB00202</td>\n",
       "      <td>Thummel1996</td>\n",
       "      <td>1134</td>\n",
       "      <td>p20</td>\n",
       "      <td>311</td>\n",
       "      <td>4610</td>\n",
       "      <td>10</td>\n",
       "      <td>sex</td>\n",
       "      <td>M</td>\n",
       "      <td>None</td>\n",
       "      <td>NaN</td>\n",
       "      <td>NaN</td>\n",
       "      <td>NaN</td>\n",
       "      <td>NaN</td>\n",
       "      <td>NaN</td>\n",
       "      <td>NaN</td>\n",
       "      <td>NaN</td>\n",
       "      <td>NaN</td>\n",
       "      <td>None</td>\n",
       "    </tr>\n",
       "  </tbody>\n",
       "</table>\n",
       "<p>220 rows × 19 columns</p>\n",
       "</div>"
      ],
      "text/plain": [
       "                    study_sid   study_name individual_pk individual_name  \\\n",
       "individual_pk                                                              \n",
       "1115          1210  PKDB00202  Thummel1996          1115             p01   \n",
       "              1211  PKDB00202  Thummel1996          1115             p01   \n",
       "              1212  PKDB00202  Thummel1996          1115             p01   \n",
       "              1213  PKDB00202  Thummel1996          1115             p01   \n",
       "              1214  PKDB00202  Thummel1996          1115             p01   \n",
       "...                       ...          ...           ...             ...   \n",
       "1134          1348  PKDB00202  Thummel1996          1134             p20   \n",
       "              1349  PKDB00202  Thummel1996          1134             p20   \n",
       "              1350  PKDB00202  Thummel1996          1134             p20   \n",
       "              1351  PKDB00202  Thummel1996          1134             p20   \n",
       "              1352  PKDB00202  Thummel1996          1134             p20   \n",
       "\n",
       "                   individual_group_pk characteristica_pk count  \\\n",
       "individual_pk                                                     \n",
       "1115          1210                 312               4606    20   \n",
       "              1211                 312               4605    20   \n",
       "              1212                 312               4604    20   \n",
       "              1213                 312               4603    20   \n",
       "              1214                 312               4602     1   \n",
       "...                                ...                ...   ...   \n",
       "1134          1348                 311               4600    20   \n",
       "              1349                 311               4599    20   \n",
       "              1350                 311               4658     1   \n",
       "              1351                 311               4611    10   \n",
       "              1352                 311               4610    10   \n",
       "\n",
       "                      measurement_type        choice substance  value  mean  \\\n",
       "individual_pk                                                                 \n",
       "1115          1210  abstinence alcohol          None      None    NaN   NaN   \n",
       "              1211          medication             N      None    NaN   NaN   \n",
       "              1212      overnight fast             Y      None    NaN   NaN   \n",
       "              1213          abstinence          None  caffeine    NaN   NaN   \n",
       "              1214             smoking             Y      None    NaN   NaN   \n",
       "...                                ...           ...       ...    ...   ...   \n",
       "1134          1348             healthy             Y      None    NaN   NaN   \n",
       "              1349             species  homo sapiens      None    NaN   NaN   \n",
       "              1350              weight          None      None   80.0   NaN   \n",
       "              1351                 age          None      None    NaN  32.0   \n",
       "              1352                 sex             M      None    NaN   NaN   \n",
       "\n",
       "                    median   min   max   sd  se  cv      unit  \n",
       "individual_pk                                                  \n",
       "1115          1210     NaN   2.0   NaN  NaN NaN NaN       day  \n",
       "              1211     NaN   NaN   NaN  NaN NaN NaN      None  \n",
       "              1212     NaN   NaN   NaN  NaN NaN NaN      None  \n",
       "              1213     NaN   2.0   NaN  NaN NaN NaN       day  \n",
       "              1214     NaN   NaN   NaN  NaN NaN NaN      None  \n",
       "...                    ...   ...   ...  ...  ..  ..       ...  \n",
       "1134          1348     NaN   NaN   NaN  NaN NaN NaN      None  \n",
       "              1349     NaN   NaN   NaN  NaN NaN NaN      None  \n",
       "              1350     NaN   NaN   NaN  NaN NaN NaN  kilogram  \n",
       "              1351     NaN  26.0  42.0  5.0 NaN NaN        yr  \n",
       "              1352     NaN   NaN   NaN  NaN NaN NaN      None  \n",
       "\n",
       "[220 rows x 19 columns]"
      ]
     },
     "execution_count": 13,
     "metadata": {},
     "output_type": "execute_result"
    }
   ],
   "source": [
    "test_data.individuals"
   ]
  },
  {
   "cell_type": "code",
   "execution_count": null,
   "metadata": {},
   "outputs": [],
   "source": [
    "test_data.outputs"
   ]
  },
  {
   "cell_type": "markdown",
   "metadata": {},
   "source": [
    "## Query groups and individuals\n",
    "### 2.1 Get data for groups with characteristica/keywords X\n",
    "healthy=True, smoking=N, disease=None,\n",
    "individual queries and combinations.\n"
   ]
  },
  {
   "cell_type": "code",
   "execution_count": null,
   "metadata": {},
   "outputs": [],
   "source": [
    "@njit\n",
    "def is_healthy_and_smoker(d): \n",
    "    \n",
    "    # health related\n",
    "    healthy = not d[(d[\"measurement_type\"]==\"healthy\") & (d[\"choice\"]==\"Y\")].empty\n",
    "    not_disease = _is_not(d,\"measurement_type\", \"disease\")\n",
    "    \n",
    "    # smoking related\n",
    "    smoker_n = not d[(d[\"measurement_type\"]==\"smoking\") & (d[\"choice\"]==\"N\")].empty\n",
    "    not_smoker_y =  d[(d[\"measurement_type\"]==\"smoking\") & (d[\"choice\"]==\"Y\")].empty\n",
    "    \n",
    "    return _all(d, *[not_disease,healthy, smoker_n, not_smoker_y])\n",
    "    \n",
    "    "
   ]
  },
  {
   "cell_type": "code",
   "execution_count": null,
   "metadata": {},
   "outputs": [],
   "source": [
    "test_data = copy.deepcopy(data)\n",
    "test_data.groups = test_data.groups.groupby(\"group_pk\").apply(is_healthy_and_smoker)\n",
    "test_data.individuals = test_data.individuals.groupby(\"individual_pk\").apply(is_healthy_and_smoker)\n",
    "test_data._concise()"
   ]
  },
  {
   "cell_type": "code",
   "execution_count": null,
   "metadata": {},
   "outputs": [],
   "source": [
    "test_data._len"
   ]
  },
  {
   "cell_type": "markdown",
   "metadata": {},
   "source": [
    "## 3 Query interventions\n",
    "### 3.1 Get outputs/timecourses for intervention with substance\n",
    "intervention with measurement_type \"dosing\" and substance \"caffeine\"\n"
   ]
  },
  {
   "cell_type": "code",
   "execution_count": null,
   "metadata": {},
   "outputs": [],
   "source": [
    "def dosing_and_midazolam(d):\n",
    "    dosing_and_midazolam = not d[(d[\"measurement_type\"]==\"dosing\") & (d[\"substance\"]==\"midazolam\")].empty\n",
    "    #dosing = not d[(d[\"measurement_type\"]==\"dosing\")].empty\n",
    "    #caffeine = not d[(d[\"substance\"]==\"midazolam\")].empty\n",
    "    \n",
    "    return _all(d, *[dosing_and_midazolam])\n"
   ]
  },
  {
   "cell_type": "markdown",
   "metadata": {},
   "source": [
    "### 3.2 Get outputs/timecourses where multiple interventions were given"
   ]
  },
  {
   "cell_type": "code",
   "execution_count": null,
   "metadata": {},
   "outputs": [],
   "source": [
    "test_data = copy.deepcopy(data)\n",
    "test_data.interventions = test_data.interventions.groupby(\"pk\").apply(dosing_and_midazolam)\n",
    "test_data._concise()"
   ]
  },
  {
   "cell_type": "code",
   "execution_count": null,
   "metadata": {},
   "outputs": [],
   "source": [
    "test_data._len"
   ]
  },
  {
   "cell_type": "code",
   "execution_count": null,
   "metadata": {},
   "outputs": [],
   "source": [
    "test_data.interventions.head()\n"
   ]
  },
  {
   "cell_type": "markdown",
   "metadata": {},
   "source": [
    "## 4 Query outputs/timecourses\n",
    "### 4.1 query by measurement_type\n",
    "query all auc_inf"
   ]
  },
  {
   "cell_type": "code",
   "execution_count": null,
   "metadata": {},
   "outputs": [],
   "source": [
    "\n",
    "def is_auc_inf(d):\n",
    "    auc_inf = _is(d,\"measurement_type\",\"auc_inf\" )\n",
    "    return _all(d, *[auc_inf])\n",
    "   \n",
    "    "
   ]
  },
  {
   "cell_type": "code",
   "execution_count": null,
   "metadata": {},
   "outputs": [],
   "source": []
  },
  {
   "cell_type": "markdown",
   "metadata": {},
   "source": [
    "## 5 Other Query others\n",
    "### 5.1 Complex\n",
    "get clearance of codeine for all subjects, that have been phenotyped. \n"
   ]
  },
  {
   "cell_type": "code",
   "execution_count": null,
   "metadata": {},
   "outputs": [],
   "source": [
    "def is_phenotyping(d):\n",
    "    metabolic_phenotype = _is(d,\"measurement_type\",\"metabolic phenotype\")\n",
    "    metabolic_ratio = _is(d,\"measurement_type\",\"metabolic ratio\")\n",
    "    return _any(d, *[metabolic_phenotype,metabolic_ratio])"
   ]
  },
  {
   "cell_type": "code",
   "execution_count": null,
   "metadata": {},
   "outputs": [],
   "source": [
    "test_data.outputs.head()"
   ]
  },
  {
   "cell_type": "code",
   "execution_count": null,
   "metadata": {},
   "outputs": [],
   "source": [
    "test_data = copy.deepcopy(data)\n",
    "outputs = test_data.outputs.groupby(\"output_pk\").apply(is_phenotyping)"
   ]
  },
  {
   "cell_type": "code",
   "execution_count": null,
   "metadata": {},
   "outputs": [],
   "source": [
    "# all substances related to metabolic phenotype and metabolic ratio. I am only interessted in cyp2d6 phenotyping -> substance = 'spar/(2hspar+5hspar)', 'deb/4hdeb', 'dtf/dmt'\n",
    "outputs.substance.unique()"
   ]
  },
  {
   "cell_type": "code",
   "execution_count": null,
   "metadata": {},
   "outputs": [],
   "source": [
    "def is_cyp2d6_phenotyping(d):\n",
    "    cyp2d6_phenotype_substances = ['spar/(2hspar+5hspar)', 'deb/4hdeb', 'dtf/dmt']\n",
    "    cyp2d6_phenotype_measurement_types = [\"metabolic phenotype\",\"metabolic ratio\"]\n",
    "    cyp2d6_phenotype = not d[(d[\"substance\"].isin(cyp2d6_phenotype_substances)) & (d[\"measurement_type\"].isin(cyp2d6_phenotype_measurement_types))].empty\n",
    "    return _any(d, *[cyp2d6_phenotype])\n",
    "                                                               \n",
    "def codeine_clearance(d):\n",
    "    codeine_clearance = not d[(d[\"measurement_type\"]==\"clearance\") & (d[\"substance\"]==\"codeine\")].empty                                                           \n",
    "    return _all(d, *[codeine_clearance])                                                               "
   ]
  },
  {
   "cell_type": "code",
   "execution_count": null,
   "metadata": {},
   "outputs": [],
   "source": [
    "cyp2d6_phenotype_data = copy.deepcopy(data)                                                   \n",
    "cyp2d6_phenotype_outputs = test_data.outputs.groupby(\"output_pk\").apply(is_cyp2d6_phenotyping)"
   ]
  },
  {
   "cell_type": "code",
   "execution_count": null,
   "metadata": {},
   "outputs": [],
   "source": [
    "cyp2d6_phenotype_groups = cyp2d6_phenotype_outputs[\"group_pk\"].unique()\n",
    "cyp2d6_phenotype_individuals = cyp2d6_phenotype_outputs[\"individual_pk\"].unique()\n",
    "\n",
    "cyp2d6_phenotype_data.groups = cyp2d6_phenotype_data.groups[cyp2d6_phenotype_data.groups[\"group_pk\"].isin(cyp2d6_phenotype_groups)]\n",
    "cyp2d6_phenotype_data.individuals = cyp2d6_phenotype_data.individuals[cyp2d6_phenotype_data.individuals[\"individual_pk\"].isin(cyp2d6_phenotype_individuals)]\n",
    "cyp2d6_phenotype_data._concise()\n",
    "\n",
    "cyp2d6_phenotype_data.outputs = cyp2d6_phenotype_data.outputs.groupby(\"output_pk\").apply(codeine_clearance)"
   ]
  },
  {
   "cell_type": "code",
   "execution_count": null,
   "metadata": {},
   "outputs": [],
   "source": [
    "cyp2d6_phenotype_data._concise()\n"
   ]
  },
  {
   "cell_type": "code",
   "execution_count": null,
   "metadata": {},
   "outputs": [],
   "source": [
    "cyp2d6_phenotype_data._len"
   ]
  },
  {
   "cell_type": "code",
   "execution_count": null,
   "metadata": {},
   "outputs": [],
   "source": [
    "cyp2d6_phenotype_data.outputs"
   ]
  }
 ],
 "metadata": {
  "kernelspec": {
   "display_name": "pkdb_analysis",
   "language": "python",
   "name": "pkdb_analysis"
  },
  "language_info": {
   "codemirror_mode": {
    "name": "ipython",
    "version": 3
   },
   "file_extension": ".py",
   "mimetype": "text/x-python",
   "name": "python",
   "nbconvert_exporter": "python",
   "pygments_lexer": "ipython3",
   "version": "3.6.8"
  }
 },
 "nbformat": 4,
 "nbformat_minor": 4
}
