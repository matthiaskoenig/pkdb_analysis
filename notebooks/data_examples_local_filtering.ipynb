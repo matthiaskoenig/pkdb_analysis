{
 "cells": [
  {
   "cell_type": "code",
   "execution_count": 73,
   "metadata": {},
   "outputs": [
    {
     "name": "stdout",
     "output_type": "stream",
     "text": [
      "The autoreload extension is already loaded. To reload it, use:\n",
      "  %reload_ext autoreload\n"
     ]
    }
   ],
   "source": [
    "%load_ext autoreload\n",
    "%autoreload 2\n",
    "from IPython.display import display\n",
    "from pkdb_analysis import PKFilter, PKData\n",
    "from pkdb_analysis.data import PKDataFrame\n",
    "import copy\n",
    "import pandas as pd\n"
   ]
  },
  {
   "cell_type": "code",
   "execution_count": 74,
   "metadata": {},
   "outputs": [
    {
     "name": "stderr",
     "output_type": "stream",
     "text": [
      "WARNING:root:*** Querying data ***\n",
      "WARNING:root:http://0.0.0.0:8000/api/v1/interventions_elastic/?format=json&page_size=2000&study_name=Test1\n",
      "WARNING:root:http://0.0.0.0:8000/api/v1/interventions_elastic/?format=json&page_size=2000&study_name=Test1&page=1\n",
      "WARNING:root:http://0.0.0.0:8000/api/v1/characteristica_individuals/?format=json&page_size=2000&study_name=Test1\n",
      "WARNING:root:http://0.0.0.0:8000/api/v1/characteristica_individuals/?format=json&page_size=2000&study_name=Test1&page=1\n",
      "WARNING:root:http://0.0.0.0:8000/api/v1/characteristica_groups/?format=json&page_size=2000&study_name=Test1\n",
      "WARNING:root:http://0.0.0.0:8000/api/v1/characteristica_groups/?format=json&page_size=2000&study_name=Test1&page=1\n",
      "WARNING:root:http://0.0.0.0:8000/api/v1/output_intervention/?format=json&page_size=2000&study_name=Test1\n",
      "WARNING:root:http://0.0.0.0:8000/api/v1/output_intervention/?format=json&page_size=2000&study_name=Test1&page=1\n",
      "WARNING:root:http://0.0.0.0:8000/api/v1/timecourse_intervention/?format=json&page_size=2000&study_name=Test1\n",
      "WARNING:root:http://0.0.0.0:8000/api/v1/timecourse_intervention/?format=json&page_size=2000&study_name=Test1&page=1\n",
      "WARNING:root:Calculating choices\n"
     ]
    }
   ],
   "source": [
    "pkfilter = PKFilter()\n",
    "for df_key in PKData.KEYS:\n",
    "    setattr(pkfilter,df_key,{\"study_name\":\"Test1\"})\n",
    "data = PKData.from_db(pkfilter)"
   ]
  },
  {
   "cell_type": "code",
   "execution_count": 75,
   "metadata": {},
   "outputs": [],
   "source": [
    "test_data = copy.deepcopy(data)\n"
   ]
  },
  {
   "cell_type": "code",
   "execution_count": 71,
   "metadata": {},
   "outputs": [
    {
     "data": {
      "text/html": [
       "<div>\n",
       "<style scoped>\n",
       "    .dataframe tbody tr th:only-of-type {\n",
       "        vertical-align: middle;\n",
       "    }\n",
       "\n",
       "    .dataframe tbody tr th {\n",
       "        vertical-align: top;\n",
       "    }\n",
       "\n",
       "    .dataframe thead th {\n",
       "        text-align: right;\n",
       "    }\n",
       "</style>\n",
       "<table border=\"1\" class=\"dataframe\">\n",
       "  <thead>\n",
       "    <tr style=\"text-align: right;\">\n",
       "      <th></th>\n",
       "      <th>study_sid</th>\n",
       "      <th>study_name</th>\n",
       "      <th>intervention_pk</th>\n",
       "      <th>raw_pk</th>\n",
       "      <th>normed</th>\n",
       "      <th>name</th>\n",
       "      <th>route</th>\n",
       "      <th>form</th>\n",
       "      <th>application</th>\n",
       "      <th>time</th>\n",
       "      <th>...</th>\n",
       "      <th>substance</th>\n",
       "      <th>value</th>\n",
       "      <th>mean</th>\n",
       "      <th>median</th>\n",
       "      <th>min</th>\n",
       "      <th>max</th>\n",
       "      <th>sd</th>\n",
       "      <th>se</th>\n",
       "      <th>cv</th>\n",
       "      <th>unit</th>\n",
       "    </tr>\n",
       "  </thead>\n",
       "  <tbody>\n",
       "    <tr>\n",
       "      <td>0</td>\n",
       "      <td>PKDB99999</td>\n",
       "      <td>Test1</td>\n",
       "      <td>2336</td>\n",
       "      <td>2335</td>\n",
       "      <td>True</td>\n",
       "      <td>iv</td>\n",
       "      <td>iv</td>\n",
       "      <td>solution</td>\n",
       "      <td>single dose</td>\n",
       "      <td>0.0</td>\n",
       "      <td>...</td>\n",
       "      <td>midazolam</td>\n",
       "      <td>0.000075</td>\n",
       "      <td>NaN</td>\n",
       "      <td>NaN</td>\n",
       "      <td>NaN</td>\n",
       "      <td>NaN</td>\n",
       "      <td>NaN</td>\n",
       "      <td>NaN</td>\n",
       "      <td>NaN</td>\n",
       "      <td>gram / kilogram</td>\n",
       "    </tr>\n",
       "    <tr>\n",
       "      <td>1</td>\n",
       "      <td>PKDB99999</td>\n",
       "      <td>Test1</td>\n",
       "      <td>2335</td>\n",
       "      <td>-1</td>\n",
       "      <td>False</td>\n",
       "      <td>iv</td>\n",
       "      <td>iv</td>\n",
       "      <td>solution</td>\n",
       "      <td>single dose</td>\n",
       "      <td>0.0</td>\n",
       "      <td>...</td>\n",
       "      <td>midazolam</td>\n",
       "      <td>0.075000</td>\n",
       "      <td>NaN</td>\n",
       "      <td>NaN</td>\n",
       "      <td>NaN</td>\n",
       "      <td>NaN</td>\n",
       "      <td>NaN</td>\n",
       "      <td>NaN</td>\n",
       "      <td>NaN</td>\n",
       "      <td>mg/kg</td>\n",
       "    </tr>\n",
       "    <tr>\n",
       "      <td>2</td>\n",
       "      <td>PKDB99999</td>\n",
       "      <td>Test1</td>\n",
       "      <td>2334</td>\n",
       "      <td>2332</td>\n",
       "      <td>True</td>\n",
       "      <td>po15</td>\n",
       "      <td>oral</td>\n",
       "      <td>tablet</td>\n",
       "      <td>single dose</td>\n",
       "      <td>0.0</td>\n",
       "      <td>...</td>\n",
       "      <td>midazolam</td>\n",
       "      <td>0.015000</td>\n",
       "      <td>NaN</td>\n",
       "      <td>NaN</td>\n",
       "      <td>NaN</td>\n",
       "      <td>NaN</td>\n",
       "      <td>NaN</td>\n",
       "      <td>NaN</td>\n",
       "      <td>NaN</td>\n",
       "      <td>gram</td>\n",
       "    </tr>\n",
       "    <tr>\n",
       "      <td>3</td>\n",
       "      <td>PKDB99999</td>\n",
       "      <td>Test1</td>\n",
       "      <td>2333</td>\n",
       "      <td>2331</td>\n",
       "      <td>True</td>\n",
       "      <td>po75</td>\n",
       "      <td>oral</td>\n",
       "      <td>tablet</td>\n",
       "      <td>single dose</td>\n",
       "      <td>0.0</td>\n",
       "      <td>...</td>\n",
       "      <td>midazolam</td>\n",
       "      <td>0.007500</td>\n",
       "      <td>NaN</td>\n",
       "      <td>NaN</td>\n",
       "      <td>NaN</td>\n",
       "      <td>NaN</td>\n",
       "      <td>NaN</td>\n",
       "      <td>NaN</td>\n",
       "      <td>NaN</td>\n",
       "      <td>gram</td>\n",
       "    </tr>\n",
       "    <tr>\n",
       "      <td>4</td>\n",
       "      <td>PKDB99999</td>\n",
       "      <td>Test1</td>\n",
       "      <td>2332</td>\n",
       "      <td>-1</td>\n",
       "      <td>False</td>\n",
       "      <td>po15</td>\n",
       "      <td>oral</td>\n",
       "      <td>tablet</td>\n",
       "      <td>single dose</td>\n",
       "      <td>0.0</td>\n",
       "      <td>...</td>\n",
       "      <td>midazolam</td>\n",
       "      <td>15.000000</td>\n",
       "      <td>NaN</td>\n",
       "      <td>NaN</td>\n",
       "      <td>NaN</td>\n",
       "      <td>NaN</td>\n",
       "      <td>NaN</td>\n",
       "      <td>NaN</td>\n",
       "      <td>NaN</td>\n",
       "      <td>mg</td>\n",
       "    </tr>\n",
       "    <tr>\n",
       "      <td>5</td>\n",
       "      <td>PKDB99999</td>\n",
       "      <td>Test1</td>\n",
       "      <td>2331</td>\n",
       "      <td>-1</td>\n",
       "      <td>False</td>\n",
       "      <td>po75</td>\n",
       "      <td>oral</td>\n",
       "      <td>tablet</td>\n",
       "      <td>single dose</td>\n",
       "      <td>0.0</td>\n",
       "      <td>...</td>\n",
       "      <td>midazolam</td>\n",
       "      <td>7.500000</td>\n",
       "      <td>NaN</td>\n",
       "      <td>NaN</td>\n",
       "      <td>NaN</td>\n",
       "      <td>NaN</td>\n",
       "      <td>NaN</td>\n",
       "      <td>NaN</td>\n",
       "      <td>NaN</td>\n",
       "      <td>mg</td>\n",
       "    </tr>\n",
       "  </tbody>\n",
       "</table>\n",
       "<p>6 rows × 23 columns</p>\n",
       "</div>"
      ],
      "text/plain": [
       "   study_sid study_name  intervention_pk  raw_pk  normed  name route  \\\n",
       "0  PKDB99999      Test1             2336    2335    True    iv    iv   \n",
       "1  PKDB99999      Test1             2335      -1   False    iv    iv   \n",
       "2  PKDB99999      Test1             2334    2332    True  po15  oral   \n",
       "3  PKDB99999      Test1             2333    2331    True  po75  oral   \n",
       "4  PKDB99999      Test1             2332      -1   False  po15  oral   \n",
       "5  PKDB99999      Test1             2331      -1   False  po75  oral   \n",
       "\n",
       "       form  application  time  ...  substance      value mean median  min  \\\n",
       "0  solution  single dose   0.0  ...  midazolam   0.000075  NaN    NaN  NaN   \n",
       "1  solution  single dose   0.0  ...  midazolam   0.075000  NaN    NaN  NaN   \n",
       "2    tablet  single dose   0.0  ...  midazolam   0.015000  NaN    NaN  NaN   \n",
       "3    tablet  single dose   0.0  ...  midazolam   0.007500  NaN    NaN  NaN   \n",
       "4    tablet  single dose   0.0  ...  midazolam  15.000000  NaN    NaN  NaN   \n",
       "5    tablet  single dose   0.0  ...  midazolam   7.500000  NaN    NaN  NaN   \n",
       "\n",
       "   max  sd  se  cv             unit  \n",
       "0  NaN NaN NaN NaN  gram / kilogram  \n",
       "1  NaN NaN NaN NaN            mg/kg  \n",
       "2  NaN NaN NaN NaN             gram  \n",
       "3  NaN NaN NaN NaN             gram  \n",
       "4  NaN NaN NaN NaN               mg  \n",
       "5  NaN NaN NaN NaN               mg  \n",
       "\n",
       "[6 rows x 23 columns]"
      ]
     },
     "execution_count": 71,
     "metadata": {},
     "output_type": "execute_result"
    }
   ],
   "source": [
    "test_data.interventions.df"
   ]
  },
  {
   "cell_type": "code",
   "execution_count": 72,
   "metadata": {},
   "outputs": [
    {
     "name": "stderr",
     "output_type": "stream",
     "text": [
      "WARNING:root:interventions\n",
      "/home/janekg/Env/pkdb_analysis/lib/python3.6/site-packages/ipykernel_launcher.py:1: PerformanceWarning: \n",
      "your performance may suffer as PyTables will pickle object types that it cannot\n",
      "map directly to c-types [inferred_type->mixed,key->block3_values] [items->['study_sid', 'study_name', 'name', 'route', 'form', 'application', 'time_unit', 'measurement_type', 'choice', 'substance', 'unit']]\n",
      "\n",
      "  \"\"\"Entry point for launching an IPython kernel.\n",
      "WARNING:root:individuals\n",
      "/home/janekg/Env/pkdb_analysis/lib/python3.6/site-packages/ipykernel_launcher.py:1: PerformanceWarning: \n",
      "your performance may suffer as PyTables will pickle object types that it cannot\n",
      "map directly to c-types [inferred_type->mixed,key->block2_values] [items->['study_sid', 'study_name', 'individual_name', 'measurement_type', 'choice', 'substance', 'unit']]\n",
      "\n",
      "  \"\"\"Entry point for launching an IPython kernel.\n",
      "WARNING:root:groups\n",
      "/home/janekg/Env/pkdb_analysis/lib/python3.6/site-packages/ipykernel_launcher.py:1: PerformanceWarning: \n",
      "your performance may suffer as PyTables will pickle object types that it cannot\n",
      "map directly to c-types [inferred_type->mixed,key->block2_values] [items->['study_sid', 'study_name', 'group_name', 'measurement_type', 'choice', 'substance', 'unit']]\n",
      "\n",
      "  \"\"\"Entry point for launching an IPython kernel.\n",
      "WARNING:root:outputs\n",
      "/home/janekg/Env/pkdb_analysis/lib/python3.6/site-packages/ipykernel_launcher.py:1: PerformanceWarning: \n",
      "your performance may suffer as PyTables will pickle object types that it cannot\n",
      "map directly to c-types [inferred_type->mixed,key->block3_values] [items->['study_sid', 'study_name', 'tissue', 'time_unit', 'measurement_type', 'choice', 'substance', 'unit']]\n",
      "\n",
      "  \"\"\"Entry point for launching an IPython kernel.\n",
      "WARNING:root:timecourses\n",
      "/home/janekg/Env/pkdb_analysis/lib/python3.6/site-packages/ipykernel_launcher.py:1: PerformanceWarning: \n",
      "your performance may suffer as PyTables will pickle object types that it cannot\n",
      "map directly to c-types [inferred_type->mixed,key->block2_values] [items->['study_sid', 'study_name', 'tissue', 'time', 'time_unit', 'measurement_type', 'choice', 'substance', 'value', 'mean', 'median', 'min', 'max', 'sd', 'se', 'cv', 'unit']]\n",
      "\n",
      "  \"\"\"Entry point for launching an IPython kernel.\n"
     ]
    }
   ],
   "source": [
    "test_data.to_hdf5(\"test\")"
   ]
  },
  {
   "cell_type": "markdown",
   "metadata": {},
   "source": [
    "# Example queries\n",
    "\n",
    "## 1. Query study"
   ]
  },
  {
   "cell_type": "code",
   "execution_count": 84,
   "metadata": {},
   "outputs": [],
   "source": [
    "test_data = copy.deepcopy(data)\n",
    "\n"
   ]
  },
  {
   "cell_type": "code",
   "execution_count": 86,
   "metadata": {},
   "outputs": [
    {
     "name": "stderr",
     "output_type": "stream",
     "text": [
      "WARNING:root:Calculating choices\n",
      "WARNING:root:Consice DataFrames\n"
     ]
    },
    {
     "data": {
      "text/plain": [
       "<pkdb_analysis.data.PKData at 0x7f048acae9e8>"
      ]
     },
     "execution_count": 86,
     "metadata": {},
     "output_type": "execute_result"
    }
   ],
   "source": [
    "test_data.intervention_pk_filter(f_idx_PKDB99999)"
   ]
  },
  {
   "cell_type": "code",
   "execution_count": 66,
   "metadata": {},
   "outputs": [
    {
     "name": "stdout",
     "output_type": "stream",
     "text": [
      "------------------------------\n",
      "PKData (139657458580056)\n",
      "------------------------------\n",
      "groups              1  (    6)\n",
      "individuals         6  (   42)\n",
      "interventions       6  (    6)\n",
      "outputs           194  (  194)\n",
      "timecourses         4  (    4)\n",
      "------------------------------\n"
     ]
    }
   ],
   "source": [
    "def f_idx_PKDB99999(d):\n",
    "    return (d.study_sid == \"PKDB99999\")\n",
    "\n",
    "print(test_data)\n"
   ]
  },
  {
   "cell_type": "code",
   "execution_count": null,
   "metadata": {},
   "outputs": [],
   "source": [
    "%%timeit -r 2 -n 1\n",
    "PKDB99999_data = test_data.filter_by_f_idx(\"interventions\", f_idx_PKDB99999)"
   ]
  },
  {
   "cell_type": "markdown",
   "metadata": {},
   "source": [
    "## Query groups and individuals\n",
    "### 2.1 Get data for groups with characteristica/keywords X\n",
    "healthy=True, smoking=N, disease=None,\n",
    "individual queries and combinations.\n"
   ]
  },
  {
   "cell_type": "code",
   "execution_count": null,
   "metadata": {},
   "outputs": [],
   "source": [
    "def is_healthy_and_smoker(d): \n",
    "    return (d[\"measurement_type\"]==\"healthy\") & (d[\"choice\"]==\"Y\")\n",
    "         \n",
    "\n",
    "def not_disease(d):\n",
    "    return  (d[\"measurement_type\"]==\"disease\")\n",
    "\n",
    "\n",
    "def smoker_n(d):\n",
    "    return (d[\"measurement_type\"]==\"smoking\") & (d[\"choice\"]==\"N\") \\\n",
    "         & (d[\"measurement_type\"]==\"disease\")\n",
    "\n",
    "\n",
    "\n",
    "    \n",
    "    # health related\n",
    "    healthy = not d[(d[\"measurement_type\"]==\"healthy\") & (d[\"choice\"]==\"Y\")].empty\n",
    "    not_disease = _is_not(d,\"measurement_type\", \"disease\")\n",
    "    \n",
    "    # smoking related\n",
    "    smoker_n = not d[(d[\"measurement_type\"]==\"smoking\") & (d[\"choice\"]==\"N\")].empty\n",
    "    not_smoker_y =  d[(d[\"measurement_type\"]==\"smoking\") & (d[\"choice\"]==\"Y\")].empty\n",
    "    \n",
    "    return _all(d, *[not_disease,healthy, smoker_n, not_smoker_y])\n",
    "    \n",
    "    \n",
    "    "
   ]
  },
  {
   "cell_type": "code",
   "execution_count": null,
   "metadata": {},
   "outputs": [],
   "source": [
    "test_data = copy.deepcopy(data)\n"
   ]
  },
  {
   "cell_type": "code",
   "execution_count": null,
   "metadata": {},
   "outputs": [],
   "source": [
    "test_data.groups.groupby(\"group_pk\").get_group(310)\n"
   ]
  },
  {
   "cell_type": "code",
   "execution_count": null,
   "metadata": {},
   "outputs": [],
   "source": [
    "test_data = copy.deepcopy(data)\n",
    "test_data.groups = test_data.groups.groupby(\"group_pk\").apply(is_healthy_and_smoker)\n",
    "test_data.individuals = test_data.individuals.groupby(\"individual_pk\").apply(is_healthy_and_smoker)\n",
    "test_data._concise()"
   ]
  },
  {
   "cell_type": "code",
   "execution_count": null,
   "metadata": {},
   "outputs": [],
   "source": [
    "test_data.outputs"
   ]
  },
  {
   "cell_type": "markdown",
   "metadata": {},
   "source": [
    "## 3 Query interventions\n",
    "### 3.1 Get outputs/timecourses for intervention with substance\n",
    "intervention with measurement_type \"dosing\" and substance \"caffeine\"\n"
   ]
  },
  {
   "cell_type": "code",
   "execution_count": null,
   "metadata": {},
   "outputs": [],
   "source": [
    "def dosing_and_midazolam(d):\n",
    "    dosing_and_midazolam = not d[(d[\"measurement_type\"]==\"dosing\") & (d[\"substance\"]==\"midazolam\")].empty\n",
    "    #dosing = not d[(d[\"measurement_type\"]==\"dosing\")].empty\n",
    "    #caffeine = not d[(d[\"substance\"]==\"midazolam\")].empty\n",
    "    \n",
    "    return _all(d, *[dosing_and_midazolam])\n"
   ]
  },
  {
   "cell_type": "markdown",
   "metadata": {},
   "source": [
    "### 3.2 Get outputs/timecourses where multiple interventions were given"
   ]
  },
  {
   "cell_type": "code",
   "execution_count": null,
   "metadata": {},
   "outputs": [],
   "source": [
    "test_data = copy.deepcopy(data)\n",
    "test_data.interventions = test_data.interventions.groupby(\"pk\").apply(dosing_and_midazolam)\n",
    "test_data._concise()"
   ]
  },
  {
   "cell_type": "code",
   "execution_count": null,
   "metadata": {},
   "outputs": [],
   "source": [
    "test_data._len"
   ]
  },
  {
   "cell_type": "code",
   "execution_count": null,
   "metadata": {},
   "outputs": [],
   "source": [
    "test_data.interventions.head()\n"
   ]
  },
  {
   "cell_type": "markdown",
   "metadata": {},
   "source": [
    "## 4 Query outputs/timecourses\n",
    "### 4.1 query by measurement_type\n",
    "query all auc_inf"
   ]
  },
  {
   "cell_type": "code",
   "execution_count": null,
   "metadata": {},
   "outputs": [],
   "source": [
    "\n",
    "def is_auc_inf(d):\n",
    "    auc_inf = _is(d,\"measurement_type\",\"auc_inf\" )\n",
    "    return _all(d, *[auc_inf])\n",
    "   \n",
    "    "
   ]
  },
  {
   "cell_type": "code",
   "execution_count": null,
   "metadata": {},
   "outputs": [],
   "source": []
  },
  {
   "cell_type": "markdown",
   "metadata": {},
   "source": [
    "## 5 Other Query others\n",
    "### 5.1 Complex\n",
    "get clearance of codeine for all subjects, that have been phenotyped. \n"
   ]
  },
  {
   "cell_type": "code",
   "execution_count": null,
   "metadata": {},
   "outputs": [],
   "source": [
    "def is_phenotyping(d):\n",
    "    metabolic_phenotype = _is(d,\"measurement_type\",\"metabolic phenotype\")\n",
    "    metabolic_ratio = _is(d,\"measurement_type\",\"metabolic ratio\")\n",
    "    return _any(d, *[metabolic_phenotype,metabolic_ratio])"
   ]
  },
  {
   "cell_type": "code",
   "execution_count": null,
   "metadata": {},
   "outputs": [],
   "source": [
    "test_data.outputs.head()"
   ]
  },
  {
   "cell_type": "code",
   "execution_count": null,
   "metadata": {},
   "outputs": [],
   "source": [
    "test_data = copy.deepcopy(data)\n",
    "outputs = test_data.outputs.groupby(\"output_pk\").apply(is_phenotyping)"
   ]
  },
  {
   "cell_type": "code",
   "execution_count": null,
   "metadata": {},
   "outputs": [],
   "source": [
    "# all substances related to metabolic phenotype and metabolic ratio. I am only interessted in cyp2d6 phenotyping -> substance = 'spar/(2hspar+5hspar)', 'deb/4hdeb', 'dtf/dmt'\n",
    "outputs.substance.unique()"
   ]
  },
  {
   "cell_type": "code",
   "execution_count": null,
   "metadata": {},
   "outputs": [],
   "source": [
    "def is_cyp2d6_phenotyping(d):\n",
    "    cyp2d6_phenotype_substances = ['spar/(2hspar+5hspar)', 'deb/4hdeb', 'dtf/dmt']\n",
    "    cyp2d6_phenotype_measurement_types = [\"metabolic phenotype\",\"metabolic ratio\"]\n",
    "    cyp2d6_phenotype = not d[(d[\"substance\"].isin(cyp2d6_phenotype_substances)) & (d[\"measurement_type\"].isin(cyp2d6_phenotype_measurement_types))].empty\n",
    "    return _any(d, *[cyp2d6_phenotype])\n",
    "                                                               \n",
    "def codeine_clearance(d):\n",
    "    codeine_clearance = not d[(d[\"measurement_type\"]==\"clearance\") & (d[\"substance\"]==\"codeine\")].empty                                                           \n",
    "    return _all(d, *[codeine_clearance])                                                               "
   ]
  },
  {
   "cell_type": "code",
   "execution_count": null,
   "metadata": {},
   "outputs": [],
   "source": [
    "cyp2d6_phenotype_data = copy.deepcopy(data)                                                   \n",
    "cyp2d6_phenotype_outputs = test_data.outputs.groupby(\"output_pk\").apply(is_cyp2d6_phenotyping)"
   ]
  },
  {
   "cell_type": "code",
   "execution_count": null,
   "metadata": {},
   "outputs": [],
   "source": [
    "cyp2d6_phenotype_groups = cyp2d6_phenotype_outputs[\"group_pk\"].unique()\n",
    "cyp2d6_phenotype_individuals = cyp2d6_phenotype_outputs[\"individual_pk\"].unique()\n",
    "\n",
    "cyp2d6_phenotype_data.groups = cyp2d6_phenotype_data.groups[cyp2d6_phenotype_data.groups[\"group_pk\"].isin(cyp2d6_phenotype_groups)]\n",
    "cyp2d6_phenotype_data.individuals = cyp2d6_phenotype_data.individuals[cyp2d6_phenotype_data.individuals[\"individual_pk\"].isin(cyp2d6_phenotype_individuals)]\n",
    "cyp2d6_phenotype_data._concise()\n",
    "\n",
    "cyp2d6_phenotype_data.outputs = cyp2d6_phenotype_data.outputs.groupby(\"output_pk\").apply(codeine_clearance)"
   ]
  },
  {
   "cell_type": "code",
   "execution_count": null,
   "metadata": {},
   "outputs": [],
   "source": [
    "cyp2d6_phenotype_data._concise()\n"
   ]
  },
  {
   "cell_type": "code",
   "execution_count": null,
   "metadata": {},
   "outputs": [],
   "source": [
    "cyp2d6_phenotype_data._len"
   ]
  },
  {
   "cell_type": "code",
   "execution_count": null,
   "metadata": {},
   "outputs": [],
   "source": [
    "cyp2d6_phenotype_data.outputs"
   ]
  }
 ],
 "metadata": {
  "kernelspec": {
   "display_name": "pkdb_analysis",
   "language": "python",
   "name": "pkdb_analysis"
  },
  "language_info": {
   "codemirror_mode": {
    "name": "ipython",
    "version": 3
   },
   "file_extension": ".py",
   "mimetype": "text/x-python",
   "name": "python",
   "nbconvert_exporter": "python",
   "pygments_lexer": "ipython3",
   "version": "3.6.8"
  }
 },
 "nbformat": 4,
 "nbformat_minor": 4
}
