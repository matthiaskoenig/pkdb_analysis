{
 "cells": [
  {
   "cell_type": "code",
   "execution_count": 1,
   "metadata": {},
   "outputs": [],
   "source": [
    "%load_ext autoreload\n",
    "%autoreload 2\n",
    "from IPython.display import display\n",
    "from pkdb_analysis import PKFilter, PKData\n",
    "from pkdb_analysis.data import PKDataFrame\n",
    "import copy\n",
    "import pandas as pd\n"
   ]
  },
  {
   "cell_type": "code",
   "execution_count": 2,
   "metadata": {},
   "outputs": [],
   "source": [
    "# uncomment if you want to load from db.\n",
    "#\n",
    "#data = PKData.from_db()\n",
    "#data.to_hdf5(\"test\")"
   ]
  },
  {
   "cell_type": "markdown",
   "metadata": {},
   "source": [
    "# Example queries\n",
    "\n",
    "## 1. Query study"
   ]
  },
  {
   "cell_type": "code",
   "execution_count": 3,
   "metadata": {},
   "outputs": [
    {
     "name": "stderr",
     "output_type": "stream",
     "text": [
      "WARNING:root:/groups\n",
      "WARNING:root:/individuals\n",
      "WARNING:root:/interventions\n",
      "WARNING:root:/outputs\n",
      "WARNING:root:/timecourses\n",
      "WARNING:root:Calculating choices\n"
     ]
    }
   ],
   "source": [
    "test_data = PKData.from_hdf5(\"all\")\n",
    "\n",
    "def f_idx_PKDB99999(d):\n",
    "    return d.study_sid == \"PKDB99999\""
   ]
  },
  {
   "cell_type": "code",
   "execution_count": 4,
   "metadata": {},
   "outputs": [
    {
     "name": "stdout",
     "output_type": "stream",
     "text": [
      "------------------------------\n",
      "PKData (140307593920464)\n",
      "------------------------------\n",
      "studies           237 \n",
      "groups            683  ( 5314)\n",
      "individuals      3127  (27755)\n",
      "interventions     765  (  765)\n",
      "outputs         24192  (34331)\n",
      "timecourses      1815  ( 2529)\n",
      "------------------------------\n"
     ]
    }
   ],
   "source": [
    "print(test_data)"
   ]
  },
  {
   "cell_type": "code",
   "execution_count": 5,
   "metadata": {},
   "outputs": [
    {
     "name": "stderr",
     "output_type": "stream",
     "text": [
      "WARNING:root:Calculating choices\n",
      "WARNING:root:Calculating choices\n",
      "WARNING:root:Consice DataFrames\n"
     ]
    }
   ],
   "source": [
    "t1 = test_data.intervention_pk_filter(f_idx_PKDB99999,concise=False)\n",
    "t2 = test_data.intervention_pk_filter(f_idx_PKDB99999)"
   ]
  },
  {
   "cell_type": "code",
   "execution_count": 6,
   "metadata": {},
   "outputs": [
    {
     "name": "stdout",
     "output_type": "stream",
     "text": [
      "'concise' updates the remaining DataFrames. See the difference between t1 and t2.\n",
      "------------------------------\n",
      "PKData (140307593944592)\n",
      "------------------------------\n",
      "studies           237 \n",
      "groups            683  ( 5314)\n",
      "individuals      3127  (27755)\n",
      "interventions       3  (    3)\n",
      "outputs         24192  (34331)\n",
      "timecourses      1815  ( 2529)\n",
      "------------------------------\n",
      "------------------------------\n",
      "PKData (140307593944200)\n",
      "------------------------------\n",
      "studies             1 \n",
      "groups              1  (    6)\n",
      "individuals         6  (   42)\n",
      "interventions       3  (    3)\n",
      "outputs           105  (  105)\n",
      "timecourses         2  (    2)\n",
      "------------------------------\n"
     ]
    }
   ],
   "source": [
    "print(\"'concise' updates the remaining DataFrames. See the difference between t1 and t2.\")\n",
    "print(t1)\n",
    "print(t2)"
   ]
  },
  {
   "cell_type": "code",
   "execution_count": null,
   "metadata": {},
   "outputs": [],
   "source": []
  },
  {
   "cell_type": "markdown",
   "metadata": {},
   "source": [
    "## Query groups and individuals\n",
    "### 2.1 Get data for groups with characteristica/keywords X\n",
    "healthy=True, smoking=N, disease=None,\n",
    "individual queries and combinations.\n"
   ]
  },
  {
   "cell_type": "code",
   "execution_count": 7,
   "metadata": {},
   "outputs": [],
   "source": [
    "\n",
    "def is_healthy(d): \n",
    "    return (d[\"measurement_type\"]==\"healthy\") & (d[\"choice\"]==\"Y\")\n",
    "\n",
    "def disease(d):\n",
    "    return  d[\"measurement_type\"]==\"disease\"\n",
    "\n",
    "def smoking(d):\n",
    "    return  d[\"measurement_type\"]==\"smoking\"\n",
    "\n",
    "def smoker_n(d):\n",
    "    return smoking(d) & (d[\"choice\"]==\"N\")\n",
    "\n",
    "def smoker_y(d):\n",
    "    return smoking(d) & (d[\"choice\"]==\"Y\")\n",
    "        \n",
    "\n",
    "\n",
    "    "
   ]
  },
  {
   "cell_type": "code",
   "execution_count": 8,
   "metadata": {},
   "outputs": [
    {
     "name": "stderr",
     "output_type": "stream",
     "text": [
      "WARNING:root:/groups\n",
      "WARNING:root:/individuals\n",
      "WARNING:root:/interventions\n",
      "WARNING:root:/outputs\n",
      "WARNING:root:/timecourses\n",
      "WARNING:root:Calculating choices\n"
     ]
    }
   ],
   "source": [
    "test_data = PKData.from_hdf5(\"test\")"
   ]
  },
  {
   "cell_type": "code",
   "execution_count": 9,
   "metadata": {},
   "outputs": [
    {
     "name": "stderr",
     "output_type": "stream",
     "text": [
      "WARNING:root:Calculating choices\n",
      "WARNING:root:Calculating choices\n",
      "WARNING:root:Consice DataFrames\n",
      "WARNING:root:Calculating choices\n",
      "WARNING:root:Calculating choices\n",
      "WARNING:root:Consice DataFrames\n"
     ]
    }
   ],
   "source": [
    "# idx can be a single function, or a list of functions. A list of functions are applied successively and is equivalent to \"AND logic\". \"OR logic\" can be directly applied on the index.\n",
    "healthy_smoker_n_data = test_data.subject_pk_filter([is_healthy, smoker_n]).subject_pk_exclude([smoker_y, disease])\n"
   ]
  },
  {
   "cell_type": "code",
   "execution_count": 10,
   "metadata": {},
   "outputs": [
    {
     "name": "stdout",
     "output_type": "stream",
     "text": [
      "------------------------------\n",
      "PKData (140307626690992)\n",
      "------------------------------\n",
      "studies            75 \n",
      "groups            104  (  994)\n",
      "individuals       558  ( 5259)\n",
      "interventions     220  (  220)\n",
      "outputs          6066  ( 9432)\n",
      "timecourses       378  (  602)\n",
      "------------------------------\n"
     ]
    }
   ],
   "source": [
    "print(healthy_smoker_n_data)"
   ]
  },
  {
   "cell_type": "markdown",
   "metadata": {},
   "source": [
    "## 3 Query interventions\n",
    "### 3.1 Get outputs/timecourses for intervention with substance\n",
    "intervention with measurement_type \"dosing\" and substance \"caffeine\""
   ]
  },
  {
   "cell_type": "code",
   "execution_count": 11,
   "metadata": {},
   "outputs": [],
   "source": [
    "def dosing_and_caffeine(d):\n",
    "    return ((d[\"measurement_type\"]==\"dosing\") & (d[\"substance\"]==\"caffeine\"))"
   ]
  },
  {
   "cell_type": "markdown",
   "metadata": {},
   "source": [
    "### 3.2 Get outputs/timecourses where multiple interventions were given"
   ]
  },
  {
   "cell_type": "code",
   "execution_count": 12,
   "metadata": {},
   "outputs": [
    {
     "name": "stderr",
     "output_type": "stream",
     "text": [
      "WARNING:root:/groups\n",
      "WARNING:root:/individuals\n",
      "WARNING:root:/interventions\n",
      "WARNING:root:/outputs\n",
      "WARNING:root:/timecourses\n",
      "WARNING:root:Calculating choices\n"
     ]
    }
   ],
   "source": [
    "test_data = PKData.from_hdf5(\"test\")"
   ]
  },
  {
   "cell_type": "code",
   "execution_count": 13,
   "metadata": {},
   "outputs": [
    {
     "name": "stderr",
     "output_type": "stream",
     "text": [
      "WARNING:root:Calculating choices\n",
      "WARNING:root:Consice DataFrames\n"
     ]
    }
   ],
   "source": [
    "caffeine_data = test_data.intervention_pk_filter(dosing_and_caffeine)"
   ]
  },
  {
   "cell_type": "code",
   "execution_count": 14,
   "metadata": {},
   "outputs": [
    {
     "name": "stdout",
     "output_type": "stream",
     "text": [
      "------------------------------\n",
      "PKData (140306141018040)\n",
      "------------------------------\n",
      "studies            63 \n",
      "groups            102  (  952)\n",
      "individuals       726  ( 6435)\n",
      "interventions      80  (   80)\n",
      "outputs          5821  ( 5821)\n",
      "timecourses       330  (  330)\n",
      "------------------------------\n"
     ]
    }
   ],
   "source": [
    "print(caffeine_data)"
   ]
  },
  {
   "cell_type": "code",
   "execution_count": null,
   "metadata": {},
   "outputs": [],
   "source": []
  },
  {
   "cell_type": "markdown",
   "metadata": {},
   "source": [
    "## 4 Query outputs/timecourses\n",
    "### 4.1 query by measurement_type\n",
    "query all auc_inf"
   ]
  },
  {
   "cell_type": "code",
   "execution_count": 15,
   "metadata": {},
   "outputs": [],
   "source": [
    "\n",
    "def is_auc_inf(d):\n",
    "    return (d[\"measurement_type\"]==\"auc_inf\")\n",
    "    "
   ]
  },
  {
   "cell_type": "markdown",
   "metadata": {},
   "source": [
    "## 5 Other Query others\n",
    "### 5.1 Complex\n",
    "get clearance of codeine for all subjects, that have been phenotyped for cyp2d6. \n"
   ]
  },
  {
   "cell_type": "code",
   "execution_count": 16,
   "metadata": {},
   "outputs": [],
   "source": [
    "def is_cyp2d6_phenotyped(d):\n",
    "    cyp2d6_phenotype_substances = ['spar/(2hspar+5hspar)', 'deb/4hdeb', 'dtf/dmt']\n",
    "    return d[\"measurement_type\"].isin([\"metabolic phenotype\", \"metabolic ratio\"]) & d[\"substance\"].isin(cyp2d6_phenotype_substances)\n",
    "\n",
    "def codeine_clearance(d):\n",
    "    return (d[\"measurement_type\"]==\"clearance\") & (d[\"substance\"]==\"codeine\")                                                        "
   ]
  },
  {
   "cell_type": "code",
   "execution_count": 17,
   "metadata": {},
   "outputs": [
    {
     "name": "stderr",
     "output_type": "stream",
     "text": [
      "WARNING:root:/groups\n",
      "WARNING:root:/individuals\n",
      "WARNING:root:/interventions\n",
      "WARNING:root:/outputs\n",
      "WARNING:root:/timecourses\n",
      "WARNING:root:Calculating choices\n"
     ]
    }
   ],
   "source": [
    "test_data = PKData.from_hdf5(\"test\")"
   ]
  },
  {
   "cell_type": "code",
   "execution_count": 18,
   "metadata": {},
   "outputs": [
    {
     "name": "stderr",
     "output_type": "stream",
     "text": [
      "WARNING:root:Calculating choices\n",
      "WARNING:root:Consice DataFrames\n"
     ]
    }
   ],
   "source": [
    "phenotyped_data = test_data.output_pk_filter(is_cyp2d6_phenotyped)"
   ]
  },
  {
   "cell_type": "code",
   "execution_count": 19,
   "metadata": {},
   "outputs": [
    {
     "name": "stderr",
     "output_type": "stream",
     "text": [
      "WARNING:root:Calculating choices\n",
      "WARNING:root:Calculating choices\n",
      "WARNING:root:Consice DataFrames\n"
     ]
    }
   ],
   "source": [
    "test_data.groups = phenotyped_data.groups\n",
    "test_data.individuals = phenotyped_data.individuals\n",
    "test_data = test_data.output_pk_filter(codeine_clearance, keep_timecourses = False)\n"
   ]
  },
  {
   "cell_type": "code",
   "execution_count": 20,
   "metadata": {},
   "outputs": [
    {
     "name": "stdout",
     "output_type": "stream",
     "text": [
      "------------------------------\n",
      "PKData (140306192883896)\n",
      "------------------------------\n",
      "studies             4 \n",
      "groups              6  (   60)\n",
      "individuals        14  (   98)\n",
      "interventions       4  (    4)\n",
      "outputs            21  (   21)\n",
      "timecourses         0  (    0)\n",
      "------------------------------\n"
     ]
    }
   ],
   "source": [
    "print(test_data)"
   ]
  },
  {
   "cell_type": "markdown",
   "metadata": {},
   "source": [
    "## 6  Pitfalls "
   ]
  },
  {
   "cell_type": "code",
   "execution_count": 21,
   "metadata": {},
   "outputs": [
    {
     "name": "stderr",
     "output_type": "stream",
     "text": [
      "WARNING:root:/groups\n",
      "WARNING:root:/individuals\n",
      "WARNING:root:/interventions\n",
      "WARNING:root:/outputs\n",
      "WARNING:root:/timecourses\n",
      "WARNING:root:Calculating choices\n",
      "WARNING:root:Calculating choices\n",
      "WARNING:root:Calculating choices\n",
      "WARNING:root:Consice DataFrames\n",
      "WARNING:root:Calculating choices\n",
      "WARNING:root:Calculating choices\n",
      "WARNING:root:Consice DataFrames\n",
      "WARNING:root:Calculating choices\n",
      "WARNING:root:Calculating choices\n",
      "WARNING:root:Consice DataFrames\n",
      "WARNING:root:Calculating choices\n",
      "WARNING:root:Calculating choices\n",
      "WARNING:root:Consice DataFrames\n"
     ]
    }
   ],
   "source": [
    "test_data = PKData.from_hdf5(\"test\")\n",
    "# Wrong \n",
    "def is_healthy_smoker(d): \n",
    "    \"\"\" This will yield zero subjects. No characteristica satisfy measurement_type == 'healthy' and measurement_type == 'disease'. \n",
    "    \"\"\"\n",
    "    return ((d[\"measurement_type\"]==\"healthy\") & (d[\"choice\"]==\"Y\")) & ((d[\"measurement_type\"]==\"smoking\") & (d[\"choice\"]==\"Y\"))\n",
    "         \n",
    "# Correct \n",
    "def is_healthy_smoker(d): \n",
    "    \"\"\" \"\"\"\n",
    "    return [(d[\"measurement_type\"]==\"healthy\") & (d[\"choice\"]==\"Y\"), (d[\"measurement_type\"]==\"smoking\") & (d[\"choice\"]==\"Y\")]\n",
    "\n",
    "   \n",
    "# Wrong \n",
    "def not_smoker_y(d):\n",
    "    \"\"\" Be care this might not do what you expect. Excluding a specific characteristica will not eliminate any subject unless it is the only characteristica.\n",
    "    \"\"\"\n",
    "    return ~((d[\"measurement_type\"]==\"smoking\") & (d[\"choice\"]==\"Y\")) \n",
    "not_smoker_y_data = test_data.subject_pk_filter(not_smoker_y)\n",
    "\n",
    "#Correct\n",
    "# exlcude smoker\n",
    "def smoker_y(d):\n",
    "    return (d[\"measurement_type\"]==\"smoking\") & (d[\"choice\"]==\"Y\")\n",
    "healthy_data = test_data.subject_pk_exclude(smoker_y)\n",
    "\n",
    "\n",
    "\n",
    "# Wrong \n",
    "def not_disease(d):\n",
    "    \"\"\" Be care this might not do what you expect. Excluding a specific characteristica will not eliminate any subject unless it is the only characteristica\n",
    "    \"\"\"\n",
    "    return  ~(d[\"measurement_type\"]==\"disease\")\n",
    "healthy_data = test_data.subject_pk_filter(not_disease)\n",
    "\n",
    "# Correct \n",
    "# exlcude the disease\n",
    "def disease(d):\n",
    "    return  d[\"measurement_type\"]==\"disease\"\n",
    "healthy_data = test_data.subject_pk_exclude(disease)\n"
   ]
  },
  {
   "cell_type": "code",
   "execution_count": null,
   "metadata": {},
   "outputs": [],
   "source": []
  }
 ],
 "metadata": {
  "kernelspec": {
   "display_name": "pkdb_analysis",
   "language": "python",
   "name": "pkdb_analysis"
  },
  "language_info": {
   "codemirror_mode": {
    "name": "ipython",
    "version": 3
   },
   "file_extension": ".py",
   "mimetype": "text/x-python",
   "name": "python",
   "nbconvert_exporter": "python",
   "pygments_lexer": "ipython3",
   "version": "3.6.8"
  }
 },
 "nbformat": 4,
 "nbformat_minor": 4
}
