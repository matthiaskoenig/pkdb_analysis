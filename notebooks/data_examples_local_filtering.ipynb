{
 "cells": [
  {
   "cell_type": "code",
   "execution_count": 158,
   "metadata": {},
   "outputs": [
    {
     "name": "stdout",
     "output_type": "stream",
     "text": [
      "The autoreload extension is already loaded. To reload it, use:\n",
      "  %reload_ext autoreload\n"
     ]
    }
   ],
   "source": [
    "%load_ext autoreload\n",
    "%autoreload 2\n",
    "from IPython.display import display\n",
    "from pkdb_analysis import PKFilter, PKData\n",
    "from pkdb_analysis.data import PKDataFrame\n",
    "import copy\n",
    "import pandas as pd\n"
   ]
  },
  {
   "cell_type": "code",
   "execution_count": 159,
   "metadata": {},
   "outputs": [],
   "source": [
    "# uncomment if you want to load from db.\n",
    "#\n",
    "#data = PKData.from_db()\n",
    "#data.to_hdf5(\"test\")"
   ]
  },
  {
   "cell_type": "markdown",
   "metadata": {},
   "source": [
    "# Example queries\n",
    "\n",
    "## 1. Query study"
   ]
  },
  {
   "cell_type": "code",
   "execution_count": 160,
   "metadata": {},
   "outputs": [
    {
     "name": "stderr",
     "output_type": "stream",
     "text": [
      "WARNING:root:/groups\n",
      "WARNING:root:/individuals\n",
      "WARNING:root:/interventions\n",
      "WARNING:root:/outputs\n",
      "WARNING:root:/timecourses\n",
      "WARNING:root:Calculating choices\n"
     ]
    }
   ],
   "source": [
    "test_data = PKData.from_hdf5(\"test\")\n",
    "\n",
    "def f_idx_PKDB99999(d):\n",
    "    return (d.study_sid == \"PKDB99999\")"
   ]
  },
  {
   "cell_type": "code",
   "execution_count": 161,
   "metadata": {},
   "outputs": [
    {
     "name": "stdout",
     "output_type": "stream",
     "text": [
      "------------------------------\n",
      "PKData (139657175407584)\n",
      "------------------------------\n",
      "groups            683  ( 5314)\n",
      "individuals      3127  (27755)\n",
      "interventions     765  (  765)\n",
      "outputs         24192  (34331)\n",
      "timecourses      1815  ( 2529)\n",
      "------------------------------\n"
     ]
    }
   ],
   "source": [
    "print(test_data)"
   ]
  },
  {
   "cell_type": "code",
   "execution_count": 163,
   "metadata": {},
   "outputs": [
    {
     "name": "stderr",
     "output_type": "stream",
     "text": [
      "WARNING:root:Calculating choices\n",
      "WARNING:root:Calculating choices\n",
      "WARNING:root:Consice DataFrames\n"
     ]
    }
   ],
   "source": [
    "t1 = test_data.intervention_pk_filter(f_idx_PKDB99999,concise=False)\n",
    "t2 = test_data.intervention_pk_filter(f_idx_PKDB99999)"
   ]
  },
  {
   "cell_type": "code",
   "execution_count": 166,
   "metadata": {},
   "outputs": [
    {
     "name": "stdout",
     "output_type": "stream",
     "text": [
      "'concise' updates the remaining DataFrames. See the difference between t1 and t2.\n",
      "------------------------------\n",
      "PKData (139657060112760)\n",
      "------------------------------\n",
      "groups            683  ( 5314)\n",
      "individuals      3127  (27755)\n",
      "interventions       3  (    3)\n",
      "outputs         24192  (34331)\n",
      "timecourses      1815  ( 2529)\n",
      "------------------------------\n",
      "------------------------------\n",
      "PKData (139657060778784)\n",
      "------------------------------\n",
      "groups              1  (    6)\n",
      "individuals         6  (   42)\n",
      "interventions       3  (    3)\n",
      "outputs           105  (  105)\n",
      "timecourses         2  (    2)\n",
      "------------------------------\n"
     ]
    }
   ],
   "source": [
    "print(\"'concise' updates the remaining DataFrames. See the difference between t1 and t2.\")\n",
    "print(t1)\n",
    "print(t2)"
   ]
  },
  {
   "cell_type": "markdown",
   "metadata": {},
   "source": [
    "## Query groups and individuals\n",
    "### 2.1 Get data for groups with characteristica/keywords X\n",
    "healthy=True, smoking=N, disease=None,\n",
    "individual queries and combinations.\n"
   ]
  },
  {
   "cell_type": "code",
   "execution_count": 167,
   "metadata": {},
   "outputs": [],
   "source": [
    "\n",
    "def is_healthy(d): \n",
    "    return ((d[\"measurement_type\"]==\"healthy\") & (d[\"choice\"]==\"Y\"))\n",
    "         \n",
    "def not_disease(d):\n",
    "    return  ~(d[\"measurement_type\"]==\"disease\")\n",
    "\n",
    "def smoker_n(d):\n",
    "    return ((d[\"measurement_type\"]==\"smoking\") & (d[\"choice\"]==\"N\"))\n",
    "        \n",
    "def not_smoker_y(d):\n",
    "    return ~((d[\"measurement_type\"]==\"smoking\") & (d[\"choice\"]==\"N\")) \n",
    "    "
   ]
  },
  {
   "cell_type": "code",
   "execution_count": 168,
   "metadata": {},
   "outputs": [
    {
     "name": "stderr",
     "output_type": "stream",
     "text": [
      "WARNING:root:/groups\n",
      "WARNING:root:/individuals\n",
      "WARNING:root:/interventions\n",
      "WARNING:root:/outputs\n",
      "WARNING:root:/timecourses\n",
      "WARNING:root:Calculating choices\n"
     ]
    }
   ],
   "source": [
    "test_data = PKData.from_hdf5(\"test\")\n"
   ]
  },
  {
   "cell_type": "code",
   "execution_count": 169,
   "metadata": {},
   "outputs": [
    {
     "name": "stderr",
     "output_type": "stream",
     "text": [
      "WARNING:root:Calculating choices\n",
      "WARNING:root:Calculating choices\n",
      "WARNING:root:Consice DataFrames\n"
     ]
    }
   ],
   "source": [
    "# idx can be a single function, or a list of functions. A list of functions are applied successively and is equivalent to \"AND logic\". \"OR logic\" can be directly applied on the index.\n",
    "healthy_smoker = test_data.subject_pk_filter([is_healthy,not_disease,smoker_n,not_smoker_y])"
   ]
  },
  {
   "cell_type": "code",
   "execution_count": 170,
   "metadata": {},
   "outputs": [
    {
     "name": "stdout",
     "output_type": "stream",
     "text": [
      "------------------------------\n",
      "PKData (139657084373088)\n",
      "------------------------------\n",
      "groups            467  ( 3990)\n",
      "individuals      1131  (11668)\n",
      "interventions     637  (  637)\n",
      "outputs         15604  (22721)\n",
      "timecourses      1251  ( 1789)\n",
      "------------------------------\n"
     ]
    }
   ],
   "source": [
    "print(healthy_smoker)"
   ]
  },
  {
   "cell_type": "markdown",
   "metadata": {},
   "source": [
    "## 3 Query interventions\n",
    "### 3.1 Get outputs/timecourses for intervention with substance\n",
    "intervention with measurement_type \"dosing\" and substance \"caffeine\""
   ]
  },
  {
   "cell_type": "code",
   "execution_count": 156,
   "metadata": {},
   "outputs": [],
   "source": [
    "def dosing_and_caffeine(d):\n",
    "    return ((d[\"measurement_type\"]==\"dosing\") & (d[\"substance\"]==\"caffeine\"))"
   ]
  },
  {
   "cell_type": "markdown",
   "metadata": {},
   "source": [
    "### 3.2 Get outputs/timecourses where multiple interventions were given"
   ]
  },
  {
   "cell_type": "code",
   "execution_count": 189,
   "metadata": {},
   "outputs": [
    {
     "name": "stderr",
     "output_type": "stream",
     "text": [
      "WARNING:root:/groups\n",
      "WARNING:root:/individuals\n",
      "WARNING:root:/interventions\n",
      "WARNING:root:/outputs\n",
      "WARNING:root:/timecourses\n",
      "WARNING:root:Calculating choices\n"
     ]
    }
   ],
   "source": [
    "test_data = PKData.from_hdf5(\"test\")"
   ]
  },
  {
   "cell_type": "code",
   "execution_count": 190,
   "metadata": {},
   "outputs": [
    {
     "name": "stderr",
     "output_type": "stream",
     "text": [
      "WARNING:root:Calculating choices\n",
      "WARNING:root:Consice DataFrames\n"
     ]
    }
   ],
   "source": [
    "caffeine_data = test_data.intervention_pk_filter(dosing_and_caffeine)"
   ]
  },
  {
   "cell_type": "code",
   "execution_count": 188,
   "metadata": {},
   "outputs": [
    {
     "name": "stdout",
     "output_type": "stream",
     "text": [
      "------------------------------\n",
      "PKData (139656996049864)\n",
      "------------------------------\n",
      "studies            29 \n",
      "groups             57  (  388)\n",
      "individuals       223  ( 1562)\n",
      "interventions      65  (   65)\n",
      "outputs          3207  ( 3241)\n",
      "timecourses       219  (  220)\n",
      "------------------------------\n"
     ]
    }
   ],
   "source": [
    "print(caffeine_data)"
   ]
  },
  {
   "cell_type": "code",
   "execution_count": null,
   "metadata": {},
   "outputs": [],
   "source": []
  },
  {
   "cell_type": "markdown",
   "metadata": {},
   "source": [
    "## 4 Query outputs/timecourses\n",
    "### 4.1 query by measurement_type\n",
    "query all auc_inf"
   ]
  },
  {
   "cell_type": "code",
   "execution_count": null,
   "metadata": {},
   "outputs": [],
   "source": [
    "\n",
    "def is_auc_inf(d):\n",
    "    return (d[\"measurement_type\"]==\"dosing\")\n",
    "    "
   ]
  },
  {
   "cell_type": "markdown",
   "metadata": {},
   "source": [
    "## 5 Other Query others\n",
    "### 5.1 Complex\n",
    "get clearance of codeine for all subjects, that have been phenotyped. \n"
   ]
  },
  {
   "cell_type": "code",
   "execution_count": 195,
   "metadata": {},
   "outputs": [],
   "source": [
    "def is_cyp2d6_phenotyped(d):\n",
    "    cyp2d6_phenotype_substances = ['spar/(2hspar+5hspar)', 'deb/4hdeb', 'dtf/dmt']\n",
    "    return (d[\"measurement_type\"].isin([\"metabolic phenotype\", \"metabolic ratio\"])) & (d[\"substance\"].isin(cyp2d6_phenotype_substances))\n",
    "\n",
    "def codeine_clearance(d):\n",
    "    return ((d[\"measurement_type\"]==\"clearance\") & (d[\"substance\"]==\"codeine\"))                                                         "
   ]
  },
  {
   "cell_type": "code",
   "execution_count": 196,
   "metadata": {},
   "outputs": [
    {
     "name": "stderr",
     "output_type": "stream",
     "text": [
      "WARNING:root:/groups\n",
      "WARNING:root:/individuals\n",
      "WARNING:root:/interventions\n",
      "WARNING:root:/outputs\n",
      "WARNING:root:/timecourses\n",
      "WARNING:root:Calculating choices\n"
     ]
    }
   ],
   "source": [
    "test_data = PKData.from_hdf5(\"test\")"
   ]
  },
  {
   "cell_type": "code",
   "execution_count": 197,
   "metadata": {},
   "outputs": [
    {
     "name": "stderr",
     "output_type": "stream",
     "text": [
      "WARNING:root:Calculating choices\n"
     ]
    }
   ],
   "source": [
    "phenotyped_data = test_data.output_pk_filter(is_phenotyping)"
   ]
  },
  {
   "cell_type": "code",
   "execution_count": 198,
   "metadata": {},
   "outputs": [
    {
     "name": "stderr",
     "output_type": "stream",
     "text": [
      "WARNING:root:Calculating choices\n",
      "WARNING:root:Consice DataFrames\n"
     ]
    }
   ],
   "source": [
    "test_data.groups = phenotyped_data.groups\n",
    "test_data.individuals = phenotyped_data.individuals\n",
    "test_data = test_data.output_pk_filter(codeine_clearance)"
   ]
  },
  {
   "cell_type": "code",
   "execution_count": 199,
   "metadata": {},
   "outputs": [
    {
     "name": "stdout",
     "output_type": "stream",
     "text": [
      "------------------------------\n",
      "PKData (139657002707824)\n",
      "------------------------------\n",
      "studies            18 \n",
      "groups             28  (  278)\n",
      "individuals        36  (  296)\n",
      "interventions      20  (   20)\n",
      "outputs            75  (   75)\n",
      "timecourses       176  (  176)\n",
      "------------------------------\n"
     ]
    }
   ],
   "source": [
    "print(test_data)"
   ]
  }
 ],
 "metadata": {
  "kernelspec": {
   "display_name": "pkdb_analysis",
   "language": "python",
   "name": "pkdb_analysis"
  },
  "language_info": {
   "codemirror_mode": {
    "name": "ipython",
    "version": 3
   },
   "file_extension": ".py",
   "mimetype": "text/x-python",
   "name": "python",
   "nbconvert_exporter": "python",
   "pygments_lexer": "ipython3",
   "version": "3.6.8"
  }
 },
 "nbformat": 4,
 "nbformat_minor": 4
}
