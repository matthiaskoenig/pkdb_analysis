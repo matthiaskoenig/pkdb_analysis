{
 "cells": [
  {
   "cell_type": "code",
   "execution_count": 158,
   "metadata": {},
   "outputs": [
    {
     "name": "stdout",
     "output_type": "stream",
     "text": [
      "The autoreload extension is already loaded. To reload it, use:\n",
      "  %reload_ext autoreload\n"
     ]
    }
   ],
   "source": [
    "%load_ext autoreload\n",
    "%autoreload 2\n",
    "from IPython.display import display\n",
    "from pkdb_analysis import PKFilter, PKData\n",
    "from pkdb_analysis.data import PKDataFrame\n",
    "import copy\n",
    "import pandas as pd\n"
   ]
  },
  {
   "cell_type": "code",
   "execution_count": 159,
   "metadata": {},
   "outputs": [],
   "source": [
    "# uncomment if you want to load from db.\n",
    "#\n",
    "#data = PKData.from_db()\n",
    "#data.to_hdf5(\"test\")"
   ]
  },
  {
   "cell_type": "markdown",
   "metadata": {},
   "source": [
    "# Example queries\n",
    "\n",
    "## 1. Query study"
   ]
  },
  {
   "cell_type": "code",
   "execution_count": 160,
   "metadata": {},
   "outputs": [
    {
     "name": "stderr",
     "output_type": "stream",
     "text": [
      "WARNING:root:/groups\n",
      "WARNING:root:/individuals\n",
      "WARNING:root:/interventions\n",
      "WARNING:root:/outputs\n",
      "WARNING:root:/timecourses\n",
      "WARNING:root:Calculating choices\n"
     ]
    }
   ],
   "source": [
    "test_data = PKData.from_hdf5(\"test\")\n",
    "\n",
    "def f_idx_PKDB99999(d):\n",
    "    return (d.study_sid == \"PKDB99999\")"
   ]
  },
  {
   "cell_type": "code",
   "execution_count": 161,
   "metadata": {},
   "outputs": [
    {
     "name": "stdout",
     "output_type": "stream",
     "text": [
      "------------------------------\n",
      "PKData (139657175407584)\n",
      "------------------------------\n",
      "groups            683  ( 5314)\n",
      "individuals      3127  (27755)\n",
      "interventions     765  (  765)\n",
      "outputs         24192  (34331)\n",
      "timecourses      1815  ( 2529)\n",
      "------------------------------\n"
     ]
    }
   ],
   "source": [
    "print(test_data)"
   ]
  },
  {
   "cell_type": "code",
   "execution_count": 163,
   "metadata": {},
   "outputs": [
    {
     "name": "stderr",
     "output_type": "stream",
     "text": [
      "WARNING:root:Calculating choices\n",
      "WARNING:root:Calculating choices\n",
      "WARNING:root:Consice DataFrames\n"
     ]
    }
   ],
   "source": [
    "t1 = test_data.intervention_pk_filter(f_idx_PKDB99999,concise=False)\n",
    "t2 = test_data.intervention_pk_filter(f_idx_PKDB99999)"
   ]
  },
  {
   "cell_type": "code",
   "execution_count": 166,
   "metadata": {},
   "outputs": [
    {
     "name": "stdout",
     "output_type": "stream",
     "text": [
      "'concise' updates the remaining DataFrames. See the difference between t1 and t2.\n",
      "------------------------------\n",
      "PKData (139657060112760)\n",
      "------------------------------\n",
      "groups            683  ( 5314)\n",
      "individuals      3127  (27755)\n",
      "interventions       3  (    3)\n",
      "outputs         24192  (34331)\n",
      "timecourses      1815  ( 2529)\n",
      "------------------------------\n",
      "------------------------------\n",
      "PKData (139657060778784)\n",
      "------------------------------\n",
      "groups              1  (    6)\n",
      "individuals         6  (   42)\n",
      "interventions       3  (    3)\n",
      "outputs           105  (  105)\n",
      "timecourses         2  (    2)\n",
      "------------------------------\n"
     ]
    }
   ],
   "source": [
    "print(\"'concise' updates the remaining DataFrames. See the difference between t1 and t2.\")\n",
    "print(t1)\n",
    "print(t2)"
   ]
  },
  {
   "cell_type": "markdown",
   "metadata": {},
   "source": [
    "## Query groups and individuals\n",
    "### 2.1 Get data for groups with characteristica/keywords X\n",
    "healthy=True, smoking=N, disease=None,\n",
    "individual queries and combinations.\n"
   ]
  },
  {
   "cell_type": "code",
   "execution_count": 167,
   "metadata": {},
   "outputs": [],
   "source": [
    "\n",
    "def is_healthy(d): \n",
    "    return ((d[\"measurement_type\"]==\"healthy\") & (d[\"choice\"]==\"Y\"))\n",
    "         \n",
    "def not_disease(d):\n",
    "    return  ~(d[\"measurement_type\"]==\"disease\")\n",
    "\n",
    "def smoker_n(d):\n",
    "    return ((d[\"measurement_type\"]==\"smoking\") & (d[\"choice\"]==\"N\"))\n",
    "        \n",
    "def not_smoker_y(d):\n",
    "    return ~((d[\"measurement_type\"]==\"smoking\") & (d[\"choice\"]==\"N\")) \n",
    "    "
   ]
  },
  {
   "cell_type": "code",
   "execution_count": 168,
   "metadata": {},
   "outputs": [
    {
     "name": "stderr",
     "output_type": "stream",
     "text": [
      "WARNING:root:/groups\n",
      "WARNING:root:/individuals\n",
      "WARNING:root:/interventions\n",
      "WARNING:root:/outputs\n",
      "WARNING:root:/timecourses\n",
      "WARNING:root:Calculating choices\n"
     ]
    }
   ],
   "source": [
    "test_data = PKData.from_hdf5(\"test\")\n"
   ]
  },
  {
   "cell_type": "code",
   "execution_count": 169,
   "metadata": {},
   "outputs": [
    {
     "name": "stderr",
     "output_type": "stream",
     "text": [
      "WARNING:root:Calculating choices\n",
      "WARNING:root:Calculating choices\n",
      "WARNING:root:Consice DataFrames\n"
     ]
    }
   ],
   "source": [
    "# idx can be a single function, or a list of functions. A list of functions are applied successively and is equivalent to \"AND logic\". \"OR logic\" can be directly applied on the index.\n",
    "healthy_smoker = test_data.subject_pk_filter([is_healthy,not_disease,smoker_n,not_smoker_y])"
   ]
  },
  {
   "cell_type": "code",
   "execution_count": 170,
   "metadata": {},
   "outputs": [
    {
     "name": "stdout",
     "output_type": "stream",
     "text": [
      "------------------------------\n",
      "PKData (139657084373088)\n",
      "------------------------------\n",
      "groups            467  ( 3990)\n",
      "individuals      1131  (11668)\n",
      "interventions     637  (  637)\n",
      "outputs         15604  (22721)\n",
      "timecourses      1251  ( 1789)\n",
      "------------------------------\n"
     ]
    }
   ],
   "source": [
    "print(healthy_smoker)"
   ]
  },
  {
   "cell_type": "markdown",
   "metadata": {},
   "source": [
    "## 3 Query interventions\n",
    "### 3.1 Get outputs/timecourses for intervention with substance\n",
    "intervention with measurement_type \"dosing\" and substance \"caffeine\""
   ]
  },
  {
   "cell_type": "code",
   "execution_count": 156,
   "metadata": {},
   "outputs": [],
   "source": [
    "def dosing_and_caffeine(d):\n",
    "    return ((d[\"measurement_type\"]==\"dosing\") & (d[\"substance\"]==\"caffeine\"))"
   ]
  },
  {
   "cell_type": "markdown",
   "metadata": {},
   "source": [
    "### 3.2 Get outputs/timecourses where multiple interventions were given"
   ]
  },
  {
   "cell_type": "code",
   "execution_count": 189,
   "metadata": {},
   "outputs": [
    {
     "name": "stderr",
     "output_type": "stream",
     "text": [
      "WARNING:root:/groups\n",
      "WARNING:root:/individuals\n",
      "WARNING:root:/interventions\n",
      "WARNING:root:/outputs\n",
      "WARNING:root:/timecourses\n",
      "WARNING:root:Calculating choices\n"
     ]
    }
   ],
   "source": [
    "test_data = PKData.from_hdf5(\"test\")"
   ]
  },
  {
   "cell_type": "code",
   "execution_count": 190,
   "metadata": {},
   "outputs": [
    {
     "name": "stderr",
     "output_type": "stream",
     "text": [
      "WARNING:root:Calculating choices\n",
      "WARNING:root:Consice DataFrames\n"
     ]
    }
   ],
   "source": [
    "caffeine_data = test_data.intervention_pk_filter(dosing_and_caffeine)"
   ]
  },
  {
   "cell_type": "code",
   "execution_count": 188,
   "metadata": {},
   "outputs": [
    {
     "name": "stdout",
     "output_type": "stream",
     "text": [
      "------------------------------\n",
      "PKData (139656996049864)\n",
      "------------------------------\n",
      "studies            29 \n",
      "groups             57  (  388)\n",
      "individuals       223  ( 1562)\n",
      "interventions      65  (   65)\n",
      "outputs          3207  ( 3241)\n",
      "timecourses       219  (  220)\n",
      "------------------------------\n"
     ]
    }
   ],
   "source": [
    "print(caffeine_data)"
   ]
  },
  {
   "cell_type": "code",
   "execution_count": null,
   "metadata": {},
   "outputs": [],
   "source": []
  },
  {
   "cell_type": "markdown",
   "metadata": {},
   "source": [
    "## 4 Query outputs/timecourses\n",
    "### 4.1 query by measurement_type\n",
    "query all auc_inf"
   ]
  },
  {
   "cell_type": "code",
   "execution_count": null,
   "metadata": {},
   "outputs": [],
   "source": [
    "\n",
    "def is_auc_inf(d):\n",
    "    return (d[\"measurement_type\"]==\"dosing\")\n",
    "    "
   ]
  },
  {
   "cell_type": "markdown",
   "metadata": {},
   "source": [
    "## 5 Other Query others\n",
    "### 5.1 Complex\n",
    "get clearance of codeine for all subjects, that have been phenotyped. \n"
   ]
  },
  {
   "cell_type": "code",
   "execution_count": 206,
   "metadata": {},
   "outputs": [],
   "source": [
    "def is_cyp2d6_phenotyped(d):\n",
    "    cyp2d6_phenotype_substances = ['spar/(2hspar+5hspar)', 'deb/4hdeb', 'dtf/dmt']\n",
    "    return (d[\"measurement_type\"].isin([\"metabolic phenotype\", \"metabolic ratio\"])) & (d[\"substance\"].isin(cyp2d6_phenotype_substances))\n",
    "\n",
    "def codeine_clearance(d):\n",
    "    return ((d[\"measurement_type\"]==\"clearance\") & (d[\"substance\"]==\"codeine\"))                                                         "
   ]
  },
  {
   "cell_type": "code",
   "execution_count": 212,
   "metadata": {},
   "outputs": [
    {
     "name": "stderr",
     "output_type": "stream",
     "text": [
      "WARNING:root:/groups\n",
      "WARNING:root:/individuals\n",
      "WARNING:root:/interventions\n",
      "WARNING:root:/outputs\n",
      "WARNING:root:/timecourses\n",
      "WARNING:root:Calculating choices\n"
     ]
    }
   ],
   "source": [
    "test_data = PKData.from_hdf5(\"test\")"
   ]
  },
  {
   "cell_type": "code",
   "execution_count": 213,
   "metadata": {},
   "outputs": [
    {
     "name": "stderr",
     "output_type": "stream",
     "text": [
      "WARNING:root:Calculating choices\n",
      "WARNING:root:Consice DataFrames\n"
     ]
    }
   ],
   "source": [
    "phenotyped_data = test_data.output_pk_filter(is_phenotyping)"
   ]
  },
  {
   "cell_type": "code",
   "execution_count": 214,
   "metadata": {},
   "outputs": [
    {
     "name": "stderr",
     "output_type": "stream",
     "text": [
      "WARNING:root:Calculating choices\n",
      "WARNING:root:Calculating choices\n",
      "WARNING:root:Consice DataFrames\n"
     ]
    }
   ],
   "source": [
    "test_data.groups = phenotyped_data.groups\n",
    "test_data.individuals = phenotyped_data.individuals\n",
    "test_data = test_data.output_pk_filter(codeine_clearance, keep_timecourses = False)\n"
   ]
  },
  {
   "cell_type": "code",
   "execution_count": 215,
   "metadata": {},
   "outputs": [
    {
     "name": "stdout",
     "output_type": "stream",
     "text": [
      "------------------------------\n",
      "PKData (139657066075472)\n",
      "------------------------------\n",
      "studies             5 \n",
      "groups              7  (   68)\n",
      "individuals        14  (   98)\n",
      "interventions       5  (    5)\n",
      "outputs            22  (   22)\n",
      "timecourses         0  (    0)\n",
      "------------------------------\n"
     ]
    }
   ],
   "source": [
    "print(test_data)"
   ]
  },
  {
   "cell_type": "code",
   "execution_count": 226,
   "metadata": {},
   "outputs": [
    {
     "name": "stderr",
     "output_type": "stream",
     "text": [
      "WARNING:root:/groups\n",
      "WARNING:root:/individuals\n",
      "WARNING:root:/interventions\n",
      "WARNING:root:/outputs\n",
      "WARNING:root:/timecourses\n",
      "WARNING:root:Calculating choices\n"
     ]
    }
   ],
   "source": [
    "from pathlib import Path\n",
    "\n",
    "h5_path = Path(\"../pkdb_analysis/tests\") / \"test.h5\"\n",
    "test_data = PKData.from_hdf5(h5_path)"
   ]
  },
  {
   "cell_type": "code",
   "execution_count": 227,
   "metadata": {},
   "outputs": [
    {
     "data": {
      "text/html": [
       "<div>\n",
       "<style scoped>\n",
       "    .dataframe tbody tr th:only-of-type {\n",
       "        vertical-align: middle;\n",
       "    }\n",
       "\n",
       "    .dataframe tbody tr th {\n",
       "        vertical-align: top;\n",
       "    }\n",
       "\n",
       "    .dataframe thead th {\n",
       "        text-align: right;\n",
       "    }\n",
       "</style>\n",
       "<table border=\"1\" class=\"dataframe\">\n",
       "  <thead>\n",
       "    <tr style=\"text-align: right;\">\n",
       "      <th></th>\n",
       "      <th>study_sid</th>\n",
       "      <th>study_name</th>\n",
       "      <th>intervention_pk</th>\n",
       "      <th>raw_pk</th>\n",
       "      <th>normed</th>\n",
       "      <th>name</th>\n",
       "      <th>route</th>\n",
       "      <th>form</th>\n",
       "      <th>application</th>\n",
       "      <th>time</th>\n",
       "      <th>...</th>\n",
       "      <th>substance</th>\n",
       "      <th>value</th>\n",
       "      <th>mean</th>\n",
       "      <th>median</th>\n",
       "      <th>min</th>\n",
       "      <th>max</th>\n",
       "      <th>sd</th>\n",
       "      <th>se</th>\n",
       "      <th>cv</th>\n",
       "      <th>unit</th>\n",
       "    </tr>\n",
       "  </thead>\n",
       "  <tbody>\n",
       "    <tr>\n",
       "      <td>0</td>\n",
       "      <td>PKDB99998</td>\n",
       "      <td>Test2</td>\n",
       "      <td>2382</td>\n",
       "      <td>2381</td>\n",
       "      <td>True</td>\n",
       "      <td>paracetamol1000mg_iv</td>\n",
       "      <td>iv</td>\n",
       "      <td>solution</td>\n",
       "      <td>constant infusion</td>\n",
       "      <td>0.0</td>\n",
       "      <td>...</td>\n",
       "      <td>paracetamol</td>\n",
       "      <td>1.000000</td>\n",
       "      <td>NaN</td>\n",
       "      <td>NaN</td>\n",
       "      <td>NaN</td>\n",
       "      <td>NaN</td>\n",
       "      <td>NaN</td>\n",
       "      <td>NaN</td>\n",
       "      <td>NaN</td>\n",
       "      <td>gram</td>\n",
       "    </tr>\n",
       "    <tr>\n",
       "      <td>1</td>\n",
       "      <td>PKDB99998</td>\n",
       "      <td>Test2</td>\n",
       "      <td>2381</td>\n",
       "      <td>-1</td>\n",
       "      <td>False</td>\n",
       "      <td>paracetamol1000mg_iv</td>\n",
       "      <td>iv</td>\n",
       "      <td>solution</td>\n",
       "      <td>constant infusion</td>\n",
       "      <td>0.0</td>\n",
       "      <td>...</td>\n",
       "      <td>paracetamol</td>\n",
       "      <td>1000.000000</td>\n",
       "      <td>NaN</td>\n",
       "      <td>NaN</td>\n",
       "      <td>NaN</td>\n",
       "      <td>NaN</td>\n",
       "      <td>NaN</td>\n",
       "      <td>NaN</td>\n",
       "      <td>NaN</td>\n",
       "      <td>mg</td>\n",
       "    </tr>\n",
       "    <tr>\n",
       "      <td>2</td>\n",
       "      <td>PKDB99996</td>\n",
       "      <td>Test4</td>\n",
       "      <td>2390</td>\n",
       "      <td>2389</td>\n",
       "      <td>True</td>\n",
       "      <td>Dcaf</td>\n",
       "      <td>oral</td>\n",
       "      <td>tablet</td>\n",
       "      <td>single dose</td>\n",
       "      <td>0.0</td>\n",
       "      <td>...</td>\n",
       "      <td>caffeine</td>\n",
       "      <td>0.200000</td>\n",
       "      <td>NaN</td>\n",
       "      <td>NaN</td>\n",
       "      <td>NaN</td>\n",
       "      <td>NaN</td>\n",
       "      <td>NaN</td>\n",
       "      <td>NaN</td>\n",
       "      <td>NaN</td>\n",
       "      <td>gram</td>\n",
       "    </tr>\n",
       "    <tr>\n",
       "      <td>3</td>\n",
       "      <td>PKDB99996</td>\n",
       "      <td>Test4</td>\n",
       "      <td>2389</td>\n",
       "      <td>-1</td>\n",
       "      <td>False</td>\n",
       "      <td>Dcaf</td>\n",
       "      <td>oral</td>\n",
       "      <td>tablet</td>\n",
       "      <td>single dose</td>\n",
       "      <td>0.0</td>\n",
       "      <td>...</td>\n",
       "      <td>caffeine</td>\n",
       "      <td>200.000000</td>\n",
       "      <td>NaN</td>\n",
       "      <td>NaN</td>\n",
       "      <td>NaN</td>\n",
       "      <td>NaN</td>\n",
       "      <td>NaN</td>\n",
       "      <td>NaN</td>\n",
       "      <td>NaN</td>\n",
       "      <td>mg</td>\n",
       "    </tr>\n",
       "    <tr>\n",
       "      <td>4</td>\n",
       "      <td>PKDB99996</td>\n",
       "      <td>Test4</td>\n",
       "      <td>2392</td>\n",
       "      <td>2391</td>\n",
       "      <td>True</td>\n",
       "      <td>Dlom</td>\n",
       "      <td>oral</td>\n",
       "      <td>capsule</td>\n",
       "      <td>multiple dose</td>\n",
       "      <td>NaN</td>\n",
       "      <td>...</td>\n",
       "      <td>lomefloxacin</td>\n",
       "      <td>0.400000</td>\n",
       "      <td>NaN</td>\n",
       "      <td>NaN</td>\n",
       "      <td>NaN</td>\n",
       "      <td>NaN</td>\n",
       "      <td>NaN</td>\n",
       "      <td>NaN</td>\n",
       "      <td>NaN</td>\n",
       "      <td>gram</td>\n",
       "    </tr>\n",
       "    <tr>\n",
       "      <td>5</td>\n",
       "      <td>PKDB99996</td>\n",
       "      <td>Test4</td>\n",
       "      <td>2391</td>\n",
       "      <td>-1</td>\n",
       "      <td>False</td>\n",
       "      <td>Dlom</td>\n",
       "      <td>oral</td>\n",
       "      <td>capsule</td>\n",
       "      <td>multiple dose</td>\n",
       "      <td>NaN</td>\n",
       "      <td>...</td>\n",
       "      <td>lomefloxacin</td>\n",
       "      <td>400.000000</td>\n",
       "      <td>NaN</td>\n",
       "      <td>NaN</td>\n",
       "      <td>NaN</td>\n",
       "      <td>NaN</td>\n",
       "      <td>NaN</td>\n",
       "      <td>NaN</td>\n",
       "      <td>NaN</td>\n",
       "      <td>mg</td>\n",
       "    </tr>\n",
       "    <tr>\n",
       "      <td>6</td>\n",
       "      <td>PKDB99999</td>\n",
       "      <td>Test1</td>\n",
       "      <td>2380</td>\n",
       "      <td>2379</td>\n",
       "      <td>True</td>\n",
       "      <td>iv</td>\n",
       "      <td>iv</td>\n",
       "      <td>solution</td>\n",
       "      <td>single dose</td>\n",
       "      <td>0.0</td>\n",
       "      <td>...</td>\n",
       "      <td>midazolam</td>\n",
       "      <td>0.000075</td>\n",
       "      <td>NaN</td>\n",
       "      <td>NaN</td>\n",
       "      <td>NaN</td>\n",
       "      <td>NaN</td>\n",
       "      <td>NaN</td>\n",
       "      <td>NaN</td>\n",
       "      <td>NaN</td>\n",
       "      <td>gram / kilogram</td>\n",
       "    </tr>\n",
       "    <tr>\n",
       "      <td>7</td>\n",
       "      <td>PKDB99999</td>\n",
       "      <td>Test1</td>\n",
       "      <td>2379</td>\n",
       "      <td>-1</td>\n",
       "      <td>False</td>\n",
       "      <td>iv</td>\n",
       "      <td>iv</td>\n",
       "      <td>solution</td>\n",
       "      <td>single dose</td>\n",
       "      <td>0.0</td>\n",
       "      <td>...</td>\n",
       "      <td>midazolam</td>\n",
       "      <td>0.075000</td>\n",
       "      <td>NaN</td>\n",
       "      <td>NaN</td>\n",
       "      <td>NaN</td>\n",
       "      <td>NaN</td>\n",
       "      <td>NaN</td>\n",
       "      <td>NaN</td>\n",
       "      <td>NaN</td>\n",
       "      <td>mg/kg</td>\n",
       "    </tr>\n",
       "    <tr>\n",
       "      <td>8</td>\n",
       "      <td>PKDB99999</td>\n",
       "      <td>Test1</td>\n",
       "      <td>2378</td>\n",
       "      <td>2376</td>\n",
       "      <td>True</td>\n",
       "      <td>po15</td>\n",
       "      <td>oral</td>\n",
       "      <td>tablet</td>\n",
       "      <td>single dose</td>\n",
       "      <td>0.0</td>\n",
       "      <td>...</td>\n",
       "      <td>midazolam</td>\n",
       "      <td>0.015000</td>\n",
       "      <td>NaN</td>\n",
       "      <td>NaN</td>\n",
       "      <td>NaN</td>\n",
       "      <td>NaN</td>\n",
       "      <td>NaN</td>\n",
       "      <td>NaN</td>\n",
       "      <td>NaN</td>\n",
       "      <td>gram</td>\n",
       "    </tr>\n",
       "    <tr>\n",
       "      <td>9</td>\n",
       "      <td>PKDB99999</td>\n",
       "      <td>Test1</td>\n",
       "      <td>2377</td>\n",
       "      <td>2375</td>\n",
       "      <td>True</td>\n",
       "      <td>po75</td>\n",
       "      <td>oral</td>\n",
       "      <td>tablet</td>\n",
       "      <td>single dose</td>\n",
       "      <td>0.0</td>\n",
       "      <td>...</td>\n",
       "      <td>midazolam</td>\n",
       "      <td>0.007500</td>\n",
       "      <td>NaN</td>\n",
       "      <td>NaN</td>\n",
       "      <td>NaN</td>\n",
       "      <td>NaN</td>\n",
       "      <td>NaN</td>\n",
       "      <td>NaN</td>\n",
       "      <td>NaN</td>\n",
       "      <td>gram</td>\n",
       "    </tr>\n",
       "    <tr>\n",
       "      <td>10</td>\n",
       "      <td>PKDB99999</td>\n",
       "      <td>Test1</td>\n",
       "      <td>2376</td>\n",
       "      <td>-1</td>\n",
       "      <td>False</td>\n",
       "      <td>po15</td>\n",
       "      <td>oral</td>\n",
       "      <td>tablet</td>\n",
       "      <td>single dose</td>\n",
       "      <td>0.0</td>\n",
       "      <td>...</td>\n",
       "      <td>midazolam</td>\n",
       "      <td>15.000000</td>\n",
       "      <td>NaN</td>\n",
       "      <td>NaN</td>\n",
       "      <td>NaN</td>\n",
       "      <td>NaN</td>\n",
       "      <td>NaN</td>\n",
       "      <td>NaN</td>\n",
       "      <td>NaN</td>\n",
       "      <td>mg</td>\n",
       "    </tr>\n",
       "    <tr>\n",
       "      <td>11</td>\n",
       "      <td>PKDB99999</td>\n",
       "      <td>Test1</td>\n",
       "      <td>2375</td>\n",
       "      <td>-1</td>\n",
       "      <td>False</td>\n",
       "      <td>po75</td>\n",
       "      <td>oral</td>\n",
       "      <td>tablet</td>\n",
       "      <td>single dose</td>\n",
       "      <td>0.0</td>\n",
       "      <td>...</td>\n",
       "      <td>midazolam</td>\n",
       "      <td>7.500000</td>\n",
       "      <td>NaN</td>\n",
       "      <td>NaN</td>\n",
       "      <td>NaN</td>\n",
       "      <td>NaN</td>\n",
       "      <td>NaN</td>\n",
       "      <td>NaN</td>\n",
       "      <td>NaN</td>\n",
       "      <td>mg</td>\n",
       "    </tr>\n",
       "    <tr>\n",
       "      <td>12</td>\n",
       "      <td>PKDB99997</td>\n",
       "      <td>Test3</td>\n",
       "      <td>2388</td>\n",
       "      <td>2387</td>\n",
       "      <td>True</td>\n",
       "      <td>caffeine</td>\n",
       "      <td>oral</td>\n",
       "      <td>None</td>\n",
       "      <td>None</td>\n",
       "      <td>0.0</td>\n",
       "      <td>...</td>\n",
       "      <td>caffeine</td>\n",
       "      <td>1.000000</td>\n",
       "      <td>NaN</td>\n",
       "      <td>NaN</td>\n",
       "      <td>NaN</td>\n",
       "      <td>NaN</td>\n",
       "      <td>NaN</td>\n",
       "      <td>NaN</td>\n",
       "      <td>NaN</td>\n",
       "      <td>gram</td>\n",
       "    </tr>\n",
       "    <tr>\n",
       "      <td>13</td>\n",
       "      <td>PKDB99997</td>\n",
       "      <td>Test3</td>\n",
       "      <td>2387</td>\n",
       "      <td>-1</td>\n",
       "      <td>False</td>\n",
       "      <td>caffeine</td>\n",
       "      <td>oral</td>\n",
       "      <td>None</td>\n",
       "      <td>None</td>\n",
       "      <td>0.0</td>\n",
       "      <td>...</td>\n",
       "      <td>caffeine</td>\n",
       "      <td>1.000000</td>\n",
       "      <td>NaN</td>\n",
       "      <td>NaN</td>\n",
       "      <td>NaN</td>\n",
       "      <td>NaN</td>\n",
       "      <td>NaN</td>\n",
       "      <td>NaN</td>\n",
       "      <td>NaN</td>\n",
       "      <td>g</td>\n",
       "    </tr>\n",
       "    <tr>\n",
       "      <td>14</td>\n",
       "      <td>PKDB99997</td>\n",
       "      <td>Test3</td>\n",
       "      <td>2384</td>\n",
       "      <td>2383</td>\n",
       "      <td>True</td>\n",
       "      <td>theobromine</td>\n",
       "      <td>oral</td>\n",
       "      <td>None</td>\n",
       "      <td>None</td>\n",
       "      <td>0.0</td>\n",
       "      <td>...</td>\n",
       "      <td>theobromine</td>\n",
       "      <td>1.000000</td>\n",
       "      <td>NaN</td>\n",
       "      <td>NaN</td>\n",
       "      <td>NaN</td>\n",
       "      <td>NaN</td>\n",
       "      <td>NaN</td>\n",
       "      <td>NaN</td>\n",
       "      <td>NaN</td>\n",
       "      <td>gram</td>\n",
       "    </tr>\n",
       "    <tr>\n",
       "      <td>15</td>\n",
       "      <td>PKDB99997</td>\n",
       "      <td>Test3</td>\n",
       "      <td>2383</td>\n",
       "      <td>-1</td>\n",
       "      <td>False</td>\n",
       "      <td>theobromine</td>\n",
       "      <td>oral</td>\n",
       "      <td>None</td>\n",
       "      <td>None</td>\n",
       "      <td>0.0</td>\n",
       "      <td>...</td>\n",
       "      <td>theobromine</td>\n",
       "      <td>1.000000</td>\n",
       "      <td>NaN</td>\n",
       "      <td>NaN</td>\n",
       "      <td>NaN</td>\n",
       "      <td>NaN</td>\n",
       "      <td>NaN</td>\n",
       "      <td>NaN</td>\n",
       "      <td>NaN</td>\n",
       "      <td>g</td>\n",
       "    </tr>\n",
       "    <tr>\n",
       "      <td>16</td>\n",
       "      <td>PKDB99997</td>\n",
       "      <td>Test3</td>\n",
       "      <td>2386</td>\n",
       "      <td>2385</td>\n",
       "      <td>True</td>\n",
       "      <td>theophylline</td>\n",
       "      <td>oral</td>\n",
       "      <td>None</td>\n",
       "      <td>None</td>\n",
       "      <td>0.0</td>\n",
       "      <td>...</td>\n",
       "      <td>theophylline</td>\n",
       "      <td>1.000000</td>\n",
       "      <td>NaN</td>\n",
       "      <td>NaN</td>\n",
       "      <td>NaN</td>\n",
       "      <td>NaN</td>\n",
       "      <td>NaN</td>\n",
       "      <td>NaN</td>\n",
       "      <td>NaN</td>\n",
       "      <td>gram</td>\n",
       "    </tr>\n",
       "    <tr>\n",
       "      <td>17</td>\n",
       "      <td>PKDB99997</td>\n",
       "      <td>Test3</td>\n",
       "      <td>2385</td>\n",
       "      <td>-1</td>\n",
       "      <td>False</td>\n",
       "      <td>theophylline</td>\n",
       "      <td>oral</td>\n",
       "      <td>None</td>\n",
       "      <td>None</td>\n",
       "      <td>0.0</td>\n",
       "      <td>...</td>\n",
       "      <td>theophylline</td>\n",
       "      <td>1.000000</td>\n",
       "      <td>NaN</td>\n",
       "      <td>NaN</td>\n",
       "      <td>NaN</td>\n",
       "      <td>NaN</td>\n",
       "      <td>NaN</td>\n",
       "      <td>NaN</td>\n",
       "      <td>NaN</td>\n",
       "      <td>g</td>\n",
       "    </tr>\n",
       "  </tbody>\n",
       "</table>\n",
       "<p>18 rows × 23 columns</p>\n",
       "</div>"
      ],
      "text/plain": [
       "    study_sid study_name  intervention_pk  raw_pk  normed  \\\n",
       "0   PKDB99998      Test2             2382    2381    True   \n",
       "1   PKDB99998      Test2             2381      -1   False   \n",
       "2   PKDB99996      Test4             2390    2389    True   \n",
       "3   PKDB99996      Test4             2389      -1   False   \n",
       "4   PKDB99996      Test4             2392    2391    True   \n",
       "5   PKDB99996      Test4             2391      -1   False   \n",
       "6   PKDB99999      Test1             2380    2379    True   \n",
       "7   PKDB99999      Test1             2379      -1   False   \n",
       "8   PKDB99999      Test1             2378    2376    True   \n",
       "9   PKDB99999      Test1             2377    2375    True   \n",
       "10  PKDB99999      Test1             2376      -1   False   \n",
       "11  PKDB99999      Test1             2375      -1   False   \n",
       "12  PKDB99997      Test3             2388    2387    True   \n",
       "13  PKDB99997      Test3             2387      -1   False   \n",
       "14  PKDB99997      Test3             2384    2383    True   \n",
       "15  PKDB99997      Test3             2383      -1   False   \n",
       "16  PKDB99997      Test3             2386    2385    True   \n",
       "17  PKDB99997      Test3             2385      -1   False   \n",
       "\n",
       "                    name route      form        application  time  ...  \\\n",
       "0   paracetamol1000mg_iv    iv  solution  constant infusion   0.0  ...   \n",
       "1   paracetamol1000mg_iv    iv  solution  constant infusion   0.0  ...   \n",
       "2                   Dcaf  oral    tablet        single dose   0.0  ...   \n",
       "3                   Dcaf  oral    tablet        single dose   0.0  ...   \n",
       "4                   Dlom  oral   capsule      multiple dose   NaN  ...   \n",
       "5                   Dlom  oral   capsule      multiple dose   NaN  ...   \n",
       "6                     iv    iv  solution        single dose   0.0  ...   \n",
       "7                     iv    iv  solution        single dose   0.0  ...   \n",
       "8                   po15  oral    tablet        single dose   0.0  ...   \n",
       "9                   po75  oral    tablet        single dose   0.0  ...   \n",
       "10                  po15  oral    tablet        single dose   0.0  ...   \n",
       "11                  po75  oral    tablet        single dose   0.0  ...   \n",
       "12              caffeine  oral      None               None   0.0  ...   \n",
       "13              caffeine  oral      None               None   0.0  ...   \n",
       "14           theobromine  oral      None               None   0.0  ...   \n",
       "15           theobromine  oral      None               None   0.0  ...   \n",
       "16          theophylline  oral      None               None   0.0  ...   \n",
       "17          theophylline  oral      None               None   0.0  ...   \n",
       "\n",
       "       substance        value mean median  min  max  sd  se  cv  \\\n",
       "0    paracetamol     1.000000  NaN    NaN  NaN  NaN NaN NaN NaN   \n",
       "1    paracetamol  1000.000000  NaN    NaN  NaN  NaN NaN NaN NaN   \n",
       "2       caffeine     0.200000  NaN    NaN  NaN  NaN NaN NaN NaN   \n",
       "3       caffeine   200.000000  NaN    NaN  NaN  NaN NaN NaN NaN   \n",
       "4   lomefloxacin     0.400000  NaN    NaN  NaN  NaN NaN NaN NaN   \n",
       "5   lomefloxacin   400.000000  NaN    NaN  NaN  NaN NaN NaN NaN   \n",
       "6      midazolam     0.000075  NaN    NaN  NaN  NaN NaN NaN NaN   \n",
       "7      midazolam     0.075000  NaN    NaN  NaN  NaN NaN NaN NaN   \n",
       "8      midazolam     0.015000  NaN    NaN  NaN  NaN NaN NaN NaN   \n",
       "9      midazolam     0.007500  NaN    NaN  NaN  NaN NaN NaN NaN   \n",
       "10     midazolam    15.000000  NaN    NaN  NaN  NaN NaN NaN NaN   \n",
       "11     midazolam     7.500000  NaN    NaN  NaN  NaN NaN NaN NaN   \n",
       "12      caffeine     1.000000  NaN    NaN  NaN  NaN NaN NaN NaN   \n",
       "13      caffeine     1.000000  NaN    NaN  NaN  NaN NaN NaN NaN   \n",
       "14   theobromine     1.000000  NaN    NaN  NaN  NaN NaN NaN NaN   \n",
       "15   theobromine     1.000000  NaN    NaN  NaN  NaN NaN NaN NaN   \n",
       "16  theophylline     1.000000  NaN    NaN  NaN  NaN NaN NaN NaN   \n",
       "17  theophylline     1.000000  NaN    NaN  NaN  NaN NaN NaN NaN   \n",
       "\n",
       "               unit  \n",
       "0              gram  \n",
       "1                mg  \n",
       "2              gram  \n",
       "3                mg  \n",
       "4              gram  \n",
       "5                mg  \n",
       "6   gram / kilogram  \n",
       "7             mg/kg  \n",
       "8              gram  \n",
       "9              gram  \n",
       "10               mg  \n",
       "11               mg  \n",
       "12             gram  \n",
       "13                g  \n",
       "14             gram  \n",
       "15                g  \n",
       "16             gram  \n",
       "17                g  \n",
       "\n",
       "[18 rows x 23 columns]"
      ]
     },
     "execution_count": 227,
     "metadata": {},
     "output_type": "execute_result"
    }
   ],
   "source": [
    "test_data.interventions"
   ]
  },
  {
   "cell_type": "code",
   "execution_count": null,
   "metadata": {},
   "outputs": [],
   "source": []
  }
 ],
 "metadata": {
  "kernelspec": {
   "display_name": "pkdb_analysis",
   "language": "python",
   "name": "pkdb_analysis"
  },
  "language_info": {
   "codemirror_mode": {
    "name": "ipython",
    "version": 3
   },
   "file_extension": ".py",
   "mimetype": "text/x-python",
   "name": "python",
   "nbconvert_exporter": "python",
   "pygments_lexer": "ipython3",
   "version": "3.6.8"
  }
 },
 "nbformat": 4,
 "nbformat_minor": 4
}
