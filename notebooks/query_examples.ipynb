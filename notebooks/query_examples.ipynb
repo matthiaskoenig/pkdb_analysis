{
 "cells": [
  {
   "cell_type": "code",
   "execution_count": 4,
   "metadata": {},
   "outputs": [
    {
     "name": "stdout",
     "output_type": "stream",
     "text": [
      "The autoreload extension is already loaded. To reload it, use:\n",
      "  %reload_ext autoreload\n"
     ]
    }
   ],
   "source": [
    "%load_ext autoreload\n",
    "%autoreload 2\n",
    "\n",
    "import pandas as pd\n",
    "from IPython.display import display"
   ]
  },
  {
   "cell_type": "markdown",
   "metadata": {},
   "source": [
    "# Query PK-DB"
   ]
  },
  {
   "cell_type": "markdown",
   "metadata": {},
   "source": [
    "- how to set the endpoint for queries\n",
    "- how to query data from PKDB\n",
    "\n",
    "To query the complete database content we can do"
   ]
  },
  {
   "cell_type": "code",
   "execution_count": 5,
   "metadata": {},
   "outputs": [],
   "source": [
    "from pkdb_analysis import PKDB, PKData, PKFilter"
   ]
  },
  {
   "cell_type": "code",
   "execution_count": 6,
   "metadata": {},
   "outputs": [
    {
     "name": "stderr",
     "output_type": "stream",
     "text": [
      "*** Querying data ***\n",
      "http://0.0.0.0:8000/api/v1/interventions_elastic/?format=json&page_size=2000&normed=true\n",
      "http://0.0.0.0:8000/api/v1/interventions_elastic/?format=json&page_size=2000&normed=true&page=1\n",
      "http://0.0.0.0:8000/api/v1/characteristica_individuals/?format=json&page_size=2000\n",
      "http://0.0.0.0:8000/api/v1/characteristica_individuals/?format=json&page_size=2000&page=1\n",
      "http://0.0.0.0:8000/api/v1/characteristica_individuals/?format=json&page_size=2000&page=2\n",
      "http://0.0.0.0:8000/api/v1/characteristica_groups/?format=json&page_size=2000\n",
      "http://0.0.0.0:8000/api/v1/characteristica_groups/?format=json&page_size=2000&page=1\n",
      "http://0.0.0.0:8000/api/v1/output_intervention/?format=json&page_size=2000&normed=true\n",
      "http://0.0.0.0:8000/api/v1/output_intervention/?format=json&page_size=2000&normed=true&page=1\n",
      "http://0.0.0.0:8000/api/v1/timecourse_intervention/?format=json&page_size=2000&normed=true\n",
      "http://0.0.0.0:8000/api/v1/timecourse_intervention/?format=json&page_size=2000&normed=true&page=1\n"
     ]
    },
    {
     "name": "stdout",
     "output_type": "stream",
     "text": [
      "------------------------------\n",
      "PKData (140338819865904)\n",
      "------------------------------\n",
      "studies             4 \n",
      "groups              8  (   86)\n",
      "individuals       246  ( 3144)\n",
      "interventions       9  (    9)\n",
      "outputs           599  (  628)\n",
      "timecourses        20  (   23)\n",
      "------------------------------\n"
     ]
    }
   ],
   "source": [
    "data = PKDB.query()\n",
    "print(data)"
   ]
  },
  {
   "cell_type": "code",
   "execution_count": null,
   "metadata": {},
   "outputs": [],
   "source": []
  }
 ],
 "metadata": {
  "kernelspec": {
   "display_name": "pkdb_analysis",
   "language": "python",
   "name": "pkdb_analysis"
  },
  "language_info": {
   "codemirror_mode": {
    "name": "ipython",
    "version": 3
   },
   "file_extension": ".py",
   "mimetype": "text/x-python",
   "name": "python",
   "nbconvert_exporter": "python",
   "pygments_lexer": "ipython3",
   "version": "3.6.9"
  }
 },
 "nbformat": 4,
 "nbformat_minor": 4
}
