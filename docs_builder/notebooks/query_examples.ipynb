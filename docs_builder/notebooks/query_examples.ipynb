{
 "cells": [
  {
   "cell_type": "code",
   "execution_count": 8,
   "metadata": {},
   "outputs": [
    {
     "name": "stdout",
     "output_type": "stream",
     "text": [
      "The autoreload extension is already loaded. To reload it, use:\n",
      "  %reload_ext autoreload\n"
     ]
    }
   ],
   "source": [
    "%load_ext autoreload\n",
    "%autoreload 2\n",
    "\n",
    "import pandas as pd\n",
    "from IPython.display import display"
   ]
  },
  {
   "cell_type": "markdown",
   "metadata": {},
   "source": [
    "# Query PK-DB"
   ]
  },
  {
   "cell_type": "markdown",
   "metadata": {},
   "source": [
    "- how to set the endpoint for queries\n",
    "- how to query data from PKDB\n",
    "\n",
    "To query the complete database content we can do"
   ]
  },
  {
   "cell_type": "code",
   "execution_count": 9,
   "metadata": {},
   "outputs": [],
   "source": [
    "from pkdb_analysis import PKDB, PKData, PKFilter"
   ]
  },
  {
   "cell_type": "code",
   "execution_count": 10,
   "metadata": {},
   "outputs": [
    {
     "name": "stderr",
     "output_type": "stream",
     "text": [
      "WARNING *** Querying data ***\n",
      "WARNING http://0.0.0.0:8000/api/v1/interventions_analysis/?format=json&page_size=2000&normed=true\n",
      "WARNING http://0.0.0.0:8000/api/v1/interventions_analysis/?format=json&page_size=2000&normed=true&page=1\n",
      "WARNING http://0.0.0.0:8000/api/v1/individuals_analysis/?format=json&page_size=2000\n",
      "WARNING http://0.0.0.0:8000/api/v1/individuals_analysis/?format=json&page_size=2000&page=1\n",
      "WARNING http://0.0.0.0:8000/api/v1/individuals_analysis/?format=json&page_size=2000&page=2\n",
      "WARNING http://0.0.0.0:8000/api/v1/individuals_analysis/?format=json&page_size=2000&page=3\n",
      "WARNING http://0.0.0.0:8000/api/v1/groups_analysis/?format=json&page_size=2000\n",
      "WARNING http://0.0.0.0:8000/api/v1/groups_analysis/?format=json&page_size=2000&page=1\n",
      "WARNING http://0.0.0.0:8000/api/v1/output_analysis/?format=json&page_size=2000&normed=true\n",
      "WARNING http://0.0.0.0:8000/api/v1/output_analysis/?format=json&page_size=2000&normed=true&page=1\n",
      "WARNING http://0.0.0.0:8000/api/v1/output_analysis/?format=json&page_size=2000&normed=true&page=2\n",
      "WARNING http://0.0.0.0:8000/api/v1/output_analysis/?format=json&page_size=2000&normed=true&page=3\n",
      "WARNING http://0.0.0.0:8000/api/v1/timecourse_analysis/?format=json&page_size=2000&normed=true\n",
      "WARNING http://0.0.0.0:8000/api/v1/timecourse_analysis/?format=json&page_size=2000&normed=true&page=1\n"
     ]
    },
    {
     "name": "stdout",
     "output_type": "stream",
     "text": [
      "------------------------------\n",
      "PKData (139686646424272)\n",
      "------------------------------\n",
      "studies            59 \n",
      "groups            179  ( 1257)\n",
      "individuals       686  ( 5300)\n",
      "interventions     177  (  226)\n",
      "outputs          4331  ( 4331)\n",
      "timecourses       367  (  367)\n",
      "------------------------------\n"
     ]
    }
   ],
   "source": [
    "data = PKDB.query()\n",
    "print(data)"
   ]
  },
  {
   "cell_type": "code",
   "execution_count": null,
   "metadata": {},
   "outputs": [],
   "source": []
  }
 ],
 "metadata": {
  "kernelspec": {
   "display_name": "pkdb_analysis",
   "language": "python",
   "name": "pkdb_analysis"
  },
  "language_info": {
   "codemirror_mode": {
    "name": "ipython",
    "version": 3
   },
   "file_extension": ".py",
   "mimetype": "text/x-python",
   "name": "python",
   "nbconvert_exporter": "python",
   "pygments_lexer": "ipython3",
   "version": "3.7.9"
  }
 },
 "nbformat": 4,
 "nbformat_minor": 4
}
