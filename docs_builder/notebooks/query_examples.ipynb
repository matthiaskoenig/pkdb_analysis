{
 "cells": [
  {
   "cell_type": "code",
   "execution_count": 1,
   "metadata": {},
   "outputs": [],
   "source": [
    "%load_ext autoreload\n",
    "%autoreload 2\n",
    "\n",
    "import pandas as pd\n",
    "from IPython.display import display"
   ]
  },
  {
   "cell_type": "markdown",
   "metadata": {},
   "source": [
    "# Query PK-DB"
   ]
  },
  {
   "cell_type": "markdown",
   "metadata": {},
   "source": [
    "- how to set the endpoint for queries\n",
    "- how to query data from PKDB\n",
    "\n",
    "To query the complete database content we can do"
   ]
  },
  {
   "cell_type": "code",
   "execution_count": 2,
   "metadata": {},
   "outputs": [],
   "source": [
    "from pkdb_analysis import PKDB, PKData, PKFilter\n",
    "\n"
   ]
  },
  {
   "cell_type": "code",
   "execution_count": 6,
   "metadata": {},
   "outputs": [
    {
     "name": "stderr",
     "output_type": "stream",
     "text": [
      "INFO *** Querying data ***\n",
      "INFO http://0.0.0.0:8000/api/v1/pkdata/studies/?format=json&page_size=2000&study_name__in=Adithan1982\n",
      "INFO http://0.0.0.0:8000/api/v1/pkdata/studies/?format=json&page_size=2000&study_name__in=Adithan1982&page=1\n",
      "INFO http://0.0.0.0:8000/api/v1/pkdata/interventions/?format=json&page_size=2000&study_name__in=Adithan1982\n",
      "INFO http://0.0.0.0:8000/api/v1/pkdata/interventions/?format=json&page_size=2000&study_name__in=Adithan1982&page=1\n",
      "INFO http://0.0.0.0:8000/api/v1/pkdata/individuals/?format=json&page_size=2000&study_name__in=Adithan1982\n",
      "INFO http://0.0.0.0:8000/api/v1/pkdata/individuals/?format=json&page_size=2000&study_name__in=Adithan1982&page=1\n",
      "INFO http://0.0.0.0:8000/api/v1/pkdata/groups/?format=json&page_size=2000&study_name__in=Adithan1982\n",
      "INFO http://0.0.0.0:8000/api/v1/pkdata/groups/?format=json&page_size=2000&study_name__in=Adithan1982&page=1\n",
      "INFO http://0.0.0.0:8000/api/v1/pkdata/outputs/?format=json&page_size=2000&study_name__in=Adithan1982\n",
      "INFO http://0.0.0.0:8000/api/v1/pkdata/outputs/?format=json&page_size=2000&study_name__in=Adithan1982&page=1\n",
      "INFO http://0.0.0.0:8000/api/v1/pkdata/timecourses/?format=json&page_size=2000&study_name__in=Adithan1982\n",
      "INFO http://0.0.0.0:8000/api/v1/pkdata/timecourses/?format=json&page_size=2000&study_name__in=Adithan1982&page=1\n"
     ]
    },
    {
     "name": "stdout",
     "output_type": "stream",
     "text": [
      "------------------------------\n",
      "PKData (139946202637328)\n",
      "------------------------------\n",
      "studies             1  (    1)\n",
      "groups              1  (    9)\n",
      "individuals        10  (   90)\n",
      "interventions       1  (    1)\n",
      "outputs           160  (  160)\n",
      "timecourses         2  (    2)\n",
      "scatters            0  (    0)\n",
      "------------------------------\n"
     ]
    }
   ],
   "source": [
    "test_study_names = [\"Adithan1982\"]\n",
    "url_study_names = \"__\".join(test_study_names)\n",
    "pkfilter = PKFilter()\n",
    "for df_key in [\n",
    "    \"studies\",\n",
    "    \"groups\",\n",
    "    \"individuals\",\n",
    "    \"interventions\",\n",
    "    \"outputs\",\n",
    "    \"timecourses\",\n",
    "]:\n",
    "    setattr(pkfilter, df_key, {\"study_name__in\": url_study_names})\n",
    "\n",
    "data = PKDB.query(pkfilter)\n",
    "print(data)"
   ]
  },
  {
   "cell_type": "code",
   "execution_count": 10,
   "metadata": {},
   "outputs": [
    {
     "name": "stderr",
     "output_type": "stream",
     "text": [
      "INFO *** Querying data ***\n",
      "INFO http://0.0.0.0:8000/api/v1/pkdata/studies/?format=json&page_size=2000\n",
      "INFO http://0.0.0.0:8000/api/v1/pkdata/studies/?format=json&page_size=2000&page=1\n",
      "INFO http://0.0.0.0:8000/api/v1/pkdata/interventions/?format=json&page_size=2000&normed=true\n",
      "INFO http://0.0.0.0:8000/api/v1/pkdata/interventions/?format=json&page_size=2000&normed=true&page=1\n",
      "INFO http://0.0.0.0:8000/api/v1/pkdata/individuals/?format=json&page_size=2000\n",
      "INFO http://0.0.0.0:8000/api/v1/pkdata/individuals/?format=json&page_size=2000&page=1\n",
      "INFO http://0.0.0.0:8000/api/v1/pkdata/individuals/?format=json&page_size=2000&page=2\n",
      "INFO http://0.0.0.0:8000/api/v1/pkdata/individuals/?format=json&page_size=2000&page=3\n",
      "INFO http://0.0.0.0:8000/api/v1/pkdata/individuals/?format=json&page_size=2000&page=4\n",
      "INFO http://0.0.0.0:8000/api/v1/pkdata/individuals/?format=json&page_size=2000&page=5\n",
      "INFO http://0.0.0.0:8000/api/v1/pkdata/individuals/?format=json&page_size=2000&page=6\n",
      "INFO http://0.0.0.0:8000/api/v1/pkdata/individuals/?format=json&page_size=2000&page=7\n",
      "INFO http://0.0.0.0:8000/api/v1/pkdata/individuals/?format=json&page_size=2000&page=8\n",
      "INFO http://0.0.0.0:8000/api/v1/pkdata/individuals/?format=json&page_size=2000&page=9\n",
      "INFO http://0.0.0.0:8000/api/v1/pkdata/individuals/?format=json&page_size=2000&page=10\n",
      "INFO http://0.0.0.0:8000/api/v1/pkdata/individuals/?format=json&page_size=2000&page=11\n",
      "INFO http://0.0.0.0:8000/api/v1/pkdata/individuals/?format=json&page_size=2000&page=12\n",
      "INFO http://0.0.0.0:8000/api/v1/pkdata/individuals/?format=json&page_size=2000&page=13\n",
      "INFO http://0.0.0.0:8000/api/v1/pkdata/individuals/?format=json&page_size=2000&page=14\n",
      "INFO http://0.0.0.0:8000/api/v1/pkdata/individuals/?format=json&page_size=2000&page=15\n",
      "INFO http://0.0.0.0:8000/api/v1/pkdata/individuals/?format=json&page_size=2000&page=16\n",
      "INFO http://0.0.0.0:8000/api/v1/pkdata/individuals/?format=json&page_size=2000&page=17\n",
      "INFO http://0.0.0.0:8000/api/v1/pkdata/individuals/?format=json&page_size=2000&page=18\n",
      "INFO http://0.0.0.0:8000/api/v1/pkdata/individuals/?format=json&page_size=2000&page=19\n",
      "INFO http://0.0.0.0:8000/api/v1/pkdata/individuals/?format=json&page_size=2000&page=20\n",
      "INFO http://0.0.0.0:8000/api/v1/pkdata/individuals/?format=json&page_size=2000&page=21\n",
      "INFO http://0.0.0.0:8000/api/v1/pkdata/individuals/?format=json&page_size=2000&page=22\n",
      "INFO http://0.0.0.0:8000/api/v1/pkdata/individuals/?format=json&page_size=2000&page=23\n",
      "INFO http://0.0.0.0:8000/api/v1/pkdata/individuals/?format=json&page_size=2000&page=24\n",
      "INFO http://0.0.0.0:8000/api/v1/pkdata/individuals/?format=json&page_size=2000&page=25\n",
      "INFO http://0.0.0.0:8000/api/v1/pkdata/individuals/?format=json&page_size=2000&page=26\n",
      "INFO http://0.0.0.0:8000/api/v1/pkdata/individuals/?format=json&page_size=2000&page=27\n",
      "INFO http://0.0.0.0:8000/api/v1/pkdata/individuals/?format=json&page_size=2000&page=28\n",
      "INFO http://0.0.0.0:8000/api/v1/pkdata/individuals/?format=json&page_size=2000&page=29\n",
      "INFO http://0.0.0.0:8000/api/v1/pkdata/groups/?format=json&page_size=2000\n",
      "INFO http://0.0.0.0:8000/api/v1/pkdata/groups/?format=json&page_size=2000&page=1\n",
      "INFO http://0.0.0.0:8000/api/v1/pkdata/groups/?format=json&page_size=2000&page=2\n",
      "INFO http://0.0.0.0:8000/api/v1/pkdata/groups/?format=json&page_size=2000&page=3\n",
      "INFO http://0.0.0.0:8000/api/v1/pkdata/groups/?format=json&page_size=2000&page=4\n",
      "INFO http://0.0.0.0:8000/api/v1/pkdata/groups/?format=json&page_size=2000&page=5\n",
      "INFO http://0.0.0.0:8000/api/v1/pkdata/groups/?format=json&page_size=2000&page=6\n",
      "INFO http://0.0.0.0:8000/api/v1/pkdata/groups/?format=json&page_size=2000&page=7\n",
      "INFO http://0.0.0.0:8000/api/v1/pkdata/outputs/?format=json&page_size=2000&normed=true\n",
      "INFO http://0.0.0.0:8000/api/v1/pkdata/outputs/?format=json&page_size=2000&normed=true&page=1\n",
      "INFO http://0.0.0.0:8000/api/v1/pkdata/outputs/?format=json&page_size=2000&normed=true&page=2\n",
      "INFO http://0.0.0.0:8000/api/v1/pkdata/outputs/?format=json&page_size=2000&normed=true&page=3\n",
      "INFO http://0.0.0.0:8000/api/v1/pkdata/outputs/?format=json&page_size=2000&normed=true&page=4\n",
      "INFO http://0.0.0.0:8000/api/v1/pkdata/outputs/?format=json&page_size=2000&normed=true&page=5\n",
      "INFO http://0.0.0.0:8000/api/v1/pkdata/outputs/?format=json&page_size=2000&normed=true&page=6\n",
      "INFO http://0.0.0.0:8000/api/v1/pkdata/outputs/?format=json&page_size=2000&normed=true&page=7\n",
      "INFO http://0.0.0.0:8000/api/v1/pkdata/outputs/?format=json&page_size=2000&normed=true&page=8\n",
      "INFO http://0.0.0.0:8000/api/v1/pkdata/outputs/?format=json&page_size=2000&normed=true&page=9\n",
      "INFO http://0.0.0.0:8000/api/v1/pkdata/outputs/?format=json&page_size=2000&normed=true&page=10\n",
      "INFO http://0.0.0.0:8000/api/v1/pkdata/outputs/?format=json&page_size=2000&normed=true&page=11\n",
      "INFO http://0.0.0.0:8000/api/v1/pkdata/outputs/?format=json&page_size=2000&normed=true&page=12\n",
      "INFO http://0.0.0.0:8000/api/v1/pkdata/outputs/?format=json&page_size=2000&normed=true&page=13\n",
      "INFO http://0.0.0.0:8000/api/v1/pkdata/outputs/?format=json&page_size=2000&normed=true&page=14\n",
      "INFO http://0.0.0.0:8000/api/v1/pkdata/outputs/?format=json&page_size=2000&normed=true&page=15\n",
      "INFO http://0.0.0.0:8000/api/v1/pkdata/outputs/?format=json&page_size=2000&normed=true&page=16\n",
      "INFO http://0.0.0.0:8000/api/v1/pkdata/outputs/?format=json&page_size=2000&normed=true&page=17\n",
      "INFO http://0.0.0.0:8000/api/v1/pkdata/outputs/?format=json&page_size=2000&normed=true&page=18\n",
      "INFO http://0.0.0.0:8000/api/v1/pkdata/outputs/?format=json&page_size=2000&normed=true&page=19\n",
      "INFO http://0.0.0.0:8000/api/v1/pkdata/outputs/?format=json&page_size=2000&normed=true&page=20\n",
      "INFO http://0.0.0.0:8000/api/v1/pkdata/outputs/?format=json&page_size=2000&normed=true&page=21\n",
      "INFO http://0.0.0.0:8000/api/v1/pkdata/outputs/?format=json&page_size=2000&normed=true&page=22\n",
      "INFO http://0.0.0.0:8000/api/v1/pkdata/outputs/?format=json&page_size=2000&normed=true&page=23\n",
      "INFO http://0.0.0.0:8000/api/v1/pkdata/outputs/?format=json&page_size=2000&normed=true&page=24\n",
      "INFO http://0.0.0.0:8000/api/v1/pkdata/outputs/?format=json&page_size=2000&normed=true&page=25\n",
      "INFO http://0.0.0.0:8000/api/v1/pkdata/outputs/?format=json&page_size=2000&normed=true&page=26\n",
      "INFO http://0.0.0.0:8000/api/v1/pkdata/outputs/?format=json&page_size=2000&normed=true&page=27\n",
      "INFO http://0.0.0.0:8000/api/v1/pkdata/outputs/?format=json&page_size=2000&normed=true&page=28\n",
      "INFO http://0.0.0.0:8000/api/v1/pkdata/outputs/?format=json&page_size=2000&normed=true&page=29\n",
      "INFO http://0.0.0.0:8000/api/v1/pkdata/outputs/?format=json&page_size=2000&normed=true&page=30\n",
      "INFO http://0.0.0.0:8000/api/v1/pkdata/outputs/?format=json&page_size=2000&normed=true&page=31\n",
      "INFO http://0.0.0.0:8000/api/v1/pkdata/outputs/?format=json&page_size=2000&normed=true&page=32\n",
      "INFO http://0.0.0.0:8000/api/v1/pkdata/outputs/?format=json&page_size=2000&normed=true&page=33\n",
      "INFO http://0.0.0.0:8000/api/v1/pkdata/outputs/?format=json&page_size=2000&normed=true&page=34\n",
      "INFO http://0.0.0.0:8000/api/v1/pkdata/outputs/?format=json&page_size=2000&normed=true&page=35\n",
      "INFO http://0.0.0.0:8000/api/v1/pkdata/outputs/?format=json&page_size=2000&normed=true&page=36\n",
      "INFO http://0.0.0.0:8000/api/v1/pkdata/outputs/?format=json&page_size=2000&normed=true&page=37\n",
      "INFO http://0.0.0.0:8000/api/v1/pkdata/outputs/?format=json&page_size=2000&normed=true&page=38\n",
      "INFO http://0.0.0.0:8000/api/v1/pkdata/outputs/?format=json&page_size=2000&normed=true&page=39\n",
      "INFO http://0.0.0.0:8000/api/v1/pkdata/outputs/?format=json&page_size=2000&normed=true&page=40\n",
      "INFO http://0.0.0.0:8000/api/v1/pkdata/outputs/?format=json&page_size=2000&normed=true&page=41\n",
      "INFO http://0.0.0.0:8000/api/v1/pkdata/outputs/?format=json&page_size=2000&normed=true&page=42\n",
      "INFO http://0.0.0.0:8000/api/v1/pkdata/outputs/?format=json&page_size=2000&normed=true&page=43\n",
      "INFO http://0.0.0.0:8000/api/v1/pkdata/outputs/?format=json&page_size=2000&normed=true&page=44\n",
      "INFO http://0.0.0.0:8000/api/v1/pkdata/outputs/?format=json&page_size=2000&normed=true&page=45\n",
      "INFO http://0.0.0.0:8000/api/v1/pkdata/outputs/?format=json&page_size=2000&normed=true&page=46\n",
      "INFO http://0.0.0.0:8000/api/v1/pkdata/outputs/?format=json&page_size=2000&normed=true&page=47\n",
      "INFO http://0.0.0.0:8000/api/v1/pkdata/outputs/?format=json&page_size=2000&normed=true&page=48\n",
      "INFO http://0.0.0.0:8000/api/v1/pkdata/outputs/?format=json&page_size=2000&normed=true&page=49\n",
      "INFO http://0.0.0.0:8000/api/v1/pkdata/outputs/?format=json&page_size=2000&normed=true&page=50\n",
      "INFO http://0.0.0.0:8000/api/v1/pkdata/outputs/?format=json&page_size=2000&normed=true&page=51\n",
      "INFO http://0.0.0.0:8000/api/v1/pkdata/outputs/?format=json&page_size=2000&normed=true&page=52\n",
      "INFO http://0.0.0.0:8000/api/v1/pkdata/timecourses/?format=json&page_size=2000\n",
      "INFO http://0.0.0.0:8000/api/v1/pkdata/timecourses/?format=json&page_size=2000&page=1\n",
      "INFO http://0.0.0.0:8000/api/v1/pkdata/timecourses/?format=json&page_size=2000&page=2\n"
     ]
    }
   ],
   "source": [
    "data = PKDB.query()\n"
   ]
  },
  {
   "cell_type": "code",
   "execution_count": null,
   "metadata": {},
   "outputs": [],
   "source": []
  }
 ],
 "metadata": {
  "kernelspec": {
   "display_name": "pkdb_analysis",
   "language": "python",
   "name": "pkdb_analysis"
  },
  "language_info": {
   "codemirror_mode": {
    "name": "ipython",
    "version": 3
   },
   "file_extension": ".py",
   "mimetype": "text/x-python",
   "name": "python",
   "nbconvert_exporter": "python",
   "pygments_lexer": "ipython3",
   "version": "3.7.9"
  }
 },
 "nbformat": 4,
 "nbformat_minor": 4
}
