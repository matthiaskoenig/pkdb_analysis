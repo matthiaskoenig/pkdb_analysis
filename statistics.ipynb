{
 "cells": [
  {
   "cell_type": "code",
   "execution_count": 1,
   "metadata": {},
   "outputs": [],
   "source": [
    "import pandas as pd\n",
    "import requests\n",
    "from urllib.parse import urljoin, urlencode\n",
    "import matplotlib.pyplot as plt\n",
    "from utils import  PkdbModel"
   ]
  },
  {
   "cell_type": "code",
   "execution_count": 2,
   "metadata": {},
   "outputs": [],
   "source": [
    "%load_ext autoreload\n",
    "%autoreload 2"
   ]
  },
  {
   "cell_type": "code",
   "execution_count": 3,
   "metadata": {},
   "outputs": [],
   "source": [
    "studies = PkdbModel(\"studies\",destination='1-preprocessed')  \n",
    "studies.read()"
   ]
  },
  {
   "cell_type": "code",
   "execution_count": 5,
   "metadata": {},
   "outputs": [],
   "source": [
    "studies.data\n",
    "substances = pd.DataFrame()"
   ]
  },
  {
   "cell_type": "code",
   "execution_count": 265,
   "metadata": {},
   "outputs": [],
   "source": [
    "substances[\"studies\"] = "
   ]
  },
  {
   "cell_type": "code",
   "execution_count": 267,
   "metadata": {},
   "outputs": [],
   "source": [
    "\n",
    "#studies.data.plot(x=\"group_all_count\",y=\"individuals_count\",kind=\"scatter\")"
   ]
  },
  {
   "cell_type": "code",
   "execution_count": 268,
   "metadata": {},
   "outputs": [],
   "source": [
    "#data_details=data[[\"name\",\"group_count\",\"individual_count\",\"intervention_count\",\"output_count\",\"timecourse_count\"]]\n",
    "#data_details.hist(figsize=(10,10),bins=30)\n",
    "#plt.show()"
   ]
  },
  {
   "cell_type": "code",
   "execution_count": 275,
   "metadata": {},
   "outputs": [
    {
     "data": {
      "text/html": [
       "<div>\n",
       "<style scoped>\n",
       "    .dataframe tbody tr th:only-of-type {\n",
       "        vertical-align: middle;\n",
       "    }\n",
       "\n",
       "    .dataframe tbody tr th {\n",
       "        vertical-align: top;\n",
       "    }\n",
       "\n",
       "    .dataframe thead th {\n",
       "        text-align: right;\n",
       "    }\n",
       "</style>\n",
       "<table border=\"1\" class=\"dataframe\">\n",
       "  <thead>\n",
       "    <tr style=\"text-align: right;\">\n",
       "      <th></th>\n",
       "      <th>groups_count</th>\n",
       "      <th>group_all_count</th>\n",
       "      <th>individuals_count</th>\n",
       "      <th>interventions_count</th>\n",
       "      <th>outputs_count</th>\n",
       "      <th>timecourses_count</th>\n",
       "      <th>results_count</th>\n",
       "    </tr>\n",
       "  </thead>\n",
       "  <tbody>\n",
       "    <tr>\n",
       "      <th>count</th>\n",
       "      <td>101.000000</td>\n",
       "      <td>98.000000</td>\n",
       "      <td>101.000000</td>\n",
       "      <td>101.000000</td>\n",
       "      <td>101.000000</td>\n",
       "      <td>101.000000</td>\n",
       "      <td>101.000000</td>\n",
       "    </tr>\n",
       "    <tr>\n",
       "      <th>mean</th>\n",
       "      <td>2.564356</td>\n",
       "      <td>30.836735</td>\n",
       "      <td>8.663366</td>\n",
       "      <td>2.950495</td>\n",
       "      <td>59.356436</td>\n",
       "      <td>8.683168</td>\n",
       "      <td>68.039604</td>\n",
       "    </tr>\n",
       "    <tr>\n",
       "      <th>std</th>\n",
       "      <td>1.779977</td>\n",
       "      <td>108.553250</td>\n",
       "      <td>16.527115</td>\n",
       "      <td>5.280864</td>\n",
       "      <td>89.844597</td>\n",
       "      <td>16.651685</td>\n",
       "      <td>89.274064</td>\n",
       "    </tr>\n",
       "    <tr>\n",
       "      <th>min</th>\n",
       "      <td>0.000000</td>\n",
       "      <td>4.000000</td>\n",
       "      <td>0.000000</td>\n",
       "      <td>0.000000</td>\n",
       "      <td>0.000000</td>\n",
       "      <td>0.000000</td>\n",
       "      <td>0.000000</td>\n",
       "    </tr>\n",
       "    <tr>\n",
       "      <th>25%</th>\n",
       "      <td>1.000000</td>\n",
       "      <td>10.000000</td>\n",
       "      <td>0.000000</td>\n",
       "      <td>1.000000</td>\n",
       "      <td>0.000000</td>\n",
       "      <td>0.000000</td>\n",
       "      <td>14.000000</td>\n",
       "    </tr>\n",
       "    <tr>\n",
       "      <th>50%</th>\n",
       "      <td>3.000000</td>\n",
       "      <td>14.500000</td>\n",
       "      <td>0.000000</td>\n",
       "      <td>2.000000</td>\n",
       "      <td>26.000000</td>\n",
       "      <td>4.000000</td>\n",
       "      <td>32.000000</td>\n",
       "    </tr>\n",
       "    <tr>\n",
       "      <th>75%</th>\n",
       "      <td>3.000000</td>\n",
       "      <td>25.000000</td>\n",
       "      <td>12.000000</td>\n",
       "      <td>3.000000</td>\n",
       "      <td>80.000000</td>\n",
       "      <td>11.000000</td>\n",
       "      <td>90.000000</td>\n",
       "    </tr>\n",
       "    <tr>\n",
       "      <th>max</th>\n",
       "      <td>9.000000</td>\n",
       "      <td>1082.000000</td>\n",
       "      <td>102.000000</td>\n",
       "      <td>37.000000</td>\n",
       "      <td>510.000000</td>\n",
       "      <td>132.000000</td>\n",
       "      <td>510.000000</td>\n",
       "    </tr>\n",
       "  </tbody>\n",
       "</table>\n",
       "</div>"
      ],
      "text/plain": [
       "       groups_count  group_all_count  individuals_count  interventions_count  \\\n",
       "count    101.000000        98.000000         101.000000           101.000000   \n",
       "mean       2.564356        30.836735           8.663366             2.950495   \n",
       "std        1.779977       108.553250          16.527115             5.280864   \n",
       "min        0.000000         4.000000           0.000000             0.000000   \n",
       "25%        1.000000        10.000000           0.000000             1.000000   \n",
       "50%        3.000000        14.500000           0.000000             2.000000   \n",
       "75%        3.000000        25.000000          12.000000             3.000000   \n",
       "max        9.000000      1082.000000         102.000000            37.000000   \n",
       "\n",
       "       outputs_count  timecourses_count  results_count  \n",
       "count     101.000000         101.000000     101.000000  \n",
       "mean       59.356436           8.683168      68.039604  \n",
       "std        89.844597          16.651685      89.274064  \n",
       "min         0.000000           0.000000       0.000000  \n",
       "25%         0.000000           0.000000      14.000000  \n",
       "50%        26.000000           4.000000      32.000000  \n",
       "75%        80.000000          11.000000      90.000000  \n",
       "max       510.000000         132.000000     510.000000  "
      ]
     },
     "execution_count": 275,
     "metadata": {},
     "output_type": "execute_result"
    }
   ],
   "source": []
  }
 ],
 "metadata": {
  "kernelspec": {
   "display_name": "pkdb_analysis",
   "language": "python",
   "name": "pkdb_analysis"
  },
  "language_info": {
   "codemirror_mode": {
    "name": "ipython",
    "version": 3
   },
   "file_extension": ".py",
   "mimetype": "text/x-python",
   "name": "python",
   "nbconvert_exporter": "python",
   "pygments_lexer": "ipython3",
   "version": "3.6.7"
  }
 },
 "nbformat": 4,
 "nbformat_minor": 2
}
