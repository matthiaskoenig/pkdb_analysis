{
 "cells": [
  {
   "cell_type": "code",
   "execution_count": 1,
   "metadata": {},
   "outputs": [
    {
     "ename": "ImportError",
     "evalue": "cannot import name 'ccolors'",
     "output_type": "error",
     "traceback": [
      "\u001b[0;31m---------------------------------------------------------------------------\u001b[0m",
      "\u001b[0;31mImportError\u001b[0m                               Traceback (most recent call last)",
      "\u001b[0;32m<ipython-input-1-6bbb93415ad5>\u001b[0m in \u001b[0;36m<module>\u001b[0;34m()\u001b[0m\n\u001b[1;32m      5\u001b[0m \u001b[0;32mimport\u001b[0m \u001b[0mnumpy\u001b[0m \u001b[0;32mas\u001b[0m \u001b[0mnp\u001b[0m\u001b[0;34m\u001b[0m\u001b[0;34m\u001b[0m\u001b[0m\n\u001b[1;32m      6\u001b[0m \u001b[0mplt\u001b[0m\u001b[0;34m.\u001b[0m\u001b[0mstyle\u001b[0m\u001b[0;34m.\u001b[0m\u001b[0muse\u001b[0m\u001b[0;34m(\u001b[0m\u001b[0;34m'seaborn-whitegrid'\u001b[0m\u001b[0;34m)\u001b[0m\u001b[0;34m\u001b[0m\u001b[0;34m\u001b[0m\u001b[0m\n\u001b[0;32m----> 7\u001b[0;31m \u001b[0;32mfrom\u001b[0m \u001b[0mutils\u001b[0m \u001b[0;32mimport\u001b[0m \u001b[0mPkdbModel\u001b[0m\u001b[0;34m,\u001b[0m \u001b[0mccolors\u001b[0m \u001b[0;34m,\u001b[0m\u001b[0mmarkers\u001b[0m\u001b[0;34m,\u001b[0m \u001b[0mcategory_filter\u001b[0m\u001b[0;34m,\u001b[0m\u001b[0mconvert_unit\u001b[0m\u001b[0;34m,\u001b[0m     \u001b[0mcaffeine_idx\u001b[0m\u001b[0;34m,\u001b[0m\u001b[0mpktype_data\u001b[0m\u001b[0;34m,\u001b[0m\u001b[0mabs_idx\u001b[0m\u001b[0;34m,\u001b[0m\u001b[0mrel_idx\u001b[0m\u001b[0;34m,\u001b[0m\u001b[0mfilter_out\u001b[0m\u001b[0;34m,\u001b[0m\u001b[0mfilter_df\u001b[0m\u001b[0;34m,\u001b[0m\u001b[0mgroup_idx\u001b[0m\u001b[0;34m,\u001b[0m\u001b[0mindividual_idx\u001b[0m\u001b[0;34m\u001b[0m\u001b[0;34m\u001b[0m\u001b[0m\n\u001b[0m\u001b[1;32m      8\u001b[0m \u001b[0;32mfrom\u001b[0m \u001b[0mscipy\u001b[0m \u001b[0;32mimport\u001b[0m \u001b[0mstats\u001b[0m\u001b[0;34m\u001b[0m\u001b[0;34m\u001b[0m\u001b[0m\n\u001b[1;32m      9\u001b[0m \u001b[0;34m\u001b[0m\u001b[0m\n",
      "\u001b[0;31mImportError\u001b[0m: cannot import name 'ccolors'"
     ]
    }
   ],
   "source": [
    "import pandas as pd\n",
    "import seaborn as sns\n",
    "import matplotlib.pyplot as plt\n",
    "from matplotlib.ticker import FormatStrFormatter\n",
    "import numpy as np\n",
    "plt.style.use('seaborn-whitegrid')\n",
    "from utils import PkdbModel, ccolors ,markers, category_filter,convert_unit, \\\n",
    "    caffeine_idx,pktype_data,abs_idx,rel_idx,filter_out,filter_df,group_idx,individual_idx\n",
    "from scipy import stats\n",
    "\n",
    "\n",
    "def _regression(t, c):\n",
    "    \"\"\" Linear regression on the log timecourse after maximal value.\n",
    "    No check is performed if already in equilibrium distribution !.\n",
    "    The linear regression is calculated from all data points after the maximum.\n",
    "\n",
    "    :return:\n",
    "    \"\"\"\n",
    "    # TODO: check for distribution and elimination part of curve.\n",
    "    max_index = np.argmax(c)\n",
    "    # linear regression\n",
    "    x = t[max_index :]\n",
    "    y = np.log(c[max_index :])\n",
    "    if max_index == (len(c) - 1):\n",
    "        return [np.nan] * 6\n",
    "    slope, intercept, r_value, p_value, std_err = stats.linregress(x, y)\n",
    "    return [slope, intercept, r_value, p_value, std_err, max_index]\n",
    "\n"
   ]
  },
  {
   "cell_type": "code",
   "execution_count": null,
   "metadata": {},
   "outputs": [],
   "source": [
    "from pkdb_app.analysis.pharmacokinetic import f_pk"
   ]
  },
  {
   "cell_type": "code",
   "execution_count": null,
   "metadata": {},
   "outputs": [],
   "source": [
    "%load_ext autoreload\n",
    "%autoreload 2"
   ]
  },
  {
   "cell_type": "code",
   "execution_count": null,
   "metadata": {},
   "outputs": [],
   "source": [
    "caffeine_tc = PkdbModel(\"caffeine_timecourse\",destination=\"3-inferred\")\n",
    "caffeine_tc.read()\n",
    "caffeine_tc.to_array()\n",
    "caffeine_timecourse = caffeine_tc.data"
   ]
  },
  {
   "cell_type": "code",
   "execution_count": null,
   "metadata": {},
   "outputs": [],
   "source": [
    "caffeine_timecourse.groupby(('oral contraceptives', 'choice')).get_group('Y')[[\"study\",\"value\",\"mean\",\"unit_intervention\",\"unit\",\"subject_type\",\"time_unit\",\"subject_type\"]]"
   ]
  },
  {
   "cell_type": "code",
   "execution_count": null,
   "metadata": {},
   "outputs": [],
   "source": [
    "r_caffeine_idx = (caffeine_timecourse[\"unit\"]==\"µg/ml\") & (caffeine_timecourse[\"unit_intervention\"]==\"mg\")& (caffeine_timecourse[\"time_unit\"]==\"h\")\n",
    "caffeine_timecourse_abs = caffeine_timecourse[r_caffeine_idx]\n",
    "caffeine_timecourse_abs[\"outlier\"] = False\n",
    "caffeine_timecourse_abs.loc[caffeine_timecourse_abs[\"study\"] == \"Balogh1992\",\"outlier\"] = True"
   ]
  },
  {
   "cell_type": "code",
   "execution_count": null,
   "metadata": {},
   "outputs": [],
   "source": [
    "caffeine_timecourse_abs.groupby(\"study\").get_group(\"Balogh1992\")[[\"time\",\"value\",\"substance_name\",\"value_intervention\",\"time_unit\"]]\n"
   ]
  },
  {
   "cell_type": "code",
   "execution_count": null,
   "metadata": {},
   "outputs": [],
   "source": [
    "def clearance(kwargs):\n",
    "    dose = kwargs[\"value_intervention\"]\n",
    "    t = kwargs[\"time\"]\n",
    "    if kwargs[\"subject_type\"] == \"individual\":\n",
    "        c = kwargs[\"value\"]\n",
    "    else:\n",
    "        c = kwargs[\"mean\"]\n",
    "    [slope, intercept, r_value, p_value, std_err,max_index] =_regression(t,c)\n",
    "    vd = dose/np.exp(intercept)\n",
    "    kel = -slope\n",
    "    clearance = kel*vd\n",
    "    return clearance\n",
    "    \n",
    "    \n",
    "\n",
    "    "
   ]
  },
  {
   "cell_type": "code",
   "execution_count": null,
   "metadata": {},
   "outputs": [],
   "source": [
    "caffeine_timecourse_abs[\"clearance\"] = caffeine_timecourse_abs.apply(lambda x: clearance(x),axis=1)\n",
    "caffeine_timecourse_bal = caffeine_timecourse_abs.groupby(\"study\").get_group(\"Balogh1992\") \n",
    "caffeine_clr =  PkdbModel(\"caffeine_clearance\",destination=\"3-inferred\")\n",
    "caffeine_clr.read()\n",
    "caffeine_clearance = caffeine_clr.data\n",
    "caffeine_clearance_idx = (caffeine_clearance[\"unit_intervention\"]==\"mg\") & (caffeine_clearance[\"unit\"]==\"l/h\")\n",
    "caffeine_clearance = caffeine_clearance[caffeine_clearance_idx]\n",
    "caffeine_clearance[\"clearance\"] = caffeine_clearance[\"value\"]\n",
    "caffeine_clearance_bal = caffeine_clearance.groupby(\"study\").get_group(\"Balogh1992\")\n",
    "print(len(caffeine_clearance_bal))\n",
    "print(len(caffeine_timecourse_bal))\n",
    "\n",
    "caffeine_clearance_concat = pd.concat([caffeine_timecourse_bal,caffeine_clearance_bal], ignore_index=True)"
   ]
  },
  {
   "cell_type": "code",
   "execution_count": null,
   "metadata": {},
   "outputs": [],
   "source": [
    "sns.swarmplot(x=\"subject_pk\", y=\"clearance\", hue=\"output_type\",\n",
    "              palette=[\"r\", \"c\"], data=caffeine_clearance_concat)"
   ]
  },
  {
   "cell_type": "code",
   "execution_count": null,
   "metadata": {},
   "outputs": [],
   "source": [
    "caffeine_clearance_bal[[\"clearance\",\"unit\",\"value_intervention\",\"unit_intervention\", \"subject_pk\"]].head()"
   ]
  },
  {
   "cell_type": "code",
   "execution_count": null,
   "metadata": {},
   "outputs": [],
   "source": [
    "caffeine_timecourse_bal[[\"clearance\",\"unit\",\"value_intervention\",\"unit_intervention\", \"subject_pk\"]].head()"
   ]
  },
  {
   "cell_type": "code",
   "execution_count": null,
   "metadata": {},
   "outputs": [],
   "source": []
  },
  {
   "cell_type": "code",
   "execution_count": null,
   "metadata": {},
   "outputs": [],
   "source": [
    "caffeine_timecourse_abs.groupby([\"unit\",\"unit_intervention\",\"time_unit\",\"subject_type\"]).count()\n"
   ]
  },
  {
   "cell_type": "code",
   "execution_count": null,
   "metadata": {},
   "outputs": [],
   "source": [
    "#ns.lineplot(x=\"time\", y=\"mean\",data=caffeine_timecourse_relative)\n",
    "# caffeine clearance\n",
    "fig, ax, = plt.subplots(nrows=1, ncols=1, figsize=(15, 7.5))\n",
    "\n",
    "\n",
    "df = caffeine_timecourse_abs[ individual_idx(caffeine_timecourse_abs)]\n",
    "df_group = caffeine_timecourse_abs[ group_idx(caffeine_timecourse_abs)]\n",
    "\n",
    "for category in ccolors:\n",
    "    cf_filter = category_filter[category]\n",
    "    df_category = filter_df(cf_filter,df)\n",
    "    for idx,row in df_category.iterrows():\n",
    "        x = row[\"time\"]\n",
    "        y = row[\"value\"]/row[\"value_intervention\"]\n",
    "\n",
    "        ax.plot(x, y,color=ccolors[category], linestyle=\"--\", alpha=0.3,label=None)#marker=markers[category],\n",
    "        #units = df_category[\"unit\"].unique()\n",
    "        #unit_intervention = df_category[\"unit_intervention\"].unique()\n",
    "\n",
    "\n",
    "        ax.yaxis.set_major_formatter(FormatStrFormatter('%.2f'))\n",
    "\n",
    "\n",
    "\n",
    "    df_category = filter_df(cf_filter,df_group)\n",
    "    df_category = df_category[df_category[\"mean\"].notnull()]\n",
    "    for idx,row in df_category.iterrows():\n",
    "        x = row[\"time\"]\n",
    "        y = row[\"mean\"]/row[\"value_intervention\"]\n",
    "        y_err = row[\"se\"]/row[\"value_intervention\"]\n",
    "        ax.errorbar(x, y,yerr=y_err,color=ccolors[category], alpha=0.6,label=None)#marker=markers[category],\n",
    "        #units = df_category[\"unit\"].unique()\n",
    "        #unit_intervention = df_category[\"unit_intervention\"].unique()\n",
    "\n",
    "\n",
    "    #x_group = df_category[\"time\"]\n",
    "    #y_group = df_category[\"mean\"]\n",
    "    #count_group = list(df_category[(\"weight\",\"count\")])\n",
    "\n",
    "\n",
    "\n",
    "ax.set_title('Concentrations')\n",
    "ax.set_xlim(left=0)\n",
    "ax.set_yscale(\"log\")\n",
    "ax.set_ylim(bottom=0)\n",
    "#ax.legend()\n"
   ]
  },
  {
   "cell_type": "code",
   "execution_count": null,
   "metadata": {},
   "outputs": [],
   "source": [
    "caffeine_timecourse_relative[\"study\"].unique()"
   ]
  },
  {
   "cell_type": "code",
   "execution_count": null,
   "metadata": {},
   "outputs": [],
   "source": [
    "caffeine_tc.data.groupby([\"subject_type\",\"study\"]).apply(lambda x : len(x[\"pk\"].unique()))"
   ]
  },
  {
   "cell_type": "code",
   "execution_count": null,
   "metadata": {},
   "outputs": [],
   "source": []
  }
 ],
 "metadata": {
  "kernelspec": {
   "display_name": "pkdb_analysis",
   "language": "python",
   "name": "pkdb_analysis"
  },
  "language_info": {
   "codemirror_mode": {
    "name": "ipython",
    "version": 3
   },
   "file_extension": ".py",
   "mimetype": "text/x-python",
   "name": "python",
   "nbconvert_exporter": "python",
   "pygments_lexer": "ipython3",
   "version": "3.6.7"
  }
 },
 "nbformat": 4,
 "nbformat_minor": 2
}
