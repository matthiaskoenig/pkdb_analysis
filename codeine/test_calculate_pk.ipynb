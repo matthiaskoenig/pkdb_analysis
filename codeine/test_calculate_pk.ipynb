{
 "cells": [
  {
   "cell_type": "code",
   "execution_count": 228,
   "metadata": {},
   "outputs": [],
   "source": [
    "import pharmacokinetic as pk\n",
    "import numpy as np\n",
    "import matplotlib.pyplot as plt\n",
    "from scipy.interpolate import interp1d\n",
    "import sympy as sym\n"
   ]
  },
  {
   "cell_type": "code",
   "execution_count": 229,
   "metadata": {},
   "outputs": [
    {
     "name": "stdout",
     "output_type": "stream",
     "text": [
      "The autoreload extension is already loaded. To reload it, use:\n",
      "  %reload_ext autoreload\n"
     ]
    }
   ],
   "source": [
    "%load_ext autoreload\n",
    "%autoreload 2"
   ]
  },
  {
   "cell_type": "code",
   "execution_count": 230,
   "metadata": {},
   "outputs": [],
   "source": [
    "t = np.array([ 0.,    0.25,  0.5,   1. ,   2. ,   3.,    4.,    6. ,   8.  , 10.  , 12. ,  24.  ])\n",
    "c = np.array([0.00e+00, 1.33e-03, 1.64e-03, 1.55e-03, 8.56e-04, 5.98e-04, 4.37e-04, 2.50e-04, 1.78e-04, 1.33e-04, 1.06e-04, 2.57e-05])\n",
    "bodyweight = None\n",
    "internvention_unit = \"gram\"\n",
    "intervention_value = 0.03"
   ]
  },
  {
   "cell_type": "code",
   "execution_count": 231,
   "metadata": {},
   "outputs": [
    {
     "data": {
      "text/plain": [
       "<scipy.interpolate.interpolate.interp1d at 0x7f262653e818>"
      ]
     },
     "execution_count": 231,
     "metadata": {},
     "output_type": "execute_result"
    }
   ],
   "source": [
    "interp1d(t,c)"
   ]
  },
  {
   "cell_type": "code",
   "execution_count": 232,
   "metadata": {},
   "outputs": [
    {
     "data": {
      "text/plain": [
       "{'compound': 'codeine',\n",
       " 'dose': 0.03,\n",
       " 'dose_unit': 'gram',\n",
       " 'bodyweight': None,\n",
       " 'bodyweight_unit': 'kg',\n",
       " 'auc': 0.0062377000000000005,\n",
       " 'auc_unit': '(mg/L)*(h)',\n",
       " 'aucinf': 0.006341535037437155,\n",
       " 'aucinf_unit': '(mg/L)*(h)',\n",
       " 'tmax': 0.5,\n",
       " 'tmax_unit': 'h',\n",
       " 'cmax': 0.00164,\n",
       " 'cmax_unit': 'mg/L',\n",
       " 'tmaxhalf': 0.25,\n",
       " 'tmaxhalf_unit': 'h',\n",
       " 'cmaxhalf': 0.00133,\n",
       " 'cmaxhalf_unit': 'mg/L',\n",
       " 'kel': 0.16707979946415216,\n",
       " 'kel_unit': '1/(h)',\n",
       " 'thalf': 4.148599548137856,\n",
       " 'thalf_unit': 'h',\n",
       " 'vd': 31.359515688532664,\n",
       " 'vd_unit': 'L',\n",
       " 'cl': 5.239541592532971,\n",
       " 'cl_unit': '(L)/(h)',\n",
       " 'slope': -0.16707979946415216,\n",
       " 'intercept': -6.9520756490774716,\n",
       " 'r_value': -0.9583994325049597,\n",
       " 'p_value': 4.6418084068862605e-05,\n",
       " 'std_err': 0.018807394845471902,\n",
       " 'max_idx': 2}"
      ]
     },
     "execution_count": 232,
     "metadata": {},
     "output_type": "execute_result"
    }
   ],
   "source": [
    "pk.f_pk(t=t,c=c,compound=\"codeine\",dose=intervention_value,dose_unit=\"gram\",bodyweight=bodyweight,)\n"
   ]
  },
  {
   "cell_type": "code",
   "execution_count": 227,
   "metadata": {},
   "outputs": [],
   "source": [
    "#t = np.array([ 1,    2,  3,   4. ,   6. ,   8.,    10.,  24   ])\n",
    "#c = np.array([11.07, 9.03,6.43, 5.03, 2.87, 1.65, 1.25, 0.26])"
   ]
  },
  {
   "cell_type": "code",
   "execution_count": 159,
   "metadata": {},
   "outputs": [
    {
     "data": {
      "text/plain": [
       "{'compound': 'caffeine',\n",
       " 'dose': nan,\n",
       " 'dose_unit': 'mg',\n",
       " 'bodyweight': nan,\n",
       " 'bodyweight_unit': 'kg',\n",
       " 'auc': 49.400000000000006,\n",
       " 'auc_unit': '(mg/L)*(h)',\n",
       " 'aucinf': 119.42518738871459,\n",
       " 'aucinf_unit': '(mg/L)*(h)',\n",
       " 'tmax': 1.0,\n",
       " 'tmax_unit': 'h',\n",
       " 'cmax': 11.07,\n",
       " 'cmax_unit': 'mg/L',\n",
       " 'tmaxhalf': nan,\n",
       " 'tmaxhalf_unit': 'h',\n",
       " 'cmaxhalf': nan,\n",
       " 'cmaxhalf_unit': 'mg/L',\n",
       " 'kel': 0.1556604271615078,\n",
       " 'kel_unit': '1/(h)',\n",
       " 'thalf': 4.45294409889265,\n",
       " 'thalf_unit': 'h',\n",
       " 'vd': nan,\n",
       " 'vd_unit': 'L',\n",
       " 'cl': nan,\n",
       " 'cl_unit': '(L)/(h)',\n",
       " 'slope': -0.1556604271615078,\n",
       " 'intercept': 2.140106922718233,\n",
       " 'r_value': -0.9681077596158681,\n",
       " 'p_value': 0.00034293023351267304,\n",
       " 'std_err': 0.018015091234375717,\n",
       " 'max_idx': 0}"
      ]
     },
     "execution_count": 159,
     "metadata": {},
     "output_type": "execute_result"
    }
   ],
   "source": [
    "pk.f_pk(t=t,c=c,compound=\"caffeine\")"
   ]
  },
  {
   "cell_type": "code",
   "execution_count": 89,
   "metadata": {},
   "outputs": [
    {
     "ename": "NameError",
     "evalue": "name 'auc' is not defined",
     "output_type": "error",
     "traceback": [
      "\u001b[0;31m---------------------------------------------------------------------------\u001b[0m",
      "\u001b[0;31mNameError\u001b[0m                                 Traceback (most recent call last)",
      "\u001b[0;32m<ipython-input-89-7070b677c02f>\u001b[0m in \u001b[0;36m<module>\u001b[0;34m()\u001b[0m\n\u001b[0;32m----> 1\u001b[0;31m \u001b[0mauc\u001b[0m\u001b[0;34m\u001b[0m\u001b[0;34m\u001b[0m\u001b[0m\n\u001b[0m",
      "\u001b[0;31mNameError\u001b[0m: name 'auc' is not defined"
     ]
    }
   ],
   "source": []
  },
  {
   "cell_type": "code",
   "execution_count": 43,
   "metadata": {},
   "outputs": [
    {
     "data": {
      "text/plain": [
       "-7.706698296049"
      ]
     },
     "execution_count": 43,
     "metadata": {},
     "output_type": "execute_result"
    }
   ],
   "source": [
    "intercept"
   ]
  },
  {
   "cell_type": "code",
   "execution_count": 44,
   "metadata": {},
   "outputs": [
    {
     "data": {
      "text/plain": [
       "-3.6634931584654846"
      ]
     },
     "execution_count": 44,
     "metadata": {},
     "output_type": "execute_result"
    }
   ],
   "source": []
  },
  {
   "cell_type": "code",
   "execution_count": 52,
   "metadata": {},
   "outputs": [
    {
     "name": "stdout",
     "output_type": "stream",
     "text": [
      "Maximum value 0.0016388839268441538 at 0.4963338192593272\n",
      "Minimum value -0.00015460604062789553 at 19.174476387059517\n"
     ]
    }
   ],
   "source": [
    "from scipy.interpolate import InterpolatedUnivariateSpline, CubicSpline\n",
    "def quadratic_spline_roots(spl):\n",
    "    roots = []\n",
    "    knots = spl.get_knots()\n",
    "    for a, b in zip(knots[:-1], knots[1:]):\n",
    "        u, v, w = spl(a), spl((a+b)/2), spl(b)\n",
    "        t = np.roots([u+w-2*v, w-u, 2*v])\n",
    "        t = t[np.isreal(t) & (np.abs(t) <= 1)]\n",
    "        roots.extend(t*(b-a)/2 + (b+a)/2)\n",
    "    return np.array(roots)\n",
    "\n",
    "f = InterpolatedUnivariateSpline(t, c, k=4)\n",
    "cr_pts = quadratic_spline_roots(f.derivative())\n",
    "cr_pts = np.append(cr_pts, (t[0], t[-1]))  # also check the endpoints of the interval\n",
    "cr_vals = f(cr_pts)\n",
    "min_index = np.argmin(cr_vals)\n",
    "max_index = np.argmax(cr_vals)\n",
    "print(\"Maximum value {} at {}\\nMinimum value {} at {}\".format(cr_vals[max_index], cr_pts[max_index], cr_vals[min_index], cr_pts[min_index]))"
   ]
  },
  {
   "cell_type": "code",
   "execution_count": 56,
   "metadata": {},
   "outputs": [],
   "source": [
    "[slope, intercept, r_value, p_value, std_err, max_index] = pk._regression(t,c)\n",
    "auc_d = -intercept / slope * np.exp(slope * t[-1])\n"
   ]
  },
  {
   "cell_type": "code",
   "execution_count": null,
   "metadata": {},
   "outputs": [],
   "source": [
    "auc"
   ]
  },
  {
   "cell_type": "code",
   "execution_count": 103,
   "metadata": {},
   "outputs": [],
   "source": [
    "auc_rest = c[-1]/-slope"
   ]
  },
  {
   "cell_type": "code",
   "execution_count": 104,
   "metadata": {},
   "outputs": [
    {
     "data": {
      "text/plain": [
       "0.00021505655332268044"
      ]
     },
     "execution_count": 104,
     "metadata": {},
     "output_type": "execute_result"
    }
   ],
   "source": [
    "auc_rest"
   ]
  },
  {
   "cell_type": "code",
   "execution_count": 86,
   "metadata": {},
   "outputs": [
    {
     "data": {
      "text/plain": [
       "-3.6634931584654846"
      ]
     },
     "execution_count": 86,
     "metadata": {},
     "output_type": "execute_result"
    }
   ],
   "source": [
    "auc_d = -intercept / slope * np.exp(slope * t[-1])\n",
    "auc_d"
   ]
  },
  {
   "cell_type": "code",
   "execution_count": 132,
   "metadata": {},
   "outputs": [
    {
     "data": {
      "text/plain": [
       "<matplotlib.legend.Legend at 0x7f2628823eb8>"
      ]
     },
     "execution_count": 132,
     "metadata": {},
     "output_type": "execute_result"
    },
    {
     "data": {
      "image/png": "[encoded data removed]",
      "text/plain": [
       "<Figure size 1440x1440 with 1 Axes>"
      ]
     },
     "metadata": {
      "needs_background": "light"
     },
     "output_type": "display_data"
    }
   ],
   "source": [
    "plt.subplots(figsize=(20,20))\n",
    "plt.plot(t,c, 'bo')\n",
    "t_n = np.linspace(0,24,num=150)\n",
    "f2 = interp1d(t,c, kind='cubic')\n",
    "cs = CubicSpline(t,c,bc_type='natural')\n",
    "\n",
    "#plt.plot(t_n,f(t_n))\n",
    "plt.plot(t_n,f2(t_n,), label=\"inter1\")\n",
    "plt.plot(t_n,cs(t_n), label=\"spline\")\n",
    "plt.plot(t,np.exp(intercept) * np.exp(slope * t), \"--\")\n",
    "\n",
    "plt.legend()"
   ]
  },
  {
   "cell_type": "code",
   "execution_count": 109,
   "metadata": {},
   "outputs": [
    {
     "data": {
      "text/plain": [
       "-0.0014706907124727975"
      ]
     },
     "execution_count": 109,
     "metadata": {},
     "output_type": "execute_result"
    }
   ],
   "source": [
    "auc_d = -intercept / slope * np.exp(slope) * c[-1]\n",
    "auc_d = "
   ]
  },
  {
   "cell_type": "code",
   "execution_count": 139,
   "metadata": {},
   "outputs": [
    {
     "data": {
      "text/plain": [
       "8.041482501768655e-07"
      ]
     },
     "execution_count": 139,
     "metadata": {},
     "output_type": "execute_result"
    }
   ],
   "source": [
    "np.exp(intercept) - 0.000449"
   ]
  },
  {
   "cell_type": "code",
   "execution_count": 140,
   "metadata": {},
   "outputs": [
    {
     "data": {
      "text/plain": [
       "[<matplotlib.lines.Line2D at 0x7f26285ea2e8>]"
      ]
     },
     "execution_count": 140,
     "metadata": {},
     "output_type": "execute_result"
    },
    {
     "data": {
      "image/png": "[encoded data removed]",
      "text/plain": [
       "<Figure size 432x288 with 1 Axes>"
      ]
     },
     "metadata": {
      "needs_background": "light"
     },
     "output_type": "display_data"
    }
   ],
   "source": [
    "plt.plot(t,0.000449*np.exp(slope*t))\n",
    "plt.plot(t,np.exp(intercept) * np.exp(slope * t), \"--\")\n"
   ]
  },
  {
   "cell_type": "code",
   "execution_count": 238,
   "metadata": {},
   "outputs": [
    {
     "data": {
      "text/plain": [
       "-8.41631061371889"
      ]
     },
     "execution_count": 238,
     "metadata": {},
     "output_type": "execute_result"
    }
   ],
   "source": [
    "slope_tend = -np.exp(intercept)*slope * np.exp(slope * t[-1])\n",
    "delta_t = -c[-1]/slope_tend\n",
    "\n",
    "#(delta_t*c[-1])/2\n",
    "delta_t"
   ]
  },
  {
   "cell_type": "code",
   "execution_count": 239,
   "metadata": {},
   "outputs": [
    {
     "data": {
      "text/plain": [
       "3.053594523722553e-06"
      ]
     },
     "execution_count": 239,
     "metadata": {},
     "output_type": "execute_result"
    }
   ],
   "source": [
    "-c[-1]/slope\n",
    "slope_tend"
   ]
  },
  {
   "cell_type": "code",
   "execution_count": 233,
   "metadata": {},
   "outputs": [
    {
     "data": {
      "text/plain": [
       "0.00021505655332268044"
      ]
     },
     "execution_count": 233,
     "metadata": {},
     "output_type": "execute_result"
    }
   ],
   "source": [
    "auc_d = (-c[-1] / slope) * 1\n",
    "auc_d"
   ]
  },
  {
   "cell_type": "code",
   "execution_count": 55,
   "metadata": {},
   "outputs": [
    {
     "ename": "TypeError",
     "evalue": "__call__() missing 1 required positional argument: 'x'",
     "output_type": "error",
     "traceback": [
      "\u001b[0;31m---------------------------------------------------------------------------\u001b[0m",
      "\u001b[0;31mTypeError\u001b[0m                                 Traceback (most recent call last)",
      "\u001b[0;32m<ipython-input-55-6384dad270be>\u001b[0m in \u001b[0;36m<module>\u001b[0;34m()\u001b[0m\n\u001b[0;32m----> 1\u001b[0;31m \u001b[0mcs\u001b[0m\u001b[0;34m(\u001b[0m\u001b[0;34m)\u001b[0m\u001b[0;34m\u001b[0m\u001b[0;34m\u001b[0m\u001b[0m\n\u001b[0m",
      "\u001b[0;31mTypeError\u001b[0m: __call__() missing 1 required positional argument: 'x'"
     ]
    }
   ],
   "source": [
    "cs()"
   ]
  },
  {
   "cell_type": "code",
   "execution_count": 199,
   "metadata": {},
   "outputs": [],
   "source": [
    "timecourse_data = {\n",
    "\n",
    "\"mean\": [\n",
    "np.nan,\n",
    "9.84e-06,\n",
    "8.54e-06,\n",
    "7.74e-06,\n",
    "6.20e-06,\n",
    "5.15e-06,\n",
    "4.34e-06,\n",
    "3.41e-06,\n",
    "3.02e-06,\n",
    "1.80e-06,\n",
    "1.25e-06,\n",
    "7.40e-07\n",
    "],\n",
    "\"sd\": [\n",
    "None,\n",
    "\"1.14e-06\",\n",
    "\"9.00e-07\",\n",
    "\"1.19e-06\",\n",
    "\"1.42e-06\",\n",
    "\"1.64e-06\",\n",
    "\"1.71e-06\",\n",
    "\"1.76e-06\",\n",
    "\"1.60e-06\",\n",
    "\"1.21e-06\",\n",
    "\"7.00e-07\",\n",
    "\"4.60e-07\"\n",
    "],\n",
    "\"se\": [\n",
    "None,\n",
    "\"4.65e-07\",\n",
    "\"3.67e-07\",\n",
    "\"4.86e-07\",\n",
    "\"5.80e-07\",\n",
    "\"6.70e-07\",\n",
    "\"6.98e-07\",\n",
    "\"7.19e-07\",\n",
    "\"6.53e-07\",\n",
    "\"4.94e-07\",\n",
    "\"2.86e-07\",\n",
    "\"1.88e-07\"\n",
    "],\n",
    "\"cv\": [\n",
    "None,\n",
    "\"1.16e-01\",\n",
    "\"1.05e-01\",\n",
    "\"1.54e-01\",\n",
    "\"2.29e-01\",\n",
    "\"3.18e-01\",\n",
    "\"3.94e-01\",\n",
    "\"5.16e-01\",\n",
    "\"5.30e-01\",\n",
    "\"6.72e-01\",\n",
    "\"5.60e-01\",\n",
    "\"6.22e-01\"\n",
    "],\n",
    "\"unit\": \"mole / liter\",\n",
    "\"tissue\": \"saliva\",\n",
    "\"time\": [\n",
    "1.00e+00,\n",
    "2.00e+00,\n",
    "3.00e+00,\n",
    "4.00e+00,\n",
    "6.00e+00,\n",
    "8.00e+00,\n",
    "1.00e+01,\n",
    "1.20e+01,\n",
    "1.40e+01,\n",
    "2.40e+01,\n",
    "3.20e+01,\n",
    "4.80e+01\n",
    "],\n",
    "\"time_unit\": \"hr\",\n",
    "}"
   ]
  },
  {
   "cell_type": "code",
   "execution_count": 200,
   "metadata": {},
   "outputs": [
    {
     "data": {
      "text/plain": [
       "{'compound': 'caffeine',\n",
       " 'dose': nan,\n",
       " 'dose_unit': 'mg',\n",
       " 'bodyweight': nan,\n",
       " 'bodyweight_unit': 'kg',\n",
       " 'auc': nan,\n",
       " 'auc_unit': '(mg/L)*(h)',\n",
       " 'aucinf': nan,\n",
       " 'aucinf_unit': '(mg/L)*(h)',\n",
       " 'tmax': 1.0,\n",
       " 'tmax_unit': 'h',\n",
       " 'cmax': nan,\n",
       " 'cmax_unit': 'mg/L',\n",
       " 'tmaxhalf': nan,\n",
       " 'tmaxhalf_unit': 'h',\n",
       " 'cmaxhalf': nan,\n",
       " 'cmaxhalf_unit': 'mg/L',\n",
       " 'kel': 0.05649785850947921,\n",
       " 'kel_unit': '1/(h)',\n",
       " 'thalf': 12.26855670013845,\n",
       " 'thalf_unit': 'h',\n",
       " 'vd': nan,\n",
       " 'vd_unit': 'L',\n",
       " 'cl': nan,\n",
       " 'cl_unit': '(L)/(h)',\n",
       " 'slope': -0.05649785850947921,\n",
       " 'intercept': -11.682784744831093,\n",
       " 'r_value': -0.9731400875841281,\n",
       " 'p_value': 4.803949695358867e-07,\n",
       " 'std_err': 0.004455194049335189,\n",
       " 'max_idx': 0}"
      ]
     },
     "execution_count": 200,
     "metadata": {},
     "output_type": "execute_result"
    }
   ],
   "source": [
    "pk.f_pk(t = np.array(timecourse_data[\"time\"]), c = np.array(timecourse_data[\"mean\"]),compound=\"caffeine\")"
   ]
  },
  {
   "cell_type": "code",
   "execution_count": 243,
   "metadata": {},
   "outputs": [
    {
     "name": "stdout",
     "output_type": "stream",
     "text": [
      "220.41201140449962\n",
      "240.15659347619857\n",
      "240.15659347619857\n",
      "240.20122349776526\n"
     ]
    },
    {
     "data": {
      "image/png": "[encoded data removed]",
      "text/plain": [
       "<Figure size 432x288 with 1 Axes>"
      ]
     },
     "metadata": {
      "needs_background": "light"
     },
     "output_type": "display_data"
    }
   ],
   "source": [
    "el = 3.47e-03*60\n",
    "c1 = 50\n",
    "t = np.linspace(0,12,200)\n",
    "t_inf = np.linspace(0,50,200)\n",
    "def f(t):\n",
    "    return c1 * np.exp(-el*t)\n",
    "plt.plot(t, f(t))\n",
    "\n",
    "\n",
    "#auc_rest = (c1/el)*np.exp(-el*t[-1])\n",
    "#print(auc_rest + pk._auc(t, f(t)))\n",
    "print(pk._auc(t, f(t)))\n",
    "auc_d = f(t[-1])/pk._kel(t,f(t))\n",
    "\n",
    "print(pk._auc(t, f(t)) + auc_d)\n",
    "print(pk._aucinf(t, f(t)))\n",
    "\n",
    "print(pk._auc(t_inf, f(t_inf)))\n",
    "\n",
    "#kel =  pk._kel(t, f(t))\n",
    "#print(kel)\n",
    "#auc_d =  (c1 / kel) * np.exp(- kel * t[-1])\n",
    "#print(auc_d)"
   ]
  },
  {
   "cell_type": "code",
   "execution_count": 174,
   "metadata": {},
   "outputs": [
    {
     "name": "stderr",
     "output_type": "stream",
     "text": [
      "/home/janekg89/Develop/Pycharm_Projects/pkdb_analysis/codeine/pharmacokinetic.py:80: UserWarning: Regression could not be calculated on timecourse curve.\n",
      "  warnings.warn(\"Regression could not be calculated on timecourse curve.\")\n"
     ]
    },
    {
     "data": {
      "text/plain": [
       "{'compound': 'caffeine',\n",
       " 'dose': nan,\n",
       " 'dose_unit': 'mg',\n",
       " 'bodyweight': nan,\n",
       " 'bodyweight_unit': 'kg',\n",
       " 'auc': nan,\n",
       " 'auc_unit': '(mg/L)*(h)',\n",
       " 'aucinf': nan,\n",
       " 'aucinf_unit': '(mg/L)*(h)',\n",
       " 'tmax': 32.0,\n",
       " 'tmax_unit': 'h',\n",
       " 'cmax': nan,\n",
       " 'cmax_unit': 'mg/L',\n",
       " 'tmaxhalf': 1.0,\n",
       " 'tmaxhalf_unit': 'h',\n",
       " 'cmaxhalf': 8.39e-06,\n",
       " 'cmaxhalf_unit': 'mg/L',\n",
       " 'kel': nan,\n",
       " 'kel_unit': '1/(h)',\n",
       " 'thalf': nan,\n",
       " 'thalf_unit': 'h',\n",
       " 'vd': nan,\n",
       " 'vd_unit': 'L',\n",
       " 'cl': nan,\n",
       " 'cl_unit': '(L)/(h)',\n",
       " 'slope': nan,\n",
       " 'intercept': nan,\n",
       " 'r_value': nan,\n",
       " 'p_value': nan,\n",
       " 'std_err': nan,\n",
       " 'max_idx': nan}"
      ]
     },
     "execution_count": 174,
     "metadata": {},
     "output_type": "execute_result"
    }
   ],
   "source": [
    "pk.f_pk(t =t, c = c,compound=\"caffeine\")"
   ]
  },
  {
   "cell_type": "code",
   "execution_count": 177,
   "metadata": {},
   "outputs": [
    {
     "data": {
      "text/plain": [
       "0"
      ]
     },
     "execution_count": 177,
     "metadata": {},
     "output_type": "execute_result"
    }
   ],
   "source": [
    "np.nanargmax(c)\n"
   ]
  },
  {
   "cell_type": "code",
   "execution_count": null,
   "metadata": {},
   "outputs": [],
   "source": []
  }
 ],
 "metadata": {
  "kernelspec": {
   "display_name": "pkdb_analysis",
   "language": "python",
   "name": "pkdb_analysis"
  },
  "language_info": {
   "codemirror_mode": {
    "name": "ipython",
    "version": 3
   },
   "file_extension": ".py",
   "mimetype": "text/x-python",
   "name": "python",
   "nbconvert_exporter": "python",
   "pygments_lexer": "ipython3",
   "version": "3.6.7"
  }
 },
 "nbformat": 4,
 "nbformat_minor": 2
}
